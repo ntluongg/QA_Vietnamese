{
 "cells": [
  {
   "cell_type": "code",
   "execution_count": 1,
   "id": "d9855fd5-73c4-4ccf-b39f-29290e36abaf",
   "metadata": {},
   "outputs": [],
   "source": [
    "from transformers import BertTokenizer\n",
    "from transformers import BertConfig\n",
    "from train_bert import *\n",
    "from BERT_model import *"
   ]
  },
  {
   "cell_type": "code",
   "execution_count": 2,
   "id": "f236f4b3-5360-40d4-9818-3f65f6a19603",
   "metadata": {},
   "outputs": [
    {
     "name": "stderr",
     "output_type": "stream",
     "text": [
      "\u001b[34m\u001b[1mwandb\u001b[0m: Currently logged in as: \u001b[33mntluong\u001b[0m. Use \u001b[1m`wandb login --relogin`\u001b[0m to force relogin\n",
      "\u001b[34m\u001b[1mwandb\u001b[0m: \u001b[33mWARNING\u001b[0m If you're specifying your api key in code, ensure this code is not shared publicly.\n",
      "\u001b[34m\u001b[1mwandb\u001b[0m: \u001b[33mWARNING\u001b[0m Consider setting the WANDB_API_KEY environment variable, or running `wandb login` from the command line.\n",
      "\u001b[34m\u001b[1mwandb\u001b[0m: Appending key for api.wandb.ai to your netrc file: C:\\Users\\ADMIN/.netrc\n"
     ]
    },
    {
     "data": {
      "text/plain": [
       "True"
      ]
     },
     "execution_count": 2,
     "metadata": {},
     "output_type": "execute_result"
    }
   ],
   "source": [
    "import wandb\n",
    "wandb.login(key = \"e4b97c6dcdac05b469bd619b1094adee24c24700\")"
   ]
  },
  {
   "cell_type": "code",
   "execution_count": 3,
   "id": "5de97a54-47ff-43f2-9363-9dd775d1c6b8",
   "metadata": {},
   "outputs": [
    {
     "data": {
      "text/html": [
       "Tracking run with wandb version 0.16.1"
      ],
      "text/plain": [
       "<IPython.core.display.HTML object>"
      ]
     },
     "metadata": {},
     "output_type": "display_data"
    },
    {
     "data": {
      "text/html": [
       "Run data is saved locally in <code>C:\\Users\\ADMIN\\Documents\\GitHub\\QA_Vietnamese\\train\\model\\wandb\\run-20231221_030933-nqv87qhd</code>"
      ],
      "text/plain": [
       "<IPython.core.display.HTML object>"
      ]
     },
     "metadata": {},
     "output_type": "display_data"
    },
    {
     "data": {
      "text/html": [
       "Syncing run <strong><a href='https://wandb.ai/ntluong/Bert_zalo/runs/nqv87qhd' target=\"_blank\">rosy-sponge-4</a></strong> to <a href='https://wandb.ai/ntluong/Bert_zalo' target=\"_blank\">Weights & Biases</a> (<a href='https://wandb.me/run' target=\"_blank\">docs</a>)<br/>"
      ],
      "text/plain": [
       "<IPython.core.display.HTML object>"
      ]
     },
     "metadata": {},
     "output_type": "display_data"
    },
    {
     "data": {
      "text/html": [
       " View project at <a href='https://wandb.ai/ntluong/Bert_zalo' target=\"_blank\">https://wandb.ai/ntluong/Bert_zalo</a>"
      ],
      "text/plain": [
       "<IPython.core.display.HTML object>"
      ]
     },
     "metadata": {},
     "output_type": "display_data"
    },
    {
     "data": {
      "text/html": [
       " View run at <a href='https://wandb.ai/ntluong/Bert_zalo/runs/nqv87qhd' target=\"_blank\">https://wandb.ai/ntluong/Bert_zalo/runs/nqv87qhd</a>"
      ],
      "text/plain": [
       "<IPython.core.display.HTML object>"
      ]
     },
     "metadata": {},
     "output_type": "display_data"
    },
    {
     "data": {
      "text/html": [
       "<button onClick=\"this.nextSibling.style.display='block';this.style.display='none';\">Display W&B run</button><iframe src='https://wandb.ai/ntluong/Bert_zalo/runs/nqv87qhd?jupyter=true' style='border:none;width:100%;height:420px;display:none;'></iframe>"
      ],
      "text/plain": [
       "<wandb.sdk.wandb_run.Run at 0x25adc2ee810>"
      ]
     },
     "execution_count": 3,
     "metadata": {},
     "output_type": "execute_result"
    }
   ],
   "source": [
    "wandb.init(\n",
    "    project = 'Bert_zalo',\n",
    "    config = {\n",
    "        'learning_rate': 0.00001,\n",
    "        'architecture': 'bert',\n",
    "        'dataset': 'Squadv2 zalo',\n",
    "        'epoch': 50\n",
    "    }\n",
    ")"
   ]
  },
  {
   "cell_type": "code",
   "execution_count": 4,
   "id": "5e5a394c-fa0c-4daf-a4c8-743199608cfb",
   "metadata": {},
   "outputs": [],
   "source": [
    "class Args:\n",
    "    do_lower_case = True\n",
    "    folder_model = 'pretrain_uncased'\n",
    "\n",
    "    path_input_train_data = \"../dataset/data/train_test_origin_1k_dev.csv\"\n",
    "    path_input_test_data = None\n",
    "    path_input_validation_data = \"../dataset/data/val_origin_1k.csv\"\n",
    "\n",
    "    load_data_from_pt = False\n",
    "    path_pt_train_dataset = \"../dataset/torch_dataset/train_test_origin_1k_dev.pt\"\n",
    "    path_pt_test_dataset = None\n",
    "    path_pt_validation_dataset = \"../dataset/torch_dataset/val_origin_1k.pt\"\n",
    "\n",
    "    path_log_file = \"save_model/log_file.txt\"\n",
    "    output_dir = \"save_model/\"\n",
    "\n",
    "    max_seq_length = 400\n",
    "    max_query_length = 64\n",
    "\n",
    "    batch_size = 16\n",
    "\n",
    "    num_labels = 2\n",
    "    weight_class = [1, 1]\n",
    "\n",
    "    learning_rate = 1e-5\n",
    "    gradient_accumulation_steps = 5\n",
    "    weight_decay = 0.0\n",
    "    adam_epsilon = 1e-8\n",
    "    max_grad_norm = 1.0\n",
    "    warmup_steps = 0\n",
    "    use_pooler = True\n",
    "    output_hidden_states = True\n",
    "    # if use_pooler= False (mean concat 4 CLS in 4 last hidden_state BERT)\n",
    "    # you need to set output_hidden_states=True.\n",
    "\n",
    "    num_train_epochs = 20\n",
    "    save_steps = int(2000 / gradient_accumulation_steps)\n",
    "\n",
    "    no_cuda = False\n",
    "    n_gpu = 1\n",
    "    device = \"cuda:0\"\n",
    "    seed = 42"
   ]
  },
  {
   "cell_type": "code",
   "execution_count": 5,
   "id": "27ddfedc-c9ac-48d4-b16e-6bcc1656eba8",
   "metadata": {},
   "outputs": [],
   "source": [
    "def train_model_bert(args):\n",
    "    # need remake config with device option for train with another cuda device\n",
    "    config = BertConfig.from_pretrained(args.folder_model)\n",
    "\n",
    "    config = config.to_dict()\n",
    "    config.update({\"device\": args.device})\n",
    "    config.update({\"use_pooler\": args.use_pooler})\n",
    "    config.update({\"weight_class\": args.weight_class})\n",
    "    config.update({\"output_hidden_states\": args.output_hidden_states})\n",
    "    config = BertConfig.from_dict(config)\n",
    "\n",
    "    tokenizer = BertTokenizer.from_pretrained(args.folder_model)\n",
    "    model = QaBERT.from_pretrained(args.folder_model, config=config)\n",
    "    model = model.to(args.device)\n",
    "    train_squad(args, tokenizer, model)"
   ]
  },
  {
   "cell_type": "code",
   "execution_count": 6,
   "id": "165033ea-763d-4623-84df-f790c5b80ab4",
   "metadata": {},
   "outputs": [
    {
     "name": "stderr",
     "output_type": "stream",
     "text": [
      "Some weights of QaBERT were not initialized from the model checkpoint at pretrain_uncased and are newly initialized: ['output_layer.bias', 'bert.pooler.dense.bias', 'bert.pooler.dense.weight', 'output_layer.weight']\n",
      "You should probably TRAIN this model on a down-stream task to be able to use it for predictions and inference.\n"
     ]
    },
    {
     "name": "stdout",
     "output_type": "stream",
     "text": [
      "Load dataset done !!!\n"
     ]
    },
    {
     "name": "stderr",
     "output_type": "stream",
     "text": [
      "C:\\Users\\ADMIN\\AppData\\Roaming\\Python\\Python311\\site-packages\\transformers\\optimization.py:429: FutureWarning: This implementation of AdamW is deprecated and will be removed in a future version. Use the PyTorch implementation torch.optim.AdamW instead, or set `no_deprecation_warning=True` to disable this warning\n",
      "  warnings.warn(\n"
     ]
    },
    {
     "data": {
      "application/vnd.jupyter.widget-view+json": {
       "model_id": "6323ae1e7ead43e69db60bae21210675",
       "version_major": 2,
       "version_minor": 0
      },
      "text/plain": [
       "training ...:   0%|          | 0/1063 [00:00<?, ?it/s]"
      ]
     },
     "metadata": {},
     "output_type": "display_data"
    },
    {
     "name": "stderr",
     "output_type": "stream",
     "text": [
      "C:\\Users\\ADMIN\\anaconda3\\envs\\bert_env\\Lib\\site-packages\\torch\\optim\\lr_scheduler.py:261: UserWarning: To get the last learning rate computed by the scheduler, please use `get_last_lr()`.\n",
      "  warnings.warn(\"To get the last learning rate computed by the scheduler, \"\n"
     ]
    },
    {
     "name": "stdout",
     "output_type": "stream",
     "text": [
      "Log write at epoch: 0, step: 213 and lr: 1e-05\n",
      "\n",
      "train result - loss: 0.007, acc: 0.695, f1: 0.284\n",
      "\n",
      "***** Running evaluation\n",
      "  Num examples = %d 1114\n"
     ]
    },
    {
     "data": {
      "application/vnd.jupyter.widget-view+json": {
       "model_id": "74ee1bb5397d413ca0e8724d50b89e21",
       "version_major": 2,
       "version_minor": 0
      },
      "text/plain": [
       "Evaluating:   0%|          | 0/70 [00:00<?, ?it/s]"
      ]
     },
     "metadata": {},
     "output_type": "display_data"
    },
    {
     "name": "stdout",
     "output_type": "stream",
     "text": [
      "val result - loss: 0.035, acc: 0.715, f1: 0.367\n",
      "\n",
      "end for logging current step 213 !!!\n"
     ]
    },
    {
     "data": {
      "application/vnd.jupyter.widget-view+json": {
       "model_id": "6e68f2aa78db40f884a43221ffe1b8c1",
       "version_major": 2,
       "version_minor": 0
      },
      "text/plain": [
       "training ...:   0%|          | 0/1063 [00:00<?, ?it/s]"
      ]
     },
     "metadata": {},
     "output_type": "display_data"
    },
    {
     "name": "stderr",
     "output_type": "stream",
     "text": [
      "C:\\Users\\ADMIN\\anaconda3\\envs\\bert_env\\Lib\\site-packages\\torch\\optim\\lr_scheduler.py:261: UserWarning: To get the last learning rate computed by the scheduler, please use `get_last_lr()`.\n",
      "  warnings.warn(\"To get the last learning rate computed by the scheduler, \"\n"
     ]
    },
    {
     "name": "stdout",
     "output_type": "stream",
     "text": [
      "Log write at epoch: 1, step: 400 and lr: 1e-05\n",
      "\n",
      "train result - loss: 0.006, acc: 0.72, f1: 0.433\n",
      "\n",
      "***** Running evaluation\n",
      "  Num examples = %d 1114\n"
     ]
    },
    {
     "data": {
      "application/vnd.jupyter.widget-view+json": {
       "model_id": "02801017be8b4d37bf489b7abc96f32b",
       "version_major": 2,
       "version_minor": 0
      },
      "text/plain": [
       "Evaluating:   0%|          | 0/70 [00:00<?, ?it/s]"
      ]
     },
     "metadata": {},
     "output_type": "display_data"
    },
    {
     "name": "stdout",
     "output_type": "stream",
     "text": [
      "val result - loss: 0.034, acc: 0.716, f1: 0.537\n",
      "\n",
      "end for logging current step 400 !!!\n"
     ]
    },
    {
     "name": "stderr",
     "output_type": "stream",
     "text": [
      "C:\\Users\\ADMIN\\anaconda3\\envs\\bert_env\\Lib\\site-packages\\torch\\optim\\lr_scheduler.py:261: UserWarning: To get the last learning rate computed by the scheduler, please use `get_last_lr()`.\n",
      "  warnings.warn(\"To get the last learning rate computed by the scheduler, \"\n"
     ]
    },
    {
     "name": "stdout",
     "output_type": "stream",
     "text": [
      "Log write at epoch: 1, step: 426 and lr: 1e-05\n",
      "\n",
      "train result - loss: 0.007, acc: 0.72, f1: 0.435\n",
      "\n",
      "***** Running evaluation\n",
      "  Num examples = %d 1114\n"
     ]
    },
    {
     "data": {
      "application/vnd.jupyter.widget-view+json": {
       "model_id": "b6368c307d864a26bf53fcce7b88692c",
       "version_major": 2,
       "version_minor": 0
      },
      "text/plain": [
       "Evaluating:   0%|          | 0/70 [00:00<?, ?it/s]"
      ]
     },
     "metadata": {},
     "output_type": "display_data"
    },
    {
     "name": "stdout",
     "output_type": "stream",
     "text": [
      "val result - loss: 0.034, acc: 0.728, f1: 0.484\n",
      "\n",
      "end for logging current step 426 !!!\n"
     ]
    },
    {
     "data": {
      "application/vnd.jupyter.widget-view+json": {
       "model_id": "e27fbfc31bad4109a0f807e8e6b5b6f4",
       "version_major": 2,
       "version_minor": 0
      },
      "text/plain": [
       "training ...:   0%|          | 0/1063 [00:00<?, ?it/s]"
      ]
     },
     "metadata": {},
     "output_type": "display_data"
    },
    {
     "name": "stderr",
     "output_type": "stream",
     "text": [
      "C:\\Users\\ADMIN\\anaconda3\\envs\\bert_env\\Lib\\site-packages\\torch\\optim\\lr_scheduler.py:261: UserWarning: To get the last learning rate computed by the scheduler, please use `get_last_lr()`.\n",
      "  warnings.warn(\"To get the last learning rate computed by the scheduler, \"\n"
     ]
    },
    {
     "name": "stdout",
     "output_type": "stream",
     "text": [
      "Log write at epoch: 2, step: 639 and lr: 9e-06\n",
      "\n",
      "train result - loss: 0.006, acc: 0.746, f1: 0.523\n",
      "\n",
      "***** Running evaluation\n",
      "  Num examples = %d 1114\n"
     ]
    },
    {
     "data": {
      "application/vnd.jupyter.widget-view+json": {
       "model_id": "92fdcf6ed55c4aaaae7a9fd33943baa7",
       "version_major": 2,
       "version_minor": 0
      },
      "text/plain": [
       "Evaluating:   0%|          | 0/70 [00:00<?, ?it/s]"
      ]
     },
     "metadata": {},
     "output_type": "display_data"
    },
    {
     "name": "stdout",
     "output_type": "stream",
     "text": [
      "val result - loss: 0.037, acc: 0.673, f1: 0.567\n",
      "\n",
      "end for logging current step 639 !!!\n"
     ]
    },
    {
     "data": {
      "application/vnd.jupyter.widget-view+json": {
       "model_id": "9b125579ad4443f680f34e042e7c4b32",
       "version_major": 2,
       "version_minor": 0
      },
      "text/plain": [
       "training ...:   0%|          | 0/1063 [00:00<?, ?it/s]"
      ]
     },
     "metadata": {},
     "output_type": "display_data"
    },
    {
     "name": "stderr",
     "output_type": "stream",
     "text": [
      "C:\\Users\\ADMIN\\anaconda3\\envs\\bert_env\\Lib\\site-packages\\torch\\optim\\lr_scheduler.py:261: UserWarning: To get the last learning rate computed by the scheduler, please use `get_last_lr()`.\n",
      "  warnings.warn(\"To get the last learning rate computed by the scheduler, \"\n"
     ]
    },
    {
     "name": "stdout",
     "output_type": "stream",
     "text": [
      "Log write at epoch: 3, step: 800 and lr: 9e-06\n",
      "\n",
      "train result - loss: 0.004, acc: 0.771, f1: 0.59\n",
      "\n",
      "***** Running evaluation\n",
      "  Num examples = %d 1114\n"
     ]
    },
    {
     "data": {
      "application/vnd.jupyter.widget-view+json": {
       "model_id": "010a6869072440bcb86f470735c2f616",
       "version_major": 2,
       "version_minor": 0
      },
      "text/plain": [
       "Evaluating:   0%|          | 0/70 [00:00<?, ?it/s]"
      ]
     },
     "metadata": {},
     "output_type": "display_data"
    },
    {
     "name": "stdout",
     "output_type": "stream",
     "text": [
      "val result - loss: 0.037, acc: 0.711, f1: 0.541\n",
      "\n",
      "end for logging current step 800 !!!\n"
     ]
    },
    {
     "name": "stderr",
     "output_type": "stream",
     "text": [
      "C:\\Users\\ADMIN\\anaconda3\\envs\\bert_env\\Lib\\site-packages\\torch\\optim\\lr_scheduler.py:261: UserWarning: To get the last learning rate computed by the scheduler, please use `get_last_lr()`.\n",
      "  warnings.warn(\"To get the last learning rate computed by the scheduler, \"\n"
     ]
    },
    {
     "name": "stdout",
     "output_type": "stream",
     "text": [
      "Log write at epoch: 3, step: 852 and lr: 9e-06\n",
      "\n",
      "train result - loss: 0.006, acc: 0.767, f1: 0.584\n",
      "\n",
      "***** Running evaluation\n",
      "  Num examples = %d 1114\n"
     ]
    },
    {
     "data": {
      "application/vnd.jupyter.widget-view+json": {
       "model_id": "2f1c5fe1470e4a7ba20b6fed8fe24f0c",
       "version_major": 2,
       "version_minor": 0
      },
      "text/plain": [
       "Evaluating:   0%|          | 0/70 [00:00<?, ?it/s]"
      ]
     },
     "metadata": {},
     "output_type": "display_data"
    },
    {
     "name": "stdout",
     "output_type": "stream",
     "text": [
      "val result - loss: 0.035, acc: 0.743, f1: 0.517\n",
      "\n",
      "end for logging current step 852 !!!\n"
     ]
    },
    {
     "data": {
      "application/vnd.jupyter.widget-view+json": {
       "model_id": "c07a321bc56c41db98b690148aab1e98",
       "version_major": 2,
       "version_minor": 0
      },
      "text/plain": [
       "training ...:   0%|          | 0/1063 [00:00<?, ?it/s]"
      ]
     },
     "metadata": {},
     "output_type": "display_data"
    },
    {
     "name": "stderr",
     "output_type": "stream",
     "text": [
      "C:\\Users\\ADMIN\\anaconda3\\envs\\bert_env\\Lib\\site-packages\\torch\\optim\\lr_scheduler.py:261: UserWarning: To get the last learning rate computed by the scheduler, please use `get_last_lr()`.\n",
      "  warnings.warn(\"To get the last learning rate computed by the scheduler, \"\n"
     ]
    },
    {
     "name": "stdout",
     "output_type": "stream",
     "text": [
      "Log write at epoch: 4, step: 1065 and lr: 9e-06\n",
      "\n",
      "train result - loss: 0.005, acc: 0.795, f1: 0.645\n",
      "\n",
      "***** Running evaluation\n",
      "  Num examples = %d 1114\n"
     ]
    },
    {
     "data": {
      "application/vnd.jupyter.widget-view+json": {
       "model_id": "5f330cd7880541b59e947cf4b2149762",
       "version_major": 2,
       "version_minor": 0
      },
      "text/plain": [
       "Evaluating:   0%|          | 0/70 [00:00<?, ?it/s]"
      ]
     },
     "metadata": {},
     "output_type": "display_data"
    },
    {
     "name": "stdout",
     "output_type": "stream",
     "text": [
      "val result - loss: 0.037, acc: 0.739, f1: 0.524\n",
      "\n",
      "end for logging current step 1065 !!!\n"
     ]
    },
    {
     "data": {
      "application/vnd.jupyter.widget-view+json": {
       "model_id": "270fb895b3fb43a7903801b498fa6351",
       "version_major": 2,
       "version_minor": 0
      },
      "text/plain": [
       "training ...:   0%|          | 0/1063 [00:00<?, ?it/s]"
      ]
     },
     "metadata": {},
     "output_type": "display_data"
    },
    {
     "name": "stderr",
     "output_type": "stream",
     "text": [
      "C:\\Users\\ADMIN\\anaconda3\\envs\\bert_env\\Lib\\site-packages\\torch\\optim\\lr_scheduler.py:261: UserWarning: To get the last learning rate computed by the scheduler, please use `get_last_lr()`.\n",
      "  warnings.warn(\"To get the last learning rate computed by the scheduler, \"\n"
     ]
    },
    {
     "name": "stdout",
     "output_type": "stream",
     "text": [
      "Log write at epoch: 5, step: 1200 and lr: 9e-06\n",
      "\n",
      "train result - loss: 0.003, acc: 0.827, f1: 0.71\n",
      "\n",
      "***** Running evaluation\n",
      "  Num examples = %d 1114\n"
     ]
    },
    {
     "data": {
      "application/vnd.jupyter.widget-view+json": {
       "model_id": "0760fe0278e447b0a644417c1ab66dbb",
       "version_major": 2,
       "version_minor": 0
      },
      "text/plain": [
       "Evaluating:   0%|          | 0/70 [00:00<?, ?it/s]"
      ]
     },
     "metadata": {},
     "output_type": "display_data"
    },
    {
     "name": "stdout",
     "output_type": "stream",
     "text": [
      "val result - loss: 0.041, acc: 0.707, f1: 0.532\n",
      "\n",
      "end for logging current step 1200 !!!\n"
     ]
    },
    {
     "name": "stderr",
     "output_type": "stream",
     "text": [
      "C:\\Users\\ADMIN\\anaconda3\\envs\\bert_env\\Lib\\site-packages\\torch\\optim\\lr_scheduler.py:261: UserWarning: To get the last learning rate computed by the scheduler, please use `get_last_lr()`.\n",
      "  warnings.warn(\"To get the last learning rate computed by the scheduler, \"\n"
     ]
    },
    {
     "name": "stdout",
     "output_type": "stream",
     "text": [
      "Log write at epoch: 5, step: 1278 and lr: 9e-06\n",
      "\n",
      "train result - loss: 0.005, acc: 0.825, f1: 0.704\n",
      "\n",
      "***** Running evaluation\n",
      "  Num examples = %d 1114\n"
     ]
    },
    {
     "data": {
      "application/vnd.jupyter.widget-view+json": {
       "model_id": "84431572f542495ba0647a598ec59edb",
       "version_major": 2,
       "version_minor": 0
      },
      "text/plain": [
       "Evaluating:   0%|          | 0/70 [00:00<?, ?it/s]"
      ]
     },
     "metadata": {},
     "output_type": "display_data"
    },
    {
     "name": "stdout",
     "output_type": "stream",
     "text": [
      "val result - loss: 0.038, acc: 0.716, f1: 0.543\n",
      "\n",
      "end for logging current step 1278 !!!\n"
     ]
    },
    {
     "data": {
      "application/vnd.jupyter.widget-view+json": {
       "model_id": "323776dd51404e4e92e2059290ec85de",
       "version_major": 2,
       "version_minor": 0
      },
      "text/plain": [
       "training ...:   0%|          | 0/1063 [00:00<?, ?it/s]"
      ]
     },
     "metadata": {},
     "output_type": "display_data"
    },
    {
     "name": "stderr",
     "output_type": "stream",
     "text": [
      "C:\\Users\\ADMIN\\anaconda3\\envs\\bert_env\\Lib\\site-packages\\torch\\optim\\lr_scheduler.py:261: UserWarning: To get the last learning rate computed by the scheduler, please use `get_last_lr()`.\n",
      "  warnings.warn(\"To get the last learning rate computed by the scheduler, \"\n"
     ]
    },
    {
     "name": "stdout",
     "output_type": "stream",
     "text": [
      "Log write at epoch: 6, step: 1491 and lr: 9e-06\n",
      "\n",
      "train result - loss: 0.004, acc: 0.845, f1: 0.743\n",
      "\n",
      "***** Running evaluation\n",
      "  Num examples = %d 1114\n"
     ]
    },
    {
     "data": {
      "application/vnd.jupyter.widget-view+json": {
       "model_id": "7b1b368386f74f12b99fb71555ae20dd",
       "version_major": 2,
       "version_minor": 0
      },
      "text/plain": [
       "Evaluating:   0%|          | 0/70 [00:00<?, ?it/s]"
      ]
     },
     "metadata": {},
     "output_type": "display_data"
    },
    {
     "name": "stdout",
     "output_type": "stream",
     "text": [
      "val result - loss: 0.041, acc: 0.74, f1: 0.552\n",
      "\n",
      "end for logging current step 1491 !!!\n"
     ]
    },
    {
     "data": {
      "application/vnd.jupyter.widget-view+json": {
       "model_id": "ee743aae4a464c599aeb832fc85d1d81",
       "version_major": 2,
       "version_minor": 0
      },
      "text/plain": [
       "training ...:   0%|          | 0/1063 [00:00<?, ?it/s]"
      ]
     },
     "metadata": {},
     "output_type": "display_data"
    },
    {
     "name": "stderr",
     "output_type": "stream",
     "text": [
      "C:\\Users\\ADMIN\\anaconda3\\envs\\bert_env\\Lib\\site-packages\\torch\\optim\\lr_scheduler.py:261: UserWarning: To get the last learning rate computed by the scheduler, please use `get_last_lr()`.\n",
      "  warnings.warn(\"To get the last learning rate computed by the scheduler, \"\n"
     ]
    },
    {
     "name": "stdout",
     "output_type": "stream",
     "text": [
      "Log write at epoch: 7, step: 1600 and lr: 8e-06\n",
      "\n",
      "train result - loss: 0.002, acc: 0.868, f1: 0.78\n",
      "\n",
      "***** Running evaluation\n",
      "  Num examples = %d 1114\n"
     ]
    },
    {
     "data": {
      "application/vnd.jupyter.widget-view+json": {
       "model_id": "75dd41e75c2148ad9d6fc253a638e209",
       "version_major": 2,
       "version_minor": 0
      },
      "text/plain": [
       "Evaluating:   0%|          | 0/70 [00:00<?, ?it/s]"
      ]
     },
     "metadata": {},
     "output_type": "display_data"
    },
    {
     "name": "stdout",
     "output_type": "stream",
     "text": [
      "val result - loss: 0.045, acc: 0.694, f1: 0.524\n",
      "\n",
      "end for logging current step 1600 !!!\n"
     ]
    },
    {
     "name": "stderr",
     "output_type": "stream",
     "text": [
      "C:\\Users\\ADMIN\\anaconda3\\envs\\bert_env\\Lib\\site-packages\\torch\\optim\\lr_scheduler.py:261: UserWarning: To get the last learning rate computed by the scheduler, please use `get_last_lr()`.\n",
      "  warnings.warn(\"To get the last learning rate computed by the scheduler, \"\n"
     ]
    },
    {
     "name": "stdout",
     "output_type": "stream",
     "text": [
      "Log write at epoch: 7, step: 1704 and lr: 8e-06\n",
      "\n",
      "train result - loss: 0.004, acc: 0.864, f1: 0.776\n",
      "\n",
      "***** Running evaluation\n",
      "  Num examples = %d 1114\n"
     ]
    },
    {
     "data": {
      "application/vnd.jupyter.widget-view+json": {
       "model_id": "35c59555c24a452a8cbe935e9923bbc3",
       "version_major": 2,
       "version_minor": 0
      },
      "text/plain": [
       "Evaluating:   0%|          | 0/70 [00:00<?, ?it/s]"
      ]
     },
     "metadata": {},
     "output_type": "display_data"
    },
    {
     "name": "stdout",
     "output_type": "stream",
     "text": [
      "val result - loss: 0.044, acc: 0.729, f1: 0.545\n",
      "\n",
      "end for logging current step 1704 !!!\n"
     ]
    },
    {
     "data": {
      "application/vnd.jupyter.widget-view+json": {
       "model_id": "8a74d3edeae845e19a16d4349b6e69fc",
       "version_major": 2,
       "version_minor": 0
      },
      "text/plain": [
       "training ...:   0%|          | 0/1063 [00:00<?, ?it/s]"
      ]
     },
     "metadata": {},
     "output_type": "display_data"
    },
    {
     "name": "stderr",
     "output_type": "stream",
     "text": [
      "C:\\Users\\ADMIN\\anaconda3\\envs\\bert_env\\Lib\\site-packages\\torch\\optim\\lr_scheduler.py:261: UserWarning: To get the last learning rate computed by the scheduler, please use `get_last_lr()`.\n",
      "  warnings.warn(\"To get the last learning rate computed by the scheduler, \"\n"
     ]
    },
    {
     "name": "stdout",
     "output_type": "stream",
     "text": [
      "Log write at epoch: 8, step: 1917 and lr: 8e-06\n",
      "\n",
      "train result - loss: 0.003, acc: 0.884, f1: 0.81\n",
      "\n",
      "***** Running evaluation\n",
      "  Num examples = %d 1114\n"
     ]
    },
    {
     "data": {
      "application/vnd.jupyter.widget-view+json": {
       "model_id": "f8198b5c9b4a42d4bfe5471cdd679eae",
       "version_major": 2,
       "version_minor": 0
      },
      "text/plain": [
       "Evaluating:   0%|          | 0/70 [00:00<?, ?it/s]"
      ]
     },
     "metadata": {},
     "output_type": "display_data"
    },
    {
     "name": "stdout",
     "output_type": "stream",
     "text": [
      "val result - loss: 0.047, acc: 0.715, f1: 0.571\n",
      "\n",
      "end for logging current step 1917 !!!\n"
     ]
    },
    {
     "data": {
      "application/vnd.jupyter.widget-view+json": {
       "model_id": "fd85097f875e45879c1b76deddf51f7c",
       "version_major": 2,
       "version_minor": 0
      },
      "text/plain": [
       "training ...:   0%|          | 0/1063 [00:00<?, ?it/s]"
      ]
     },
     "metadata": {},
     "output_type": "display_data"
    },
    {
     "name": "stderr",
     "output_type": "stream",
     "text": [
      "C:\\Users\\ADMIN\\anaconda3\\envs\\bert_env\\Lib\\site-packages\\torch\\optim\\lr_scheduler.py:261: UserWarning: To get the last learning rate computed by the scheduler, please use `get_last_lr()`.\n",
      "  warnings.warn(\"To get the last learning rate computed by the scheduler, \"\n"
     ]
    },
    {
     "name": "stdout",
     "output_type": "stream",
     "text": [
      "Log write at epoch: 9, step: 2000 and lr: 8e-06\n",
      "\n",
      "train result - loss: 0.001, acc: 0.902, f1: 0.84\n",
      "\n",
      "***** Running evaluation\n",
      "  Num examples = %d 1114\n"
     ]
    },
    {
     "data": {
      "application/vnd.jupyter.widget-view+json": {
       "model_id": "0854d6f7239e463ca8650f0ce2db789c",
       "version_major": 2,
       "version_minor": 0
      },
      "text/plain": [
       "Evaluating:   0%|          | 0/70 [00:00<?, ?it/s]"
      ]
     },
     "metadata": {},
     "output_type": "display_data"
    },
    {
     "name": "stdout",
     "output_type": "stream",
     "text": [
      "val result - loss: 0.052, acc: 0.683, f1: 0.54\n",
      "\n",
      "end for logging current step 2000 !!!\n"
     ]
    },
    {
     "name": "stderr",
     "output_type": "stream",
     "text": [
      "C:\\Users\\ADMIN\\anaconda3\\envs\\bert_env\\Lib\\site-packages\\torch\\optim\\lr_scheduler.py:261: UserWarning: To get the last learning rate computed by the scheduler, please use `get_last_lr()`.\n",
      "  warnings.warn(\"To get the last learning rate computed by the scheduler, \"\n"
     ]
    },
    {
     "name": "stdout",
     "output_type": "stream",
     "text": [
      "Log write at epoch: 9, step: 2130 and lr: 8e-06\n",
      "\n",
      "train result - loss: 0.003, acc: 0.897, f1: 0.834\n",
      "\n",
      "***** Running evaluation\n",
      "  Num examples = %d 1114\n"
     ]
    },
    {
     "data": {
      "application/vnd.jupyter.widget-view+json": {
       "model_id": "bd16195306d94fe09459d05f4270707c",
       "version_major": 2,
       "version_minor": 0
      },
      "text/plain": [
       "Evaluating:   0%|          | 0/70 [00:00<?, ?it/s]"
      ]
     },
     "metadata": {},
     "output_type": "display_data"
    },
    {
     "name": "stdout",
     "output_type": "stream",
     "text": [
      "val result - loss: 0.049, acc: 0.697, f1: 0.548\n",
      "\n",
      "end for logging current step 2130 !!!\n"
     ]
    },
    {
     "data": {
      "application/vnd.jupyter.widget-view+json": {
       "model_id": "9ea6ec0139f945d082fb17b6320042a6",
       "version_major": 2,
       "version_minor": 0
      },
      "text/plain": [
       "training ...:   0%|          | 0/1063 [00:00<?, ?it/s]"
      ]
     },
     "metadata": {},
     "output_type": "display_data"
    },
    {
     "name": "stderr",
     "output_type": "stream",
     "text": [
      "C:\\Users\\ADMIN\\anaconda3\\envs\\bert_env\\Lib\\site-packages\\torch\\optim\\lr_scheduler.py:261: UserWarning: To get the last learning rate computed by the scheduler, please use `get_last_lr()`.\n",
      "  warnings.warn(\"To get the last learning rate computed by the scheduler, \"\n"
     ]
    },
    {
     "name": "stdout",
     "output_type": "stream",
     "text": [
      "Log write at epoch: 10, step: 2343 and lr: 8e-06\n",
      "\n",
      "train result - loss: 0.003, acc: 0.908, f1: 0.853\n",
      "\n",
      "***** Running evaluation\n",
      "  Num examples = %d 1114\n"
     ]
    },
    {
     "data": {
      "application/vnd.jupyter.widget-view+json": {
       "model_id": "92cb067ff08e410f982f5b117cc39cf2",
       "version_major": 2,
       "version_minor": 0
      },
      "text/plain": [
       "Evaluating:   0%|          | 0/70 [00:00<?, ?it/s]"
      ]
     },
     "metadata": {},
     "output_type": "display_data"
    },
    {
     "name": "stdout",
     "output_type": "stream",
     "text": [
      "val result - loss: 0.052, acc: 0.703, f1: 0.563\n",
      "\n",
      "end for logging current step 2343 !!!\n"
     ]
    },
    {
     "data": {
      "application/vnd.jupyter.widget-view+json": {
       "model_id": "86dc9ce4515e458baddeb650f1fb8f4e",
       "version_major": 2,
       "version_minor": 0
      },
      "text/plain": [
       "training ...:   0%|          | 0/1063 [00:00<?, ?it/s]"
      ]
     },
     "metadata": {},
     "output_type": "display_data"
    },
    {
     "name": "stderr",
     "output_type": "stream",
     "text": [
      "C:\\Users\\ADMIN\\anaconda3\\envs\\bert_env\\Lib\\site-packages\\torch\\optim\\lr_scheduler.py:261: UserWarning: To get the last learning rate computed by the scheduler, please use `get_last_lr()`.\n",
      "  warnings.warn(\"To get the last learning rate computed by the scheduler, \"\n"
     ]
    },
    {
     "name": "stdout",
     "output_type": "stream",
     "text": [
      "Log write at epoch: 11, step: 2400 and lr: 8e-06\n",
      "\n",
      "train result - loss: 0.001, acc: 0.924, f1: 0.879\n",
      "\n",
      "***** Running evaluation\n",
      "  Num examples = %d 1114\n"
     ]
    },
    {
     "data": {
      "application/vnd.jupyter.widget-view+json": {
       "model_id": "89c1c338ed3e4e089eb1d45fec0f1d45",
       "version_major": 2,
       "version_minor": 0
      },
      "text/plain": [
       "Evaluating:   0%|          | 0/70 [00:00<?, ?it/s]"
      ]
     },
     "metadata": {},
     "output_type": "display_data"
    },
    {
     "name": "stdout",
     "output_type": "stream",
     "text": [
      "val result - loss: 0.057, acc: 0.709, f1: 0.562\n",
      "\n",
      "end for logging current step 2400 !!!\n"
     ]
    },
    {
     "name": "stderr",
     "output_type": "stream",
     "text": [
      "C:\\Users\\ADMIN\\anaconda3\\envs\\bert_env\\Lib\\site-packages\\torch\\optim\\lr_scheduler.py:261: UserWarning: To get the last learning rate computed by the scheduler, please use `get_last_lr()`.\n",
      "  warnings.warn(\"To get the last learning rate computed by the scheduler, \"\n"
     ]
    },
    {
     "name": "stdout",
     "output_type": "stream",
     "text": [
      "Log write at epoch: 11, step: 2556 and lr: 8e-06\n",
      "\n",
      "train result - loss: 0.003, acc: 0.918, f1: 0.869\n",
      "\n",
      "***** Running evaluation\n",
      "  Num examples = %d 1114\n"
     ]
    },
    {
     "data": {
      "application/vnd.jupyter.widget-view+json": {
       "model_id": "4d5e73654c9b44a789ef0932574dfd1c",
       "version_major": 2,
       "version_minor": 0
      },
      "text/plain": [
       "Evaluating:   0%|          | 0/70 [00:00<?, ?it/s]"
      ]
     },
     "metadata": {},
     "output_type": "display_data"
    },
    {
     "name": "stdout",
     "output_type": "stream",
     "text": [
      "val result - loss: 0.057, acc: 0.68, f1: 0.568\n",
      "\n",
      "end for logging current step 2556 !!!\n"
     ]
    },
    {
     "data": {
      "application/vnd.jupyter.widget-view+json": {
       "model_id": "6f63f92722bd46f9aa838ab9f6ac5e09",
       "version_major": 2,
       "version_minor": 0
      },
      "text/plain": [
       "training ...:   0%|          | 0/1063 [00:00<?, ?it/s]"
      ]
     },
     "metadata": {},
     "output_type": "display_data"
    },
    {
     "name": "stderr",
     "output_type": "stream",
     "text": [
      "C:\\Users\\ADMIN\\anaconda3\\envs\\bert_env\\Lib\\site-packages\\torch\\optim\\lr_scheduler.py:261: UserWarning: To get the last learning rate computed by the scheduler, please use `get_last_lr()`.\n",
      "  warnings.warn(\"To get the last learning rate computed by the scheduler, \"\n"
     ]
    },
    {
     "name": "stdout",
     "output_type": "stream",
     "text": [
      "Log write at epoch: 12, step: 2769 and lr: 7e-06\n",
      "\n",
      "train result - loss: 0.002, acc: 0.929, f1: 0.886\n",
      "\n",
      "***** Running evaluation\n",
      "  Num examples = %d 1114\n"
     ]
    },
    {
     "data": {
      "application/vnd.jupyter.widget-view+json": {
       "model_id": "f502cf9584344615ab582c72002ed107",
       "version_major": 2,
       "version_minor": 0
      },
      "text/plain": [
       "Evaluating:   0%|          | 0/70 [00:00<?, ?it/s]"
      ]
     },
     "metadata": {},
     "output_type": "display_data"
    },
    {
     "name": "stdout",
     "output_type": "stream",
     "text": [
      "val result - loss: 0.062, acc: 0.708, f1: 0.535\n",
      "\n",
      "end for logging current step 2769 !!!\n"
     ]
    },
    {
     "data": {
      "application/vnd.jupyter.widget-view+json": {
       "model_id": "5d69fb2e9aae4a6788ca586489357c8b",
       "version_major": 2,
       "version_minor": 0
      },
      "text/plain": [
       "training ...:   0%|          | 0/1063 [00:00<?, ?it/s]"
      ]
     },
     "metadata": {},
     "output_type": "display_data"
    },
    {
     "name": "stderr",
     "output_type": "stream",
     "text": [
      "C:\\Users\\ADMIN\\anaconda3\\envs\\bert_env\\Lib\\site-packages\\torch\\optim\\lr_scheduler.py:261: UserWarning: To get the last learning rate computed by the scheduler, please use `get_last_lr()`.\n",
      "  warnings.warn(\"To get the last learning rate computed by the scheduler, \"\n"
     ]
    },
    {
     "name": "stdout",
     "output_type": "stream",
     "text": [
      "Log write at epoch: 13, step: 2800 and lr: 7e-06\n",
      "\n",
      "train result - loss: 0.0, acc: 0.943, f1: 0.908\n",
      "\n",
      "***** Running evaluation\n",
      "  Num examples = %d 1114\n"
     ]
    },
    {
     "data": {
      "application/vnd.jupyter.widget-view+json": {
       "model_id": "83661736a342444298f0f1da037a4626",
       "version_major": 2,
       "version_minor": 0
      },
      "text/plain": [
       "Evaluating:   0%|          | 0/70 [00:00<?, ?it/s]"
      ]
     },
     "metadata": {},
     "output_type": "display_data"
    },
    {
     "name": "stdout",
     "output_type": "stream",
     "text": [
      "val result - loss: 0.061, acc: 0.704, f1: 0.535\n",
      "\n",
      "end for logging current step 2800 !!!\n"
     ]
    },
    {
     "name": "stderr",
     "output_type": "stream",
     "text": [
      "C:\\Users\\ADMIN\\anaconda3\\envs\\bert_env\\Lib\\site-packages\\torch\\optim\\lr_scheduler.py:261: UserWarning: To get the last learning rate computed by the scheduler, please use `get_last_lr()`.\n",
      "  warnings.warn(\"To get the last learning rate computed by the scheduler, \"\n"
     ]
    },
    {
     "name": "stdout",
     "output_type": "stream",
     "text": [
      "Log write at epoch: 13, step: 2982 and lr: 7e-06\n",
      "\n",
      "train result - loss: 0.002, acc: 0.937, f1: 0.899\n",
      "\n",
      "***** Running evaluation\n",
      "  Num examples = %d 1114\n"
     ]
    },
    {
     "data": {
      "application/vnd.jupyter.widget-view+json": {
       "model_id": "d166ea776e7e4e0fa0d9e8c90f6c2000",
       "version_major": 2,
       "version_minor": 0
      },
      "text/plain": [
       "Evaluating:   0%|          | 0/70 [00:00<?, ?it/s]"
      ]
     },
     "metadata": {},
     "output_type": "display_data"
    },
    {
     "name": "stdout",
     "output_type": "stream",
     "text": [
      "val result - loss: 0.06, acc: 0.698, f1: 0.543\n",
      "\n",
      "end for logging current step 2982 !!!\n"
     ]
    },
    {
     "data": {
      "application/vnd.jupyter.widget-view+json": {
       "model_id": "e36211e4c77b4dc9820c754324892423",
       "version_major": 2,
       "version_minor": 0
      },
      "text/plain": [
       "training ...:   0%|          | 0/1063 [00:00<?, ?it/s]"
      ]
     },
     "metadata": {},
     "output_type": "display_data"
    },
    {
     "name": "stderr",
     "output_type": "stream",
     "text": [
      "C:\\Users\\ADMIN\\anaconda3\\envs\\bert_env\\Lib\\site-packages\\torch\\optim\\lr_scheduler.py:261: UserWarning: To get the last learning rate computed by the scheduler, please use `get_last_lr()`.\n",
      "  warnings.warn(\"To get the last learning rate computed by the scheduler, \"\n"
     ]
    },
    {
     "name": "stdout",
     "output_type": "stream",
     "text": [
      "Log write at epoch: 14, step: 3195 and lr: 7e-06\n",
      "\n",
      "train result - loss: 0.002, acc: 0.94, f1: 0.904\n",
      "\n",
      "***** Running evaluation\n",
      "  Num examples = %d 1114\n"
     ]
    },
    {
     "data": {
      "application/vnd.jupyter.widget-view+json": {
       "model_id": "0bc7df4b6c97435d9346f5ec0f2218cd",
       "version_major": 2,
       "version_minor": 0
      },
      "text/plain": [
       "Evaluating:   0%|          | 0/70 [00:00<?, ?it/s]"
      ]
     },
     "metadata": {},
     "output_type": "display_data"
    },
    {
     "name": "stdout",
     "output_type": "stream",
     "text": [
      "val result - loss: 0.062, acc: 0.706, f1: 0.548\n",
      "\n",
      "end for logging current step 3195 !!!\n"
     ]
    },
    {
     "data": {
      "application/vnd.jupyter.widget-view+json": {
       "model_id": "df16230773c14f818524ce87fe2f8435",
       "version_major": 2,
       "version_minor": 0
      },
      "text/plain": [
       "training ...:   0%|          | 0/1063 [00:00<?, ?it/s]"
      ]
     },
     "metadata": {},
     "output_type": "display_data"
    },
    {
     "name": "stderr",
     "output_type": "stream",
     "text": [
      "C:\\Users\\ADMIN\\anaconda3\\envs\\bert_env\\Lib\\site-packages\\torch\\optim\\lr_scheduler.py:261: UserWarning: To get the last learning rate computed by the scheduler, please use `get_last_lr()`.\n",
      "  warnings.warn(\"To get the last learning rate computed by the scheduler, \"\n"
     ]
    },
    {
     "name": "stdout",
     "output_type": "stream",
     "text": [
      "Log write at epoch: 15, step: 3200 and lr: 7e-06\n",
      "\n",
      "train result - loss: 0.0, acc: 0.968, f1: 0.951\n",
      "\n",
      "***** Running evaluation\n",
      "  Num examples = %d 1114\n"
     ]
    },
    {
     "data": {
      "application/vnd.jupyter.widget-view+json": {
       "model_id": "b0d87fa8057242f8b68b554f88778a17",
       "version_major": 2,
       "version_minor": 0
      },
      "text/plain": [
       "Evaluating:   0%|          | 0/70 [00:00<?, ?it/s]"
      ]
     },
     "metadata": {},
     "output_type": "display_data"
    },
    {
     "name": "stdout",
     "output_type": "stream",
     "text": [
      "val result - loss: 0.065, acc: 0.701, f1: 0.56\n",
      "\n",
      "end for logging current step 3200 !!!\n"
     ]
    },
    {
     "name": "stderr",
     "output_type": "stream",
     "text": [
      "C:\\Users\\ADMIN\\anaconda3\\envs\\bert_env\\Lib\\site-packages\\torch\\optim\\lr_scheduler.py:261: UserWarning: To get the last learning rate computed by the scheduler, please use `get_last_lr()`.\n",
      "  warnings.warn(\"To get the last learning rate computed by the scheduler, \"\n"
     ]
    },
    {
     "name": "stdout",
     "output_type": "stream",
     "text": [
      "Log write at epoch: 15, step: 3408 and lr: 7e-06\n",
      "\n",
      "train result - loss: 0.002, acc: 0.947, f1: 0.916\n",
      "\n",
      "***** Running evaluation\n",
      "  Num examples = %d 1114\n"
     ]
    },
    {
     "data": {
      "application/vnd.jupyter.widget-view+json": {
       "model_id": "b99b21789e01418dae5bb009a3ffeece",
       "version_major": 2,
       "version_minor": 0
      },
      "text/plain": [
       "Evaluating:   0%|          | 0/70 [00:00<?, ?it/s]"
      ]
     },
     "metadata": {},
     "output_type": "display_data"
    },
    {
     "name": "stdout",
     "output_type": "stream",
     "text": [
      "val result - loss: 0.07, acc: 0.7, f1: 0.521\n",
      "\n",
      "end for logging current step 3408 !!!\n"
     ]
    },
    {
     "data": {
      "application/vnd.jupyter.widget-view+json": {
       "model_id": "c4637fcbee204951a8a3f7ad0df5d996",
       "version_major": 2,
       "version_minor": 0
      },
      "text/plain": [
       "training ...:   0%|          | 0/1063 [00:00<?, ?it/s]"
      ]
     },
     "metadata": {},
     "output_type": "display_data"
    },
    {
     "name": "stderr",
     "output_type": "stream",
     "text": [
      "C:\\Users\\ADMIN\\anaconda3\\envs\\bert_env\\Lib\\site-packages\\torch\\optim\\lr_scheduler.py:261: UserWarning: To get the last learning rate computed by the scheduler, please use `get_last_lr()`.\n",
      "  warnings.warn(\"To get the last learning rate computed by the scheduler, \"\n"
     ]
    },
    {
     "name": "stdout",
     "output_type": "stream",
     "text": [
      "Log write at epoch: 16, step: 3600 and lr: 7e-06\n",
      "\n",
      "train result - loss: 0.001, acc: 0.955, f1: 0.929\n",
      "\n",
      "***** Running evaluation\n",
      "  Num examples = %d 1114\n"
     ]
    },
    {
     "data": {
      "application/vnd.jupyter.widget-view+json": {
       "model_id": "6f6135784b3e4675bf88d30aa2d7b46a",
       "version_major": 2,
       "version_minor": 0
      },
      "text/plain": [
       "Evaluating:   0%|          | 0/70 [00:00<?, ?it/s]"
      ]
     },
     "metadata": {},
     "output_type": "display_data"
    },
    {
     "name": "stdout",
     "output_type": "stream",
     "text": [
      "val result - loss: 0.072, acc: 0.682, f1: 0.545\n",
      "\n",
      "end for logging current step 3600 !!!\n"
     ]
    },
    {
     "name": "stderr",
     "output_type": "stream",
     "text": [
      "C:\\Users\\ADMIN\\anaconda3\\envs\\bert_env\\Lib\\site-packages\\torch\\optim\\lr_scheduler.py:261: UserWarning: To get the last learning rate computed by the scheduler, please use `get_last_lr()`.\n",
      "  warnings.warn(\"To get the last learning rate computed by the scheduler, \"\n"
     ]
    },
    {
     "name": "stdout",
     "output_type": "stream",
     "text": [
      "Log write at epoch: 16, step: 3621 and lr: 7e-06\n",
      "\n",
      "train result - loss: 0.002, acc: 0.955, f1: 0.929\n",
      "\n",
      "***** Running evaluation\n",
      "  Num examples = %d 1114\n"
     ]
    },
    {
     "data": {
      "application/vnd.jupyter.widget-view+json": {
       "model_id": "debe797bb1764258aca1bd9a45b05f55",
       "version_major": 2,
       "version_minor": 0
      },
      "text/plain": [
       "Evaluating:   0%|          | 0/70 [00:00<?, ?it/s]"
      ]
     },
     "metadata": {},
     "output_type": "display_data"
    },
    {
     "name": "stdout",
     "output_type": "stream",
     "text": [
      "val result - loss: 0.07, acc: 0.701, f1: 0.511\n",
      "\n",
      "end for logging current step 3621 !!!\n"
     ]
    },
    {
     "data": {
      "application/vnd.jupyter.widget-view+json": {
       "model_id": "481ab9d663494f349285f02a636bc81f",
       "version_major": 2,
       "version_minor": 0
      },
      "text/plain": [
       "training ...:   0%|          | 0/1063 [00:00<?, ?it/s]"
      ]
     },
     "metadata": {},
     "output_type": "display_data"
    },
    {
     "name": "stderr",
     "output_type": "stream",
     "text": [
      "C:\\Users\\ADMIN\\anaconda3\\envs\\bert_env\\Lib\\site-packages\\torch\\optim\\lr_scheduler.py:261: UserWarning: To get the last learning rate computed by the scheduler, please use `get_last_lr()`.\n",
      "  warnings.warn(\"To get the last learning rate computed by the scheduler, \"\n"
     ]
    },
    {
     "name": "stdout",
     "output_type": "stream",
     "text": [
      "Log write at epoch: 17, step: 3834 and lr: 6e-06\n",
      "\n",
      "train result - loss: 0.001, acc: 0.954, f1: 0.927\n",
      "\n",
      "***** Running evaluation\n",
      "  Num examples = %d 1114\n"
     ]
    },
    {
     "data": {
      "application/vnd.jupyter.widget-view+json": {
       "model_id": "ad0dc32e6ed442b0b50c4e5700dffdc5",
       "version_major": 2,
       "version_minor": 0
      },
      "text/plain": [
       "Evaluating:   0%|          | 0/70 [00:00<?, ?it/s]"
      ]
     },
     "metadata": {},
     "output_type": "display_data"
    },
    {
     "name": "stdout",
     "output_type": "stream",
     "text": [
      "val result - loss: 0.073, acc: 0.675, f1: 0.545\n",
      "\n",
      "end for logging current step 3834 !!!\n"
     ]
    },
    {
     "data": {
      "application/vnd.jupyter.widget-view+json": {
       "model_id": "4390edfdb9d14c60b008fbcb76fde545",
       "version_major": 2,
       "version_minor": 0
      },
      "text/plain": [
       "training ...:   0%|          | 0/1063 [00:00<?, ?it/s]"
      ]
     },
     "metadata": {},
     "output_type": "display_data"
    },
    {
     "name": "stderr",
     "output_type": "stream",
     "text": [
      "C:\\Users\\ADMIN\\anaconda3\\envs\\bert_env\\Lib\\site-packages\\torch\\optim\\lr_scheduler.py:261: UserWarning: To get the last learning rate computed by the scheduler, please use `get_last_lr()`.\n",
      "  warnings.warn(\"To get the last learning rate computed by the scheduler, \"\n"
     ]
    },
    {
     "name": "stdout",
     "output_type": "stream",
     "text": [
      "Log write at epoch: 18, step: 4000 and lr: 6e-06\n",
      "\n",
      "train result - loss: 0.001, acc: 0.963, f1: 0.941\n",
      "\n",
      "***** Running evaluation\n",
      "  Num examples = %d 1114\n"
     ]
    },
    {
     "data": {
      "application/vnd.jupyter.widget-view+json": {
       "model_id": "a8ec5419096a4e4fa7cac5ff51361b4c",
       "version_major": 2,
       "version_minor": 0
      },
      "text/plain": [
       "Evaluating:   0%|          | 0/70 [00:00<?, ?it/s]"
      ]
     },
     "metadata": {},
     "output_type": "display_data"
    },
    {
     "name": "stdout",
     "output_type": "stream",
     "text": [
      "val result - loss: 0.073, acc: 0.7, f1: 0.561\n",
      "\n",
      "end for logging current step 4000 !!!\n"
     ]
    },
    {
     "name": "stderr",
     "output_type": "stream",
     "text": [
      "C:\\Users\\ADMIN\\anaconda3\\envs\\bert_env\\Lib\\site-packages\\torch\\optim\\lr_scheduler.py:261: UserWarning: To get the last learning rate computed by the scheduler, please use `get_last_lr()`.\n",
      "  warnings.warn(\"To get the last learning rate computed by the scheduler, \"\n"
     ]
    },
    {
     "name": "stdout",
     "output_type": "stream",
     "text": [
      "Log write at epoch: 18, step: 4047 and lr: 6e-06\n",
      "\n",
      "train result - loss: 0.001, acc: 0.961, f1: 0.938\n",
      "\n",
      "***** Running evaluation\n",
      "  Num examples = %d 1114\n"
     ]
    },
    {
     "data": {
      "application/vnd.jupyter.widget-view+json": {
       "model_id": "a3dbdad8e903462297a2eb049bef31cd",
       "version_major": 2,
       "version_minor": 0
      },
      "text/plain": [
       "Evaluating:   0%|          | 0/70 [00:00<?, ?it/s]"
      ]
     },
     "metadata": {},
     "output_type": "display_data"
    },
    {
     "name": "stdout",
     "output_type": "stream",
     "text": [
      "val result - loss: 0.072, acc: 0.695, f1: 0.548\n",
      "\n",
      "end for logging current step 4047 !!!\n"
     ]
    },
    {
     "data": {
      "application/vnd.jupyter.widget-view+json": {
       "model_id": "e346611452f2497a92ec314196bf60c1",
       "version_major": 2,
       "version_minor": 0
      },
      "text/plain": [
       "training ...:   0%|          | 0/1063 [00:00<?, ?it/s]"
      ]
     },
     "metadata": {},
     "output_type": "display_data"
    },
    {
     "name": "stderr",
     "output_type": "stream",
     "text": [
      "C:\\Users\\ADMIN\\anaconda3\\envs\\bert_env\\Lib\\site-packages\\torch\\optim\\lr_scheduler.py:261: UserWarning: To get the last learning rate computed by the scheduler, please use `get_last_lr()`.\n",
      "  warnings.warn(\"To get the last learning rate computed by the scheduler, \"\n"
     ]
    },
    {
     "name": "stdout",
     "output_type": "stream",
     "text": [
      "Log write at epoch: 19, step: 4260 and lr: 6e-06\n",
      "\n",
      "train result - loss: 0.001, acc: 0.965, f1: 0.944\n",
      "\n",
      "***** Running evaluation\n",
      "  Num examples = %d 1114\n"
     ]
    },
    {
     "data": {
      "application/vnd.jupyter.widget-view+json": {
       "model_id": "6908e19d0ecf45aca017ec3d24718431",
       "version_major": 2,
       "version_minor": 0
      },
      "text/plain": [
       "Evaluating:   0%|          | 0/70 [00:00<?, ?it/s]"
      ]
     },
     "metadata": {},
     "output_type": "display_data"
    },
    {
     "name": "stdout",
     "output_type": "stream",
     "text": [
      "val result - loss: 0.073, acc: 0.704, f1: 0.53\n",
      "\n",
      "end for logging current step 4260 !!!\n"
     ]
    },
    {
     "data": {
      "application/vnd.jupyter.widget-view+json": {
       "model_id": "21d38aa3345f45d1ac42e2bb2322d34f",
       "version_major": 2,
       "version_minor": 0
      },
      "text/plain": [
       "training ...:   0%|          | 0/1063 [00:00<?, ?it/s]"
      ]
     },
     "metadata": {},
     "output_type": "display_data"
    },
    {
     "name": "stderr",
     "output_type": "stream",
     "text": [
      "C:\\Users\\ADMIN\\anaconda3\\envs\\bert_env\\Lib\\site-packages\\torch\\optim\\lr_scheduler.py:261: UserWarning: To get the last learning rate computed by the scheduler, please use `get_last_lr()`.\n",
      "  warnings.warn(\"To get the last learning rate computed by the scheduler, \"\n"
     ]
    },
    {
     "name": "stdout",
     "output_type": "stream",
     "text": [
      "Log write at epoch: 20, step: 4400 and lr: 6e-06\n",
      "\n",
      "train result - loss: 0.001, acc: 0.966, f1: 0.946\n",
      "\n",
      "***** Running evaluation\n",
      "  Num examples = %d 1114\n"
     ]
    },
    {
     "data": {
      "application/vnd.jupyter.widget-view+json": {
       "model_id": "eb3432d04ed04d2c87b77d4b459be565",
       "version_major": 2,
       "version_minor": 0
      },
      "text/plain": [
       "Evaluating:   0%|          | 0/70 [00:00<?, ?it/s]"
      ]
     },
     "metadata": {},
     "output_type": "display_data"
    },
    {
     "name": "stdout",
     "output_type": "stream",
     "text": [
      "val result - loss: 0.076, acc: 0.697, f1: 0.554\n",
      "\n",
      "end for logging current step 4400 !!!\n"
     ]
    },
    {
     "name": "stderr",
     "output_type": "stream",
     "text": [
      "C:\\Users\\ADMIN\\anaconda3\\envs\\bert_env\\Lib\\site-packages\\torch\\optim\\lr_scheduler.py:261: UserWarning: To get the last learning rate computed by the scheduler, please use `get_last_lr()`.\n",
      "  warnings.warn(\"To get the last learning rate computed by the scheduler, \"\n"
     ]
    },
    {
     "name": "stdout",
     "output_type": "stream",
     "text": [
      "Log write at epoch: 20, step: 4473 and lr: 6e-06\n",
      "\n",
      "train result - loss: 0.001, acc: 0.966, f1: 0.946\n",
      "\n",
      "***** Running evaluation\n",
      "  Num examples = %d 1114\n"
     ]
    },
    {
     "data": {
      "application/vnd.jupyter.widget-view+json": {
       "model_id": "8a530d41e16645c79af1334b0cabdb45",
       "version_major": 2,
       "version_minor": 0
      },
      "text/plain": [
       "Evaluating:   0%|          | 0/70 [00:00<?, ?it/s]"
      ]
     },
     "metadata": {},
     "output_type": "display_data"
    },
    {
     "name": "stdout",
     "output_type": "stream",
     "text": [
      "val result - loss: 0.078, acc: 0.695, f1: 0.572\n",
      "\n",
      "end for logging current step 4473 !!!\n"
     ]
    },
    {
     "data": {
      "application/vnd.jupyter.widget-view+json": {
       "model_id": "0e0755f9ec7d4e84a8d370f733323704",
       "version_major": 2,
       "version_minor": 0
      },
      "text/plain": [
       "training ...:   0%|          | 0/1063 [00:00<?, ?it/s]"
      ]
     },
     "metadata": {},
     "output_type": "display_data"
    },
    {
     "name": "stderr",
     "output_type": "stream",
     "text": [
      "C:\\Users\\ADMIN\\anaconda3\\envs\\bert_env\\Lib\\site-packages\\torch\\optim\\lr_scheduler.py:261: UserWarning: To get the last learning rate computed by the scheduler, please use `get_last_lr()`.\n",
      "  warnings.warn(\"To get the last learning rate computed by the scheduler, \"\n"
     ]
    },
    {
     "name": "stdout",
     "output_type": "stream",
     "text": [
      "Log write at epoch: 21, step: 4686 and lr: 6e-06\n",
      "\n",
      "train result - loss: 0.001, acc: 0.966, f1: 0.946\n",
      "\n",
      "***** Running evaluation\n",
      "  Num examples = %d 1114\n"
     ]
    },
    {
     "data": {
      "application/vnd.jupyter.widget-view+json": {
       "model_id": "53a814404f8441d59b38f11ba0ae75fa",
       "version_major": 2,
       "version_minor": 0
      },
      "text/plain": [
       "Evaluating:   0%|          | 0/70 [00:00<?, ?it/s]"
      ]
     },
     "metadata": {},
     "output_type": "display_data"
    },
    {
     "name": "stdout",
     "output_type": "stream",
     "text": [
      "val result - loss: 0.076, acc: 0.717, f1: 0.566\n",
      "\n",
      "end for logging current step 4686 !!!\n"
     ]
    },
    {
     "data": {
      "application/vnd.jupyter.widget-view+json": {
       "model_id": "2af23a48e4d74dda86cfb3caccb36b1c",
       "version_major": 2,
       "version_minor": 0
      },
      "text/plain": [
       "training ...:   0%|          | 0/1063 [00:00<?, ?it/s]"
      ]
     },
     "metadata": {},
     "output_type": "display_data"
    },
    {
     "name": "stderr",
     "output_type": "stream",
     "text": [
      "C:\\Users\\ADMIN\\anaconda3\\envs\\bert_env\\Lib\\site-packages\\torch\\optim\\lr_scheduler.py:261: UserWarning: To get the last learning rate computed by the scheduler, please use `get_last_lr()`.\n",
      "  warnings.warn(\"To get the last learning rate computed by the scheduler, \"\n"
     ]
    },
    {
     "name": "stdout",
     "output_type": "stream",
     "text": [
      "Log write at epoch: 22, step: 4800 and lr: 5e-06\n",
      "\n",
      "train result - loss: 0.001, acc: 0.971, f1: 0.955\n",
      "\n",
      "***** Running evaluation\n",
      "  Num examples = %d 1114\n"
     ]
    },
    {
     "data": {
      "application/vnd.jupyter.widget-view+json": {
       "model_id": "e46a8ecfea2e4f56a344340a5653ae6f",
       "version_major": 2,
       "version_minor": 0
      },
      "text/plain": [
       "Evaluating:   0%|          | 0/70 [00:00<?, ?it/s]"
      ]
     },
     "metadata": {},
     "output_type": "display_data"
    },
    {
     "name": "stdout",
     "output_type": "stream",
     "text": [
      "val result - loss: 0.081, acc: 0.712, f1: 0.555\n",
      "\n",
      "end for logging current step 4800 !!!\n"
     ]
    },
    {
     "name": "stderr",
     "output_type": "stream",
     "text": [
      "C:\\Users\\ADMIN\\anaconda3\\envs\\bert_env\\Lib\\site-packages\\torch\\optim\\lr_scheduler.py:261: UserWarning: To get the last learning rate computed by the scheduler, please use `get_last_lr()`.\n",
      "  warnings.warn(\"To get the last learning rate computed by the scheduler, \"\n"
     ]
    },
    {
     "name": "stdout",
     "output_type": "stream",
     "text": [
      "Log write at epoch: 22, step: 4899 and lr: 5e-06\n",
      "\n",
      "train result - loss: 0.001, acc: 0.971, f1: 0.954\n",
      "\n",
      "***** Running evaluation\n",
      "  Num examples = %d 1114\n"
     ]
    },
    {
     "data": {
      "application/vnd.jupyter.widget-view+json": {
       "model_id": "b2de2534522b4828aebf48a2ecf209a7",
       "version_major": 2,
       "version_minor": 0
      },
      "text/plain": [
       "Evaluating:   0%|          | 0/70 [00:00<?, ?it/s]"
      ]
     },
     "metadata": {},
     "output_type": "display_data"
    },
    {
     "name": "stdout",
     "output_type": "stream",
     "text": [
      "val result - loss: 0.079, acc: 0.715, f1: 0.562\n",
      "\n",
      "end for logging current step 4899 !!!\n"
     ]
    },
    {
     "data": {
      "application/vnd.jupyter.widget-view+json": {
       "model_id": "f422454a73884b52839e7b15a9553014",
       "version_major": 2,
       "version_minor": 0
      },
      "text/plain": [
       "training ...:   0%|          | 0/1063 [00:00<?, ?it/s]"
      ]
     },
     "metadata": {},
     "output_type": "display_data"
    },
    {
     "name": "stderr",
     "output_type": "stream",
     "text": [
      "C:\\Users\\ADMIN\\anaconda3\\envs\\bert_env\\Lib\\site-packages\\torch\\optim\\lr_scheduler.py:261: UserWarning: To get the last learning rate computed by the scheduler, please use `get_last_lr()`.\n",
      "  warnings.warn(\"To get the last learning rate computed by the scheduler, \"\n"
     ]
    },
    {
     "name": "stdout",
     "output_type": "stream",
     "text": [
      "Log write at epoch: 23, step: 5112 and lr: 5e-06\n",
      "\n",
      "train result - loss: 0.001, acc: 0.97, f1: 0.952\n",
      "\n",
      "***** Running evaluation\n",
      "  Num examples = %d 1114\n"
     ]
    },
    {
     "data": {
      "application/vnd.jupyter.widget-view+json": {
       "model_id": "ca21ccda3bc24e0c9764bbfbfc9c811b",
       "version_major": 2,
       "version_minor": 0
      },
      "text/plain": [
       "Evaluating:   0%|          | 0/70 [00:00<?, ?it/s]"
      ]
     },
     "metadata": {},
     "output_type": "display_data"
    },
    {
     "name": "stdout",
     "output_type": "stream",
     "text": [
      "val result - loss: 0.08, acc: 0.7, f1: 0.551\n",
      "\n",
      "end for logging current step 5112 !!!\n"
     ]
    },
    {
     "data": {
      "application/vnd.jupyter.widget-view+json": {
       "model_id": "406d54188d264022bc5dab99316e9de4",
       "version_major": 2,
       "version_minor": 0
      },
      "text/plain": [
       "training ...:   0%|          | 0/1063 [00:00<?, ?it/s]"
      ]
     },
     "metadata": {},
     "output_type": "display_data"
    },
    {
     "name": "stderr",
     "output_type": "stream",
     "text": [
      "C:\\Users\\ADMIN\\anaconda3\\envs\\bert_env\\Lib\\site-packages\\torch\\optim\\lr_scheduler.py:261: UserWarning: To get the last learning rate computed by the scheduler, please use `get_last_lr()`.\n",
      "  warnings.warn(\"To get the last learning rate computed by the scheduler, \"\n"
     ]
    },
    {
     "name": "stdout",
     "output_type": "stream",
     "text": [
      "Log write at epoch: 24, step: 5200 and lr: 5e-06\n",
      "\n",
      "train result - loss: 0.0, acc: 0.975, f1: 0.96\n",
      "\n",
      "***** Running evaluation\n",
      "  Num examples = %d 1114\n"
     ]
    },
    {
     "data": {
      "application/vnd.jupyter.widget-view+json": {
       "model_id": "7f1178ffc7bc4992bfd1007e8855465d",
       "version_major": 2,
       "version_minor": 0
      },
      "text/plain": [
       "Evaluating:   0%|          | 0/70 [00:00<?, ?it/s]"
      ]
     },
     "metadata": {},
     "output_type": "display_data"
    },
    {
     "name": "stdout",
     "output_type": "stream",
     "text": [
      "val result - loss: 0.085, acc: 0.7, f1: 0.552\n",
      "\n",
      "end for logging current step 5200 !!!\n"
     ]
    },
    {
     "name": "stderr",
     "output_type": "stream",
     "text": [
      "C:\\Users\\ADMIN\\anaconda3\\envs\\bert_env\\Lib\\site-packages\\torch\\optim\\lr_scheduler.py:261: UserWarning: To get the last learning rate computed by the scheduler, please use `get_last_lr()`.\n",
      "  warnings.warn(\"To get the last learning rate computed by the scheduler, \"\n"
     ]
    },
    {
     "name": "stdout",
     "output_type": "stream",
     "text": [
      "Log write at epoch: 24, step: 5325 and lr: 5e-06\n",
      "\n",
      "train result - loss: 0.001, acc: 0.974, f1: 0.959\n",
      "\n",
      "***** Running evaluation\n",
      "  Num examples = %d 1114\n"
     ]
    },
    {
     "data": {
      "application/vnd.jupyter.widget-view+json": {
       "model_id": "924886687598463a8d2903a4bfe7cc88",
       "version_major": 2,
       "version_minor": 0
      },
      "text/plain": [
       "Evaluating:   0%|          | 0/70 [00:00<?, ?it/s]"
      ]
     },
     "metadata": {},
     "output_type": "display_data"
    },
    {
     "name": "stdout",
     "output_type": "stream",
     "text": [
      "val result - loss: 0.088, acc: 0.693, f1: 0.552\n",
      "\n",
      "end for logging current step 5325 !!!\n"
     ]
    },
    {
     "data": {
      "application/vnd.jupyter.widget-view+json": {
       "model_id": "ce6ad9c496dc4bb9a934da36e055c736",
       "version_major": 2,
       "version_minor": 0
      },
      "text/plain": [
       "training ...:   0%|          | 0/1063 [00:00<?, ?it/s]"
      ]
     },
     "metadata": {},
     "output_type": "display_data"
    },
    {
     "name": "stderr",
     "output_type": "stream",
     "text": [
      "C:\\Users\\ADMIN\\anaconda3\\envs\\bert_env\\Lib\\site-packages\\torch\\optim\\lr_scheduler.py:261: UserWarning: To get the last learning rate computed by the scheduler, please use `get_last_lr()`.\n",
      "  warnings.warn(\"To get the last learning rate computed by the scheduler, \"\n"
     ]
    },
    {
     "name": "stdout",
     "output_type": "stream",
     "text": [
      "Log write at epoch: 25, step: 5538 and lr: 5e-06\n",
      "\n",
      "train result - loss: 0.001, acc: 0.976, f1: 0.961\n",
      "\n",
      "***** Running evaluation\n",
      "  Num examples = %d 1114\n"
     ]
    },
    {
     "data": {
      "application/vnd.jupyter.widget-view+json": {
       "model_id": "3e373332cf7745a78b91b8e625e97c05",
       "version_major": 2,
       "version_minor": 0
      },
      "text/plain": [
       "Evaluating:   0%|          | 0/70 [00:00<?, ?it/s]"
      ]
     },
     "metadata": {},
     "output_type": "display_data"
    },
    {
     "name": "stdout",
     "output_type": "stream",
     "text": [
      "val result - loss: 0.09, acc: 0.698, f1: 0.56\n",
      "\n",
      "end for logging current step 5538 !!!\n"
     ]
    },
    {
     "data": {
      "application/vnd.jupyter.widget-view+json": {
       "model_id": "33e1f0750e1c42238d2c450c3ddd80ef",
       "version_major": 2,
       "version_minor": 0
      },
      "text/plain": [
       "training ...:   0%|          | 0/1063 [00:00<?, ?it/s]"
      ]
     },
     "metadata": {},
     "output_type": "display_data"
    },
    {
     "name": "stderr",
     "output_type": "stream",
     "text": [
      "C:\\Users\\ADMIN\\anaconda3\\envs\\bert_env\\Lib\\site-packages\\torch\\optim\\lr_scheduler.py:261: UserWarning: To get the last learning rate computed by the scheduler, please use `get_last_lr()`.\n",
      "  warnings.warn(\"To get the last learning rate computed by the scheduler, \"\n"
     ]
    },
    {
     "name": "stdout",
     "output_type": "stream",
     "text": [
      "Log write at epoch: 26, step: 5600 and lr: 5e-06\n",
      "\n",
      "train result - loss: 0.0, acc: 0.976, f1: 0.963\n",
      "\n",
      "***** Running evaluation\n",
      "  Num examples = %d 1114\n"
     ]
    },
    {
     "data": {
      "application/vnd.jupyter.widget-view+json": {
       "model_id": "06a1ba3ee40f4cdfa3ff9f53e00be6e5",
       "version_major": 2,
       "version_minor": 0
      },
      "text/plain": [
       "Evaluating:   0%|          | 0/70 [00:00<?, ?it/s]"
      ]
     },
     "metadata": {},
     "output_type": "display_data"
    },
    {
     "name": "stdout",
     "output_type": "stream",
     "text": [
      "val result - loss: 0.095, acc: 0.678, f1: 0.547\n",
      "\n",
      "end for logging current step 5600 !!!\n"
     ]
    },
    {
     "name": "stderr",
     "output_type": "stream",
     "text": [
      "C:\\Users\\ADMIN\\anaconda3\\envs\\bert_env\\Lib\\site-packages\\torch\\optim\\lr_scheduler.py:261: UserWarning: To get the last learning rate computed by the scheduler, please use `get_last_lr()`.\n",
      "  warnings.warn(\"To get the last learning rate computed by the scheduler, \"\n"
     ]
    },
    {
     "name": "stdout",
     "output_type": "stream",
     "text": [
      "Log write at epoch: 26, step: 5751 and lr: 5e-06\n",
      "\n",
      "train result - loss: 0.001, acc: 0.975, f1: 0.961\n",
      "\n",
      "***** Running evaluation\n",
      "  Num examples = %d 1114\n"
     ]
    },
    {
     "data": {
      "application/vnd.jupyter.widget-view+json": {
       "model_id": "f26fe882c47440618dfd1149f3c47c43",
       "version_major": 2,
       "version_minor": 0
      },
      "text/plain": [
       "Evaluating:   0%|          | 0/70 [00:00<?, ?it/s]"
      ]
     },
     "metadata": {},
     "output_type": "display_data"
    },
    {
     "name": "stdout",
     "output_type": "stream",
     "text": [
      "val result - loss: 0.09, acc: 0.689, f1: 0.543\n",
      "\n",
      "end for logging current step 5751 !!!\n"
     ]
    },
    {
     "data": {
      "application/vnd.jupyter.widget-view+json": {
       "model_id": "c6640035594a4a41b1c3717338fbfbaf",
       "version_major": 2,
       "version_minor": 0
      },
      "text/plain": [
       "training ...:   0%|          | 0/1063 [00:00<?, ?it/s]"
      ]
     },
     "metadata": {},
     "output_type": "display_data"
    },
    {
     "name": "stderr",
     "output_type": "stream",
     "text": [
      "C:\\Users\\ADMIN\\anaconda3\\envs\\bert_env\\Lib\\site-packages\\torch\\optim\\lr_scheduler.py:261: UserWarning: To get the last learning rate computed by the scheduler, please use `get_last_lr()`.\n",
      "  warnings.warn(\"To get the last learning rate computed by the scheduler, \"\n"
     ]
    },
    {
     "name": "stdout",
     "output_type": "stream",
     "text": [
      "Log write at epoch: 27, step: 5964 and lr: 4e-06\n",
      "\n",
      "train result - loss: 0.001, acc: 0.978, f1: 0.965\n",
      "\n",
      "***** Running evaluation\n",
      "  Num examples = %d 1114\n"
     ]
    },
    {
     "data": {
      "application/vnd.jupyter.widget-view+json": {
       "model_id": "95b6085570214587b0e7f9ea06b79d4d",
       "version_major": 2,
       "version_minor": 0
      },
      "text/plain": [
       "Evaluating:   0%|          | 0/70 [00:00<?, ?it/s]"
      ]
     },
     "metadata": {},
     "output_type": "display_data"
    },
    {
     "name": "stdout",
     "output_type": "stream",
     "text": [
      "val result - loss: 0.092, acc: 0.7, f1: 0.557\n",
      "\n",
      "end for logging current step 5964 !!!\n"
     ]
    },
    {
     "data": {
      "application/vnd.jupyter.widget-view+json": {
       "model_id": "7c6d1b29020d419cae5cb2dbf34bedc6",
       "version_major": 2,
       "version_minor": 0
      },
      "text/plain": [
       "training ...:   0%|          | 0/1063 [00:00<?, ?it/s]"
      ]
     },
     "metadata": {},
     "output_type": "display_data"
    },
    {
     "name": "stderr",
     "output_type": "stream",
     "text": [
      "C:\\Users\\ADMIN\\anaconda3\\envs\\bert_env\\Lib\\site-packages\\torch\\optim\\lr_scheduler.py:261: UserWarning: To get the last learning rate computed by the scheduler, please use `get_last_lr()`.\n",
      "  warnings.warn(\"To get the last learning rate computed by the scheduler, \"\n"
     ]
    },
    {
     "name": "stdout",
     "output_type": "stream",
     "text": [
      "Log write at epoch: 28, step: 6000 and lr: 4e-06\n",
      "\n",
      "train result - loss: 0.0, acc: 0.983, f1: 0.974\n",
      "\n",
      "***** Running evaluation\n",
      "  Num examples = %d 1114\n"
     ]
    },
    {
     "data": {
      "application/vnd.jupyter.widget-view+json": {
       "model_id": "e4a88ccb2d414fb78a4bce806a6d73e4",
       "version_major": 2,
       "version_minor": 0
      },
      "text/plain": [
       "Evaluating:   0%|          | 0/70 [00:00<?, ?it/s]"
      ]
     },
     "metadata": {},
     "output_type": "display_data"
    },
    {
     "name": "stdout",
     "output_type": "stream",
     "text": [
      "val result - loss: 0.092, acc: 0.712, f1: 0.546\n",
      "\n",
      "end for logging current step 6000 !!!\n"
     ]
    },
    {
     "name": "stderr",
     "output_type": "stream",
     "text": [
      "C:\\Users\\ADMIN\\anaconda3\\envs\\bert_env\\Lib\\site-packages\\torch\\optim\\lr_scheduler.py:261: UserWarning: To get the last learning rate computed by the scheduler, please use `get_last_lr()`.\n",
      "  warnings.warn(\"To get the last learning rate computed by the scheduler, \"\n"
     ]
    },
    {
     "name": "stdout",
     "output_type": "stream",
     "text": [
      "Log write at epoch: 28, step: 6177 and lr: 4e-06\n",
      "\n",
      "train result - loss: 0.001, acc: 0.98, f1: 0.968\n",
      "\n",
      "***** Running evaluation\n",
      "  Num examples = %d 1114\n"
     ]
    },
    {
     "data": {
      "application/vnd.jupyter.widget-view+json": {
       "model_id": "e573105087b54bae9221fdbb6f063d79",
       "version_major": 2,
       "version_minor": 0
      },
      "text/plain": [
       "Evaluating:   0%|          | 0/70 [00:00<?, ?it/s]"
      ]
     },
     "metadata": {},
     "output_type": "display_data"
    },
    {
     "name": "stdout",
     "output_type": "stream",
     "text": [
      "val result - loss: 0.093, acc: 0.706, f1: 0.537\n",
      "\n",
      "end for logging current step 6177 !!!\n"
     ]
    },
    {
     "data": {
      "application/vnd.jupyter.widget-view+json": {
       "model_id": "fc4d01c81f594983a415f69bc553ce6f",
       "version_major": 2,
       "version_minor": 0
      },
      "text/plain": [
       "training ...:   0%|          | 0/1063 [00:00<?, ?it/s]"
      ]
     },
     "metadata": {},
     "output_type": "display_data"
    },
    {
     "name": "stderr",
     "output_type": "stream",
     "text": [
      "C:\\Users\\ADMIN\\anaconda3\\envs\\bert_env\\Lib\\site-packages\\torch\\optim\\lr_scheduler.py:261: UserWarning: To get the last learning rate computed by the scheduler, please use `get_last_lr()`.\n",
      "  warnings.warn(\"To get the last learning rate computed by the scheduler, \"\n"
     ]
    },
    {
     "name": "stdout",
     "output_type": "stream",
     "text": [
      "Log write at epoch: 29, step: 6390 and lr: 4e-06\n",
      "\n",
      "train result - loss: 0.001, acc: 0.981, f1: 0.97\n",
      "\n",
      "***** Running evaluation\n",
      "  Num examples = %d 1114\n"
     ]
    },
    {
     "data": {
      "application/vnd.jupyter.widget-view+json": {
       "model_id": "869e9e51a3ba4950b9ec0e3064596b35",
       "version_major": 2,
       "version_minor": 0
      },
      "text/plain": [
       "Evaluating:   0%|          | 0/70 [00:00<?, ?it/s]"
      ]
     },
     "metadata": {},
     "output_type": "display_data"
    },
    {
     "name": "stdout",
     "output_type": "stream",
     "text": [
      "val result - loss: 0.103, acc: 0.689, f1: 0.558\n",
      "\n",
      "end for logging current step 6390 !!!\n"
     ]
    },
    {
     "data": {
      "application/vnd.jupyter.widget-view+json": {
       "model_id": "c96914addb75497fb0837239c7e05ded",
       "version_major": 2,
       "version_minor": 0
      },
      "text/plain": [
       "training ...:   0%|          | 0/1063 [00:00<?, ?it/s]"
      ]
     },
     "metadata": {},
     "output_type": "display_data"
    },
    {
     "name": "stderr",
     "output_type": "stream",
     "text": [
      "C:\\Users\\ADMIN\\anaconda3\\envs\\bert_env\\Lib\\site-packages\\torch\\optim\\lr_scheduler.py:261: UserWarning: To get the last learning rate computed by the scheduler, please use `get_last_lr()`.\n",
      "  warnings.warn(\"To get the last learning rate computed by the scheduler, \"\n"
     ]
    },
    {
     "name": "stdout",
     "output_type": "stream",
     "text": [
      "Log write at epoch: 30, step: 6400 and lr: 4e-06\n",
      "\n",
      "train result - loss: 0.0, acc: 0.984, f1: 0.974\n",
      "\n",
      "***** Running evaluation\n",
      "  Num examples = %d 1114\n"
     ]
    },
    {
     "data": {
      "application/vnd.jupyter.widget-view+json": {
       "model_id": "a37ecca9e42a47f8a14023646452bdb7",
       "version_major": 2,
       "version_minor": 0
      },
      "text/plain": [
       "Evaluating:   0%|          | 0/70 [00:00<?, ?it/s]"
      ]
     },
     "metadata": {},
     "output_type": "display_data"
    },
    {
     "name": "stdout",
     "output_type": "stream",
     "text": [
      "val result - loss: 0.099, acc: 0.709, f1: 0.544\n",
      "\n",
      "end for logging current step 6400 !!!\n"
     ]
    },
    {
     "name": "stderr",
     "output_type": "stream",
     "text": [
      "C:\\Users\\ADMIN\\anaconda3\\envs\\bert_env\\Lib\\site-packages\\torch\\optim\\lr_scheduler.py:261: UserWarning: To get the last learning rate computed by the scheduler, please use `get_last_lr()`.\n",
      "  warnings.warn(\"To get the last learning rate computed by the scheduler, \"\n"
     ]
    },
    {
     "name": "stdout",
     "output_type": "stream",
     "text": [
      "Log write at epoch: 30, step: 6603 and lr: 4e-06\n",
      "\n",
      "train result - loss: 0.001, acc: 0.981, f1: 0.97\n",
      "\n",
      "***** Running evaluation\n",
      "  Num examples = %d 1114\n"
     ]
    },
    {
     "data": {
      "application/vnd.jupyter.widget-view+json": {
       "model_id": "cc6f67f418f74e67bb49a85120a81c42",
       "version_major": 2,
       "version_minor": 0
      },
      "text/plain": [
       "Evaluating:   0%|          | 0/70 [00:00<?, ?it/s]"
      ]
     },
     "metadata": {},
     "output_type": "display_data"
    },
    {
     "name": "stdout",
     "output_type": "stream",
     "text": [
      "val result - loss: 0.095, acc: 0.721, f1: 0.558\n",
      "\n",
      "end for logging current step 6603 !!!\n"
     ]
    },
    {
     "data": {
      "application/vnd.jupyter.widget-view+json": {
       "model_id": "faf64e7a792546deb6ff1d20c979c02b",
       "version_major": 2,
       "version_minor": 0
      },
      "text/plain": [
       "training ...:   0%|          | 0/1063 [00:00<?, ?it/s]"
      ]
     },
     "metadata": {},
     "output_type": "display_data"
    },
    {
     "name": "stderr",
     "output_type": "stream",
     "text": [
      "C:\\Users\\ADMIN\\anaconda3\\envs\\bert_env\\Lib\\site-packages\\torch\\optim\\lr_scheduler.py:261: UserWarning: To get the last learning rate computed by the scheduler, please use `get_last_lr()`.\n",
      "  warnings.warn(\"To get the last learning rate computed by the scheduler, \"\n"
     ]
    },
    {
     "name": "stdout",
     "output_type": "stream",
     "text": [
      "Log write at epoch: 31, step: 6800 and lr: 4e-06\n",
      "\n",
      "train result - loss: 0.001, acc: 0.982, f1: 0.971\n",
      "\n",
      "***** Running evaluation\n",
      "  Num examples = %d 1114\n"
     ]
    },
    {
     "data": {
      "application/vnd.jupyter.widget-view+json": {
       "model_id": "f096ccc92bac445784ef0031bd726de9",
       "version_major": 2,
       "version_minor": 0
      },
      "text/plain": [
       "Evaluating:   0%|          | 0/70 [00:00<?, ?it/s]"
      ]
     },
     "metadata": {},
     "output_type": "display_data"
    },
    {
     "name": "stdout",
     "output_type": "stream",
     "text": [
      "val result - loss: 0.097, acc: 0.712, f1: 0.561\n",
      "\n",
      "end for logging current step 6800 !!!\n"
     ]
    },
    {
     "name": "stderr",
     "output_type": "stream",
     "text": [
      "C:\\Users\\ADMIN\\anaconda3\\envs\\bert_env\\Lib\\site-packages\\torch\\optim\\lr_scheduler.py:261: UserWarning: To get the last learning rate computed by the scheduler, please use `get_last_lr()`.\n",
      "  warnings.warn(\"To get the last learning rate computed by the scheduler, \"\n"
     ]
    },
    {
     "name": "stdout",
     "output_type": "stream",
     "text": [
      "Log write at epoch: 31, step: 6816 and lr: 4e-06\n",
      "\n",
      "train result - loss: 0.001, acc: 0.982, f1: 0.972\n",
      "\n",
      "***** Running evaluation\n",
      "  Num examples = %d 1114\n"
     ]
    },
    {
     "data": {
      "application/vnd.jupyter.widget-view+json": {
       "model_id": "0d2c4c7205db46e5a3a007690982885d",
       "version_major": 2,
       "version_minor": 0
      },
      "text/plain": [
       "Evaluating:   0%|          | 0/70 [00:00<?, ?it/s]"
      ]
     },
     "metadata": {},
     "output_type": "display_data"
    },
    {
     "name": "stdout",
     "output_type": "stream",
     "text": [
      "val result - loss: 0.099, acc: 0.701, f1: 0.548\n",
      "\n",
      "end for logging current step 6816 !!!\n"
     ]
    },
    {
     "data": {
      "application/vnd.jupyter.widget-view+json": {
       "model_id": "1e04a3939a14478e9fda33c30158eae1",
       "version_major": 2,
       "version_minor": 0
      },
      "text/plain": [
       "training ...:   0%|          | 0/1063 [00:00<?, ?it/s]"
      ]
     },
     "metadata": {},
     "output_type": "display_data"
    },
    {
     "name": "stderr",
     "output_type": "stream",
     "text": [
      "C:\\Users\\ADMIN\\anaconda3\\envs\\bert_env\\Lib\\site-packages\\torch\\optim\\lr_scheduler.py:261: UserWarning: To get the last learning rate computed by the scheduler, please use `get_last_lr()`.\n",
      "  warnings.warn(\"To get the last learning rate computed by the scheduler, \"\n"
     ]
    },
    {
     "name": "stdout",
     "output_type": "stream",
     "text": [
      "Log write at epoch: 32, step: 7029 and lr: 3e-06\n",
      "\n",
      "train result - loss: 0.001, acc: 0.983, f1: 0.974\n",
      "\n",
      "***** Running evaluation\n",
      "  Num examples = %d 1114\n"
     ]
    },
    {
     "data": {
      "application/vnd.jupyter.widget-view+json": {
       "model_id": "b3b4b77bdc8b423f8f7ce5ecd9a99ccf",
       "version_major": 2,
       "version_minor": 0
      },
      "text/plain": [
       "Evaluating:   0%|          | 0/70 [00:00<?, ?it/s]"
      ]
     },
     "metadata": {},
     "output_type": "display_data"
    },
    {
     "name": "stdout",
     "output_type": "stream",
     "text": [
      "val result - loss: 0.104, acc: 0.704, f1: 0.566\n",
      "\n",
      "end for logging current step 7029 !!!\n"
     ]
    },
    {
     "data": {
      "application/vnd.jupyter.widget-view+json": {
       "model_id": "7ac610ca2408474393542e080ec89925",
       "version_major": 2,
       "version_minor": 0
      },
      "text/plain": [
       "training ...:   0%|          | 0/1063 [00:00<?, ?it/s]"
      ]
     },
     "metadata": {},
     "output_type": "display_data"
    },
    {
     "name": "stderr",
     "output_type": "stream",
     "text": [
      "C:\\Users\\ADMIN\\anaconda3\\envs\\bert_env\\Lib\\site-packages\\torch\\optim\\lr_scheduler.py:261: UserWarning: To get the last learning rate computed by the scheduler, please use `get_last_lr()`.\n",
      "  warnings.warn(\"To get the last learning rate computed by the scheduler, \"\n"
     ]
    },
    {
     "name": "stdout",
     "output_type": "stream",
     "text": [
      "Log write at epoch: 33, step: 7200 and lr: 3e-06\n",
      "\n",
      "train result - loss: 0.0, acc: 0.985, f1: 0.976\n",
      "\n",
      "***** Running evaluation\n",
      "  Num examples = %d 1114\n"
     ]
    },
    {
     "data": {
      "application/vnd.jupyter.widget-view+json": {
       "model_id": "355733daa45f4a609df96083924575a2",
       "version_major": 2,
       "version_minor": 0
      },
      "text/plain": [
       "Evaluating:   0%|          | 0/70 [00:00<?, ?it/s]"
      ]
     },
     "metadata": {},
     "output_type": "display_data"
    },
    {
     "name": "stdout",
     "output_type": "stream",
     "text": [
      "val result - loss: 0.101, acc: 0.715, f1: 0.576\n",
      "\n",
      "end for logging current step 7200 !!!\n"
     ]
    },
    {
     "name": "stderr",
     "output_type": "stream",
     "text": [
      "C:\\Users\\ADMIN\\anaconda3\\envs\\bert_env\\Lib\\site-packages\\torch\\optim\\lr_scheduler.py:261: UserWarning: To get the last learning rate computed by the scheduler, please use `get_last_lr()`.\n",
      "  warnings.warn(\"To get the last learning rate computed by the scheduler, \"\n"
     ]
    },
    {
     "name": "stdout",
     "output_type": "stream",
     "text": [
      "Log write at epoch: 33, step: 7242 and lr: 3e-06\n",
      "\n",
      "train result - loss: 0.001, acc: 0.984, f1: 0.975\n",
      "\n",
      "***** Running evaluation\n",
      "  Num examples = %d 1114\n"
     ]
    },
    {
     "data": {
      "application/vnd.jupyter.widget-view+json": {
       "model_id": "478482d410ff4d3a8384566b6f1ae246",
       "version_major": 2,
       "version_minor": 0
      },
      "text/plain": [
       "Evaluating:   0%|          | 0/70 [00:00<?, ?it/s]"
      ]
     },
     "metadata": {},
     "output_type": "display_data"
    },
    {
     "name": "stdout",
     "output_type": "stream",
     "text": [
      "val result - loss: 0.102, acc: 0.711, f1: 0.575\n",
      "\n",
      "end for logging current step 7242 !!!\n"
     ]
    },
    {
     "data": {
      "application/vnd.jupyter.widget-view+json": {
       "model_id": "60a094c5f13b4106854b7dc5057db6b7",
       "version_major": 2,
       "version_minor": 0
      },
      "text/plain": [
       "training ...:   0%|          | 0/1063 [00:00<?, ?it/s]"
      ]
     },
     "metadata": {},
     "output_type": "display_data"
    },
    {
     "name": "stderr",
     "output_type": "stream",
     "text": [
      "C:\\Users\\ADMIN\\anaconda3\\envs\\bert_env\\Lib\\site-packages\\torch\\optim\\lr_scheduler.py:261: UserWarning: To get the last learning rate computed by the scheduler, please use `get_last_lr()`.\n",
      "  warnings.warn(\"To get the last learning rate computed by the scheduler, \"\n"
     ]
    },
    {
     "name": "stdout",
     "output_type": "stream",
     "text": [
      "Log write at epoch: 34, step: 7455 and lr: 3e-06\n",
      "\n",
      "train result - loss: 0.001, acc: 0.984, f1: 0.975\n",
      "\n",
      "***** Running evaluation\n",
      "  Num examples = %d 1114\n"
     ]
    },
    {
     "data": {
      "application/vnd.jupyter.widget-view+json": {
       "model_id": "563715af37ab4fa0b30ba74a87aa77d4",
       "version_major": 2,
       "version_minor": 0
      },
      "text/plain": [
       "Evaluating:   0%|          | 0/70 [00:00<?, ?it/s]"
      ]
     },
     "metadata": {},
     "output_type": "display_data"
    },
    {
     "name": "stdout",
     "output_type": "stream",
     "text": [
      "val result - loss: 0.103, acc: 0.693, f1: 0.562\n",
      "\n",
      "end for logging current step 7455 !!!\n"
     ]
    },
    {
     "data": {
      "application/vnd.jupyter.widget-view+json": {
       "model_id": "0e79a7a6dd3e4bbf91ffae042783d843",
       "version_major": 2,
       "version_minor": 0
      },
      "text/plain": [
       "training ...:   0%|          | 0/1063 [00:00<?, ?it/s]"
      ]
     },
     "metadata": {},
     "output_type": "display_data"
    },
    {
     "name": "stderr",
     "output_type": "stream",
     "text": [
      "C:\\Users\\ADMIN\\anaconda3\\envs\\bert_env\\Lib\\site-packages\\torch\\optim\\lr_scheduler.py:261: UserWarning: To get the last learning rate computed by the scheduler, please use `get_last_lr()`.\n",
      "  warnings.warn(\"To get the last learning rate computed by the scheduler, \"\n"
     ]
    },
    {
     "name": "stdout",
     "output_type": "stream",
     "text": [
      "Log write at epoch: 35, step: 7600 and lr: 3e-06\n",
      "\n",
      "train result - loss: 0.0, acc: 0.986, f1: 0.977\n",
      "\n",
      "***** Running evaluation\n",
      "  Num examples = %d 1114\n"
     ]
    },
    {
     "data": {
      "application/vnd.jupyter.widget-view+json": {
       "model_id": "66d526dfdcdb47959735147981e3c601",
       "version_major": 2,
       "version_minor": 0
      },
      "text/plain": [
       "Evaluating:   0%|          | 0/70 [00:00<?, ?it/s]"
      ]
     },
     "metadata": {},
     "output_type": "display_data"
    },
    {
     "name": "stdout",
     "output_type": "stream",
     "text": [
      "val result - loss: 0.105, acc: 0.715, f1: 0.55\n",
      "\n",
      "end for logging current step 7600 !!!\n"
     ]
    },
    {
     "name": "stderr",
     "output_type": "stream",
     "text": [
      "C:\\Users\\ADMIN\\anaconda3\\envs\\bert_env\\Lib\\site-packages\\torch\\optim\\lr_scheduler.py:261: UserWarning: To get the last learning rate computed by the scheduler, please use `get_last_lr()`.\n",
      "  warnings.warn(\"To get the last learning rate computed by the scheduler, \"\n"
     ]
    },
    {
     "name": "stdout",
     "output_type": "stream",
     "text": [
      "Log write at epoch: 35, step: 7668 and lr: 3e-06\n",
      "\n",
      "train result - loss: 0.0, acc: 0.986, f1: 0.979\n",
      "\n",
      "***** Running evaluation\n",
      "  Num examples = %d 1114\n"
     ]
    },
    {
     "data": {
      "application/vnd.jupyter.widget-view+json": {
       "model_id": "75f47caa6cab4a11b814f64dbf0b2b9a",
       "version_major": 2,
       "version_minor": 0
      },
      "text/plain": [
       "Evaluating:   0%|          | 0/70 [00:00<?, ?it/s]"
      ]
     },
     "metadata": {},
     "output_type": "display_data"
    },
    {
     "name": "stdout",
     "output_type": "stream",
     "text": [
      "val result - loss: 0.105, acc: 0.708, f1: 0.55\n",
      "\n",
      "end for logging current step 7668 !!!\n"
     ]
    },
    {
     "data": {
      "application/vnd.jupyter.widget-view+json": {
       "model_id": "bf24dcf5151041d987b9f4fc0207a91f",
       "version_major": 2,
       "version_minor": 0
      },
      "text/plain": [
       "training ...:   0%|          | 0/1063 [00:00<?, ?it/s]"
      ]
     },
     "metadata": {},
     "output_type": "display_data"
    },
    {
     "name": "stderr",
     "output_type": "stream",
     "text": [
      "C:\\Users\\ADMIN\\anaconda3\\envs\\bert_env\\Lib\\site-packages\\torch\\optim\\lr_scheduler.py:261: UserWarning: To get the last learning rate computed by the scheduler, please use `get_last_lr()`.\n",
      "  warnings.warn(\"To get the last learning rate computed by the scheduler, \"\n"
     ]
    },
    {
     "name": "stdout",
     "output_type": "stream",
     "text": [
      "Log write at epoch: 36, step: 7881 and lr: 3e-06\n",
      "\n",
      "train result - loss: 0.001, acc: 0.985, f1: 0.976\n",
      "\n",
      "***** Running evaluation\n",
      "  Num examples = %d 1114\n"
     ]
    },
    {
     "data": {
      "application/vnd.jupyter.widget-view+json": {
       "model_id": "b41edd713aad48daa113fedb82eda8b1",
       "version_major": 2,
       "version_minor": 0
      },
      "text/plain": [
       "Evaluating:   0%|          | 0/70 [00:00<?, ?it/s]"
      ]
     },
     "metadata": {},
     "output_type": "display_data"
    },
    {
     "name": "stdout",
     "output_type": "stream",
     "text": [
      "val result - loss: 0.104, acc: 0.715, f1: 0.548\n",
      "\n",
      "end for logging current step 7881 !!!\n"
     ]
    },
    {
     "data": {
      "application/vnd.jupyter.widget-view+json": {
       "model_id": "9b1bd458f1ad46fdb069ea6ce8464ea2",
       "version_major": 2,
       "version_minor": 0
      },
      "text/plain": [
       "training ...:   0%|          | 0/1063 [00:00<?, ?it/s]"
      ]
     },
     "metadata": {},
     "output_type": "display_data"
    },
    {
     "name": "stderr",
     "output_type": "stream",
     "text": [
      "C:\\Users\\ADMIN\\anaconda3\\envs\\bert_env\\Lib\\site-packages\\torch\\optim\\lr_scheduler.py:261: UserWarning: To get the last learning rate computed by the scheduler, please use `get_last_lr()`.\n",
      "  warnings.warn(\"To get the last learning rate computed by the scheduler, \"\n"
     ]
    },
    {
     "name": "stdout",
     "output_type": "stream",
     "text": [
      "Log write at epoch: 37, step: 8000 and lr: 2e-06\n",
      "\n",
      "train result - loss: 0.0, acc: 0.987, f1: 0.98\n",
      "\n",
      "***** Running evaluation\n",
      "  Num examples = %d 1114\n"
     ]
    },
    {
     "data": {
      "application/vnd.jupyter.widget-view+json": {
       "model_id": "e572ccca6e00491d9d0a87b06bfe8f50",
       "version_major": 2,
       "version_minor": 0
      },
      "text/plain": [
       "Evaluating:   0%|          | 0/70 [00:00<?, ?it/s]"
      ]
     },
     "metadata": {},
     "output_type": "display_data"
    },
    {
     "name": "stdout",
     "output_type": "stream",
     "text": [
      "val result - loss: 0.109, acc: 0.706, f1: 0.575\n",
      "\n",
      "end for logging current step 8000 !!!\n"
     ]
    },
    {
     "name": "stderr",
     "output_type": "stream",
     "text": [
      "C:\\Users\\ADMIN\\anaconda3\\envs\\bert_env\\Lib\\site-packages\\torch\\optim\\lr_scheduler.py:261: UserWarning: To get the last learning rate computed by the scheduler, please use `get_last_lr()`.\n",
      "  warnings.warn(\"To get the last learning rate computed by the scheduler, \"\n"
     ]
    },
    {
     "name": "stdout",
     "output_type": "stream",
     "text": [
      "Log write at epoch: 37, step: 8094 and lr: 2e-06\n",
      "\n",
      "train result - loss: 0.001, acc: 0.986, f1: 0.978\n",
      "\n",
      "***** Running evaluation\n",
      "  Num examples = %d 1114\n"
     ]
    },
    {
     "data": {
      "application/vnd.jupyter.widget-view+json": {
       "model_id": "688c214e238548a2ae970466cb72e402",
       "version_major": 2,
       "version_minor": 0
      },
      "text/plain": [
       "Evaluating:   0%|          | 0/70 [00:00<?, ?it/s]"
      ]
     },
     "metadata": {},
     "output_type": "display_data"
    },
    {
     "name": "stdout",
     "output_type": "stream",
     "text": [
      "val result - loss: 0.106, acc: 0.72, f1: 0.565\n",
      "\n",
      "end for logging current step 8094 !!!\n"
     ]
    },
    {
     "data": {
      "application/vnd.jupyter.widget-view+json": {
       "model_id": "f845140bc52641f39036e67f0f754cf1",
       "version_major": 2,
       "version_minor": 0
      },
      "text/plain": [
       "training ...:   0%|          | 0/1063 [00:00<?, ?it/s]"
      ]
     },
     "metadata": {},
     "output_type": "display_data"
    },
    {
     "name": "stderr",
     "output_type": "stream",
     "text": [
      "C:\\Users\\ADMIN\\anaconda3\\envs\\bert_env\\Lib\\site-packages\\torch\\optim\\lr_scheduler.py:261: UserWarning: To get the last learning rate computed by the scheduler, please use `get_last_lr()`.\n",
      "  warnings.warn(\"To get the last learning rate computed by the scheduler, \"\n"
     ]
    },
    {
     "name": "stdout",
     "output_type": "stream",
     "text": [
      "Log write at epoch: 38, step: 8307 and lr: 2e-06\n",
      "\n",
      "train result - loss: 0.0, acc: 0.987, f1: 0.98\n",
      "\n",
      "***** Running evaluation\n",
      "  Num examples = %d 1114\n"
     ]
    },
    {
     "data": {
      "application/vnd.jupyter.widget-view+json": {
       "model_id": "c10dde6c73b7455bb048c862be4f01bc",
       "version_major": 2,
       "version_minor": 0
      },
      "text/plain": [
       "Evaluating:   0%|          | 0/70 [00:00<?, ?it/s]"
      ]
     },
     "metadata": {},
     "output_type": "display_data"
    },
    {
     "name": "stdout",
     "output_type": "stream",
     "text": [
      "val result - loss: 0.108, acc: 0.711, f1: 0.57\n",
      "\n",
      "end for logging current step 8307 !!!\n"
     ]
    },
    {
     "data": {
      "application/vnd.jupyter.widget-view+json": {
       "model_id": "b8ffe5e91b9c4456b5e911fa9205a9af",
       "version_major": 2,
       "version_minor": 0
      },
      "text/plain": [
       "training ...:   0%|          | 0/1063 [00:00<?, ?it/s]"
      ]
     },
     "metadata": {},
     "output_type": "display_data"
    },
    {
     "name": "stderr",
     "output_type": "stream",
     "text": [
      "C:\\Users\\ADMIN\\anaconda3\\envs\\bert_env\\Lib\\site-packages\\torch\\optim\\lr_scheduler.py:261: UserWarning: To get the last learning rate computed by the scheduler, please use `get_last_lr()`.\n",
      "  warnings.warn(\"To get the last learning rate computed by the scheduler, \"\n"
     ]
    },
    {
     "name": "stdout",
     "output_type": "stream",
     "text": [
      "Log write at epoch: 39, step: 8400 and lr: 2e-06\n",
      "\n",
      "train result - loss: 0.0, acc: 0.988, f1: 0.982\n",
      "\n",
      "***** Running evaluation\n",
      "  Num examples = %d 1114\n"
     ]
    },
    {
     "data": {
      "application/vnd.jupyter.widget-view+json": {
       "model_id": "b81dffd61e60495bab4ce826f9afe53a",
       "version_major": 2,
       "version_minor": 0
      },
      "text/plain": [
       "Evaluating:   0%|          | 0/70 [00:00<?, ?it/s]"
      ]
     },
     "metadata": {},
     "output_type": "display_data"
    },
    {
     "name": "stdout",
     "output_type": "stream",
     "text": [
      "val result - loss: 0.107, acc: 0.724, f1: 0.556\n",
      "\n",
      "end for logging current step 8400 !!!\n"
     ]
    },
    {
     "name": "stderr",
     "output_type": "stream",
     "text": [
      "C:\\Users\\ADMIN\\anaconda3\\envs\\bert_env\\Lib\\site-packages\\torch\\optim\\lr_scheduler.py:261: UserWarning: To get the last learning rate computed by the scheduler, please use `get_last_lr()`.\n",
      "  warnings.warn(\"To get the last learning rate computed by the scheduler, \"\n"
     ]
    },
    {
     "name": "stdout",
     "output_type": "stream",
     "text": [
      "Log write at epoch: 39, step: 8520 and lr: 2e-06\n",
      "\n",
      "train result - loss: 0.0, acc: 0.989, f1: 0.982\n",
      "\n",
      "***** Running evaluation\n",
      "  Num examples = %d 1114\n"
     ]
    },
    {
     "data": {
      "application/vnd.jupyter.widget-view+json": {
       "model_id": "674376da714b4f06937a45739ce7923f",
       "version_major": 2,
       "version_minor": 0
      },
      "text/plain": [
       "Evaluating:   0%|          | 0/70 [00:00<?, ?it/s]"
      ]
     },
     "metadata": {},
     "output_type": "display_data"
    },
    {
     "name": "stdout",
     "output_type": "stream",
     "text": [
      "val result - loss: 0.114, acc: 0.696, f1: 0.575\n",
      "\n",
      "end for logging current step 8520 !!!\n"
     ]
    },
    {
     "data": {
      "application/vnd.jupyter.widget-view+json": {
       "model_id": "fbeb6d84ad21487fba2b66fd48f2b8bb",
       "version_major": 2,
       "version_minor": 0
      },
      "text/plain": [
       "training ...:   0%|          | 0/1063 [00:00<?, ?it/s]"
      ]
     },
     "metadata": {},
     "output_type": "display_data"
    },
    {
     "name": "stderr",
     "output_type": "stream",
     "text": [
      "C:\\Users\\ADMIN\\anaconda3\\envs\\bert_env\\Lib\\site-packages\\torch\\optim\\lr_scheduler.py:261: UserWarning: To get the last learning rate computed by the scheduler, please use `get_last_lr()`.\n",
      "  warnings.warn(\"To get the last learning rate computed by the scheduler, \"\n"
     ]
    },
    {
     "name": "stdout",
     "output_type": "stream",
     "text": [
      "Log write at epoch: 40, step: 8733 and lr: 2e-06\n",
      "\n",
      "train result - loss: 0.0, acc: 0.989, f1: 0.982\n",
      "\n",
      "***** Running evaluation\n",
      "  Num examples = %d 1114\n"
     ]
    },
    {
     "data": {
      "application/vnd.jupyter.widget-view+json": {
       "model_id": "07334c2a276343a08c2c9545475bcd22",
       "version_major": 2,
       "version_minor": 0
      },
      "text/plain": [
       "Evaluating:   0%|          | 0/70 [00:00<?, ?it/s]"
      ]
     },
     "metadata": {},
     "output_type": "display_data"
    },
    {
     "name": "stdout",
     "output_type": "stream",
     "text": [
      "val result - loss: 0.115, acc: 0.707, f1: 0.563\n",
      "\n",
      "end for logging current step 8733 !!!\n"
     ]
    },
    {
     "data": {
      "application/vnd.jupyter.widget-view+json": {
       "model_id": "11c8d865dde745eaabce8ed75db5a810",
       "version_major": 2,
       "version_minor": 0
      },
      "text/plain": [
       "training ...:   0%|          | 0/1063 [00:00<?, ?it/s]"
      ]
     },
     "metadata": {},
     "output_type": "display_data"
    },
    {
     "name": "stderr",
     "output_type": "stream",
     "text": [
      "C:\\Users\\ADMIN\\anaconda3\\envs\\bert_env\\Lib\\site-packages\\torch\\optim\\lr_scheduler.py:261: UserWarning: To get the last learning rate computed by the scheduler, please use `get_last_lr()`.\n",
      "  warnings.warn(\"To get the last learning rate computed by the scheduler, \"\n"
     ]
    },
    {
     "name": "stdout",
     "output_type": "stream",
     "text": [
      "Log write at epoch: 41, step: 8800 and lr: 2e-06\n",
      "\n",
      "train result - loss: 0.0, acc: 0.99, f1: 0.984\n",
      "\n",
      "***** Running evaluation\n",
      "  Num examples = %d 1114\n"
     ]
    },
    {
     "data": {
      "application/vnd.jupyter.widget-view+json": {
       "model_id": "c5b00a38df2a4192b8cfa07bc259dc9d",
       "version_major": 2,
       "version_minor": 0
      },
      "text/plain": [
       "Evaluating:   0%|          | 0/70 [00:00<?, ?it/s]"
      ]
     },
     "metadata": {},
     "output_type": "display_data"
    },
    {
     "name": "stdout",
     "output_type": "stream",
     "text": [
      "val result - loss: 0.113, acc: 0.716, f1: 0.564\n",
      "\n",
      "end for logging current step 8800 !!!\n"
     ]
    },
    {
     "name": "stderr",
     "output_type": "stream",
     "text": [
      "C:\\Users\\ADMIN\\anaconda3\\envs\\bert_env\\Lib\\site-packages\\torch\\optim\\lr_scheduler.py:261: UserWarning: To get the last learning rate computed by the scheduler, please use `get_last_lr()`.\n",
      "  warnings.warn(\"To get the last learning rate computed by the scheduler, \"\n"
     ]
    },
    {
     "name": "stdout",
     "output_type": "stream",
     "text": [
      "Log write at epoch: 41, step: 8946 and lr: 2e-06\n",
      "\n",
      "train result - loss: 0.0, acc: 0.989, f1: 0.983\n",
      "\n",
      "***** Running evaluation\n",
      "  Num examples = %d 1114\n"
     ]
    },
    {
     "data": {
      "application/vnd.jupyter.widget-view+json": {
       "model_id": "cf155adfa3374c8999812f0f5b1665b1",
       "version_major": 2,
       "version_minor": 0
      },
      "text/plain": [
       "Evaluating:   0%|          | 0/70 [00:00<?, ?it/s]"
      ]
     },
     "metadata": {},
     "output_type": "display_data"
    },
    {
     "name": "stdout",
     "output_type": "stream",
     "text": [
      "val result - loss: 0.117, acc: 0.711, f1: 0.555\n",
      "\n",
      "end for logging current step 8946 !!!\n"
     ]
    },
    {
     "data": {
      "application/vnd.jupyter.widget-view+json": {
       "model_id": "4e5cf508b0874d2db23790970cb5ebde",
       "version_major": 2,
       "version_minor": 0
      },
      "text/plain": [
       "training ...:   0%|          | 0/1063 [00:00<?, ?it/s]"
      ]
     },
     "metadata": {},
     "output_type": "display_data"
    },
    {
     "name": "stderr",
     "output_type": "stream",
     "text": [
      "C:\\Users\\ADMIN\\anaconda3\\envs\\bert_env\\Lib\\site-packages\\torch\\optim\\lr_scheduler.py:261: UserWarning: To get the last learning rate computed by the scheduler, please use `get_last_lr()`.\n",
      "  warnings.warn(\"To get the last learning rate computed by the scheduler, \"\n"
     ]
    },
    {
     "name": "stdout",
     "output_type": "stream",
     "text": [
      "Log write at epoch: 42, step: 9159 and lr: 1e-06\n",
      "\n",
      "train result - loss: 0.0, acc: 0.989, f1: 0.982\n",
      "\n",
      "***** Running evaluation\n",
      "  Num examples = %d 1114\n"
     ]
    },
    {
     "data": {
      "application/vnd.jupyter.widget-view+json": {
       "model_id": "fe13baf515bd4d9ba387fd04df48b6c8",
       "version_major": 2,
       "version_minor": 0
      },
      "text/plain": [
       "Evaluating:   0%|          | 0/70 [00:00<?, ?it/s]"
      ]
     },
     "metadata": {},
     "output_type": "display_data"
    },
    {
     "name": "stdout",
     "output_type": "stream",
     "text": [
      "val result - loss: 0.121, acc: 0.698, f1: 0.566\n",
      "\n",
      "end for logging current step 9159 !!!\n"
     ]
    },
    {
     "data": {
      "application/vnd.jupyter.widget-view+json": {
       "model_id": "f1a1973c0d224514a13b3eaeb7826f98",
       "version_major": 2,
       "version_minor": 0
      },
      "text/plain": [
       "training ...:   0%|          | 0/1063 [00:00<?, ?it/s]"
      ]
     },
     "metadata": {},
     "output_type": "display_data"
    },
    {
     "name": "stderr",
     "output_type": "stream",
     "text": [
      "C:\\Users\\ADMIN\\anaconda3\\envs\\bert_env\\Lib\\site-packages\\torch\\optim\\lr_scheduler.py:261: UserWarning: To get the last learning rate computed by the scheduler, please use `get_last_lr()`.\n",
      "  warnings.warn(\"To get the last learning rate computed by the scheduler, \"\n"
     ]
    },
    {
     "name": "stdout",
     "output_type": "stream",
     "text": [
      "Log write at epoch: 43, step: 9200 and lr: 1e-06\n",
      "\n",
      "train result - loss: 0.0, acc: 0.99, f1: 0.984\n",
      "\n",
      "***** Running evaluation\n",
      "  Num examples = %d 1114\n"
     ]
    },
    {
     "data": {
      "application/vnd.jupyter.widget-view+json": {
       "model_id": "b68c51d6de864ce9ab94a573c9019507",
       "version_major": 2,
       "version_minor": 0
      },
      "text/plain": [
       "Evaluating:   0%|          | 0/70 [00:00<?, ?it/s]"
      ]
     },
     "metadata": {},
     "output_type": "display_data"
    },
    {
     "name": "stdout",
     "output_type": "stream",
     "text": [
      "val result - loss: 0.118, acc: 0.713, f1: 0.563\n",
      "\n",
      "end for logging current step 9200 !!!\n"
     ]
    },
    {
     "name": "stderr",
     "output_type": "stream",
     "text": [
      "C:\\Users\\ADMIN\\anaconda3\\envs\\bert_env\\Lib\\site-packages\\torch\\optim\\lr_scheduler.py:261: UserWarning: To get the last learning rate computed by the scheduler, please use `get_last_lr()`.\n",
      "  warnings.warn(\"To get the last learning rate computed by the scheduler, \"\n"
     ]
    },
    {
     "name": "stdout",
     "output_type": "stream",
     "text": [
      "Log write at epoch: 43, step: 9372 and lr: 1e-06\n",
      "\n",
      "train result - loss: 0.0, acc: 0.99, f1: 0.984\n",
      "\n",
      "***** Running evaluation\n",
      "  Num examples = %d 1114\n"
     ]
    },
    {
     "data": {
      "application/vnd.jupyter.widget-view+json": {
       "model_id": "cadee8d0ec0749c0aacbd19c430d71c2",
       "version_major": 2,
       "version_minor": 0
      },
      "text/plain": [
       "Evaluating:   0%|          | 0/70 [00:00<?, ?it/s]"
      ]
     },
     "metadata": {},
     "output_type": "display_data"
    },
    {
     "name": "stdout",
     "output_type": "stream",
     "text": [
      "val result - loss: 0.12, acc: 0.707, f1: 0.559\n",
      "\n",
      "end for logging current step 9372 !!!\n"
     ]
    },
    {
     "data": {
      "application/vnd.jupyter.widget-view+json": {
       "model_id": "9ab7b859e0e54af19d4555a91d6d917b",
       "version_major": 2,
       "version_minor": 0
      },
      "text/plain": [
       "training ...:   0%|          | 0/1063 [00:00<?, ?it/s]"
      ]
     },
     "metadata": {},
     "output_type": "display_data"
    },
    {
     "name": "stderr",
     "output_type": "stream",
     "text": [
      "C:\\Users\\ADMIN\\anaconda3\\envs\\bert_env\\Lib\\site-packages\\torch\\optim\\lr_scheduler.py:261: UserWarning: To get the last learning rate computed by the scheduler, please use `get_last_lr()`.\n",
      "  warnings.warn(\"To get the last learning rate computed by the scheduler, \"\n"
     ]
    },
    {
     "name": "stdout",
     "output_type": "stream",
     "text": [
      "Log write at epoch: 44, step: 9585 and lr: 1e-06\n",
      "\n",
      "train result - loss: 0.0, acc: 0.992, f1: 0.987\n",
      "\n",
      "***** Running evaluation\n",
      "  Num examples = %d 1114\n"
     ]
    },
    {
     "data": {
      "application/vnd.jupyter.widget-view+json": {
       "model_id": "d44e759912054b1b8fd349591c404b68",
       "version_major": 2,
       "version_minor": 0
      },
      "text/plain": [
       "Evaluating:   0%|          | 0/70 [00:00<?, ?it/s]"
      ]
     },
     "metadata": {},
     "output_type": "display_data"
    },
    {
     "name": "stdout",
     "output_type": "stream",
     "text": [
      "val result - loss: 0.12, acc: 0.708, f1: 0.571\n",
      "\n",
      "end for logging current step 9585 !!!\n"
     ]
    },
    {
     "data": {
      "application/vnd.jupyter.widget-view+json": {
       "model_id": "54a8f663a278486d96c0e55f2dd764f0",
       "version_major": 2,
       "version_minor": 0
      },
      "text/plain": [
       "training ...:   0%|          | 0/1063 [00:00<?, ?it/s]"
      ]
     },
     "metadata": {},
     "output_type": "display_data"
    },
    {
     "name": "stderr",
     "output_type": "stream",
     "text": [
      "C:\\Users\\ADMIN\\anaconda3\\envs\\bert_env\\Lib\\site-packages\\torch\\optim\\lr_scheduler.py:261: UserWarning: To get the last learning rate computed by the scheduler, please use `get_last_lr()`.\n",
      "  warnings.warn(\"To get the last learning rate computed by the scheduler, \"\n"
     ]
    },
    {
     "name": "stdout",
     "output_type": "stream",
     "text": [
      "Log write at epoch: 45, step: 9600 and lr: 1e-06\n",
      "\n",
      "train result - loss: 0.0, acc: 0.994, f1: 0.991\n",
      "\n",
      "***** Running evaluation\n",
      "  Num examples = %d 1114\n"
     ]
    },
    {
     "data": {
      "application/vnd.jupyter.widget-view+json": {
       "model_id": "7e9b0c1f4110463ab50b5533ec3a8ee5",
       "version_major": 2,
       "version_minor": 0
      },
      "text/plain": [
       "Evaluating:   0%|          | 0/70 [00:00<?, ?it/s]"
      ]
     },
     "metadata": {},
     "output_type": "display_data"
    },
    {
     "name": "stdout",
     "output_type": "stream",
     "text": [
      "val result - loss: 0.12, acc: 0.714, f1: 0.568\n",
      "\n",
      "end for logging current step 9600 !!!\n"
     ]
    },
    {
     "name": "stderr",
     "output_type": "stream",
     "text": [
      "C:\\Users\\ADMIN\\anaconda3\\envs\\bert_env\\Lib\\site-packages\\torch\\optim\\lr_scheduler.py:261: UserWarning: To get the last learning rate computed by the scheduler, please use `get_last_lr()`.\n",
      "  warnings.warn(\"To get the last learning rate computed by the scheduler, \"\n"
     ]
    },
    {
     "name": "stdout",
     "output_type": "stream",
     "text": [
      "Log write at epoch: 45, step: 9798 and lr: 1e-06\n",
      "\n",
      "train result - loss: 0.0, acc: 0.99, f1: 0.985\n",
      "\n",
      "***** Running evaluation\n",
      "  Num examples = %d 1114\n"
     ]
    },
    {
     "data": {
      "application/vnd.jupyter.widget-view+json": {
       "model_id": "93970bdb515b43a293e34eac5b327d33",
       "version_major": 2,
       "version_minor": 0
      },
      "text/plain": [
       "Evaluating:   0%|          | 0/70 [00:00<?, ?it/s]"
      ]
     },
     "metadata": {},
     "output_type": "display_data"
    },
    {
     "name": "stdout",
     "output_type": "stream",
     "text": [
      "val result - loss: 0.118, acc: 0.727, f1: 0.558\n",
      "\n",
      "end for logging current step 9798 !!!\n"
     ]
    },
    {
     "data": {
      "application/vnd.jupyter.widget-view+json": {
       "model_id": "dc5be8fc8cbb477b9cee43701030ba19",
       "version_major": 2,
       "version_minor": 0
      },
      "text/plain": [
       "training ...:   0%|          | 0/1063 [00:00<?, ?it/s]"
      ]
     },
     "metadata": {},
     "output_type": "display_data"
    },
    {
     "name": "stderr",
     "output_type": "stream",
     "text": [
      "C:\\Users\\ADMIN\\anaconda3\\envs\\bert_env\\Lib\\site-packages\\torch\\optim\\lr_scheduler.py:261: UserWarning: To get the last learning rate computed by the scheduler, please use `get_last_lr()`.\n",
      "  warnings.warn(\"To get the last learning rate computed by the scheduler, \"\n"
     ]
    },
    {
     "name": "stdout",
     "output_type": "stream",
     "text": [
      "Log write at epoch: 46, step: 10000 and lr: 1e-06\n",
      "\n",
      "train result - loss: 0.0, acc: 0.991, f1: 0.986\n",
      "\n",
      "***** Running evaluation\n",
      "  Num examples = %d 1114\n"
     ]
    },
    {
     "data": {
      "application/vnd.jupyter.widget-view+json": {
       "model_id": "963d378b84cb48bdb05393b9af1af858",
       "version_major": 2,
       "version_minor": 0
      },
      "text/plain": [
       "Evaluating:   0%|          | 0/70 [00:00<?, ?it/s]"
      ]
     },
     "metadata": {},
     "output_type": "display_data"
    },
    {
     "name": "stdout",
     "output_type": "stream",
     "text": [
      "val result - loss: 0.12, acc: 0.71, f1: 0.554\n",
      "\n",
      "end for logging current step 10000 !!!\n"
     ]
    },
    {
     "name": "stderr",
     "output_type": "stream",
     "text": [
      "C:\\Users\\ADMIN\\anaconda3\\envs\\bert_env\\Lib\\site-packages\\torch\\optim\\lr_scheduler.py:261: UserWarning: To get the last learning rate computed by the scheduler, please use `get_last_lr()`.\n",
      "  warnings.warn(\"To get the last learning rate computed by the scheduler, \"\n"
     ]
    },
    {
     "name": "stdout",
     "output_type": "stream",
     "text": [
      "Log write at epoch: 46, step: 10011 and lr: 1e-06\n",
      "\n",
      "train result - loss: 0.0, acc: 0.991, f1: 0.986\n",
      "\n",
      "***** Running evaluation\n",
      "  Num examples = %d 1114\n"
     ]
    },
    {
     "data": {
      "application/vnd.jupyter.widget-view+json": {
       "model_id": "19504725ba8246db8160bb312aec71a0",
       "version_major": 2,
       "version_minor": 0
      },
      "text/plain": [
       "Evaluating:   0%|          | 0/70 [00:00<?, ?it/s]"
      ]
     },
     "metadata": {},
     "output_type": "display_data"
    },
    {
     "name": "stdout",
     "output_type": "stream",
     "text": [
      "val result - loss: 0.121, acc: 0.709, f1: 0.555\n",
      "\n",
      "end for logging current step 10011 !!!\n"
     ]
    },
    {
     "data": {
      "application/vnd.jupyter.widget-view+json": {
       "model_id": "5ea0422ed5e147e7bc0f1e7af76f84a8",
       "version_major": 2,
       "version_minor": 0
      },
      "text/plain": [
       "training ...:   0%|          | 0/1063 [00:00<?, ?it/s]"
      ]
     },
     "metadata": {},
     "output_type": "display_data"
    },
    {
     "name": "stderr",
     "output_type": "stream",
     "text": [
      "C:\\Users\\ADMIN\\anaconda3\\envs\\bert_env\\Lib\\site-packages\\torch\\optim\\lr_scheduler.py:261: UserWarning: To get the last learning rate computed by the scheduler, please use `get_last_lr()`.\n",
      "  warnings.warn(\"To get the last learning rate computed by the scheduler, \"\n"
     ]
    },
    {
     "name": "stdout",
     "output_type": "stream",
     "text": [
      "Log write at epoch: 47, step: 10224 and lr: 0.0\n",
      "\n",
      "train result - loss: 0.0, acc: 0.992, f1: 0.987\n",
      "\n",
      "***** Running evaluation\n",
      "  Num examples = %d 1114\n"
     ]
    },
    {
     "data": {
      "application/vnd.jupyter.widget-view+json": {
       "model_id": "92e66b6729fb495a982ac43dc18be5dc",
       "version_major": 2,
       "version_minor": 0
      },
      "text/plain": [
       "Evaluating:   0%|          | 0/70 [00:00<?, ?it/s]"
      ]
     },
     "metadata": {},
     "output_type": "display_data"
    },
    {
     "name": "stdout",
     "output_type": "stream",
     "text": [
      "val result - loss: 0.123, acc: 0.702, f1: 0.554\n",
      "\n",
      "end for logging current step 10224 !!!\n"
     ]
    },
    {
     "data": {
      "application/vnd.jupyter.widget-view+json": {
       "model_id": "a7d1efaaa3d54e978d189f3764b9c0be",
       "version_major": 2,
       "version_minor": 0
      },
      "text/plain": [
       "training ...:   0%|          | 0/1063 [00:00<?, ?it/s]"
      ]
     },
     "metadata": {},
     "output_type": "display_data"
    },
    {
     "name": "stderr",
     "output_type": "stream",
     "text": [
      "C:\\Users\\ADMIN\\anaconda3\\envs\\bert_env\\Lib\\site-packages\\torch\\optim\\lr_scheduler.py:261: UserWarning: To get the last learning rate computed by the scheduler, please use `get_last_lr()`.\n",
      "  warnings.warn(\"To get the last learning rate computed by the scheduler, \"\n"
     ]
    },
    {
     "name": "stdout",
     "output_type": "stream",
     "text": [
      "Log write at epoch: 48, step: 10400 and lr: 0.0\n",
      "\n",
      "train result - loss: 0.0, acc: 0.992, f1: 0.988\n",
      "\n",
      "***** Running evaluation\n",
      "  Num examples = %d 1114\n"
     ]
    },
    {
     "data": {
      "application/vnd.jupyter.widget-view+json": {
       "model_id": "2ec3efaeddc2479b8d35408021aa96e3",
       "version_major": 2,
       "version_minor": 0
      },
      "text/plain": [
       "Evaluating:   0%|          | 0/70 [00:00<?, ?it/s]"
      ]
     },
     "metadata": {},
     "output_type": "display_data"
    },
    {
     "name": "stdout",
     "output_type": "stream",
     "text": [
      "val result - loss: 0.123, acc: 0.708, f1: 0.55\n",
      "\n",
      "end for logging current step 10400 !!!\n"
     ]
    },
    {
     "name": "stderr",
     "output_type": "stream",
     "text": [
      "C:\\Users\\ADMIN\\anaconda3\\envs\\bert_env\\Lib\\site-packages\\torch\\optim\\lr_scheduler.py:261: UserWarning: To get the last learning rate computed by the scheduler, please use `get_last_lr()`.\n",
      "  warnings.warn(\"To get the last learning rate computed by the scheduler, \"\n"
     ]
    },
    {
     "name": "stdout",
     "output_type": "stream",
     "text": [
      "Log write at epoch: 48, step: 10437 and lr: 0.0\n",
      "\n",
      "train result - loss: 0.0, acc: 0.992, f1: 0.987\n",
      "\n",
      "***** Running evaluation\n",
      "  Num examples = %d 1114\n"
     ]
    },
    {
     "data": {
      "application/vnd.jupyter.widget-view+json": {
       "model_id": "4c6658173c4341c5af3632c855fc21d5",
       "version_major": 2,
       "version_minor": 0
      },
      "text/plain": [
       "Evaluating:   0%|          | 0/70 [00:00<?, ?it/s]"
      ]
     },
     "metadata": {},
     "output_type": "display_data"
    },
    {
     "name": "stdout",
     "output_type": "stream",
     "text": [
      "val result - loss: 0.122, acc: 0.708, f1: 0.55\n",
      "\n",
      "end for logging current step 10437 !!!\n"
     ]
    },
    {
     "data": {
      "application/vnd.jupyter.widget-view+json": {
       "model_id": "8e240fc933ee42faa2563d9a8828eb0f",
       "version_major": 2,
       "version_minor": 0
      },
      "text/plain": [
       "training ...:   0%|          | 0/1063 [00:00<?, ?it/s]"
      ]
     },
     "metadata": {},
     "output_type": "display_data"
    },
    {
     "name": "stderr",
     "output_type": "stream",
     "text": [
      "C:\\Users\\ADMIN\\anaconda3\\envs\\bert_env\\Lib\\site-packages\\torch\\optim\\lr_scheduler.py:261: UserWarning: To get the last learning rate computed by the scheduler, please use `get_last_lr()`.\n",
      "  warnings.warn(\"To get the last learning rate computed by the scheduler, \"\n"
     ]
    },
    {
     "name": "stdout",
     "output_type": "stream",
     "text": [
      "Log write at epoch: 49, step: 10650 and lr: 0.0\n",
      "\n",
      "train result - loss: 0.0, acc: 0.992, f1: 0.988\n",
      "\n",
      "***** Running evaluation\n",
      "  Num examples = %d 1114\n"
     ]
    },
    {
     "data": {
      "application/vnd.jupyter.widget-view+json": {
       "model_id": "3a00661380b24a5aa1a49c49f758c2cc",
       "version_major": 2,
       "version_minor": 0
      },
      "text/plain": [
       "Evaluating:   0%|          | 0/70 [00:00<?, ?it/s]"
      ]
     },
     "metadata": {},
     "output_type": "display_data"
    },
    {
     "name": "stdout",
     "output_type": "stream",
     "text": [
      "val result - loss: 0.124, acc: 0.707, f1: 0.552\n",
      "\n",
      "end for logging current step 10650 !!!\n"
     ]
    }
   ],
   "source": [
    "args = Args()\n",
    "train_model_bert(args)"
   ]
  },
  {
   "cell_type": "code",
   "execution_count": 7,
   "id": "798e4cff-328b-4aed-b36a-59b56e6637c2",
   "metadata": {},
   "outputs": [
    {
     "data": {
      "application/vnd.jupyter.widget-view+json": {
       "model_id": "649ca75777884d03a66bc9744ca1c1bf",
       "version_major": 2,
       "version_minor": 0
      },
      "text/plain": [
       "VBox(children=(Label(value='0.001 MB of 0.001 MB uploaded\\r'), FloatProgress(value=1.0, max=1.0)))"
      ]
     },
     "metadata": {},
     "output_type": "display_data"
    },
    {
     "data": {
      "text/html": [
       "<style>\n",
       "    table.wandb td:nth-child(1) { padding: 0 10px; text-align: left ; width: auto;} td:nth-child(2) {text-align: left ; width: 100%}\n",
       "    .wandb-row { display: flex; flex-direction: row; flex-wrap: wrap; justify-content: flex-start; width: 100% }\n",
       "    .wandb-col { display: flex; flex-direction: column; flex-basis: 100%; flex: 1; padding: 10px; }\n",
       "    </style>\n",
       "<div class=\"wandb-row\"><div class=\"wandb-col\"><h3>Run history:</h3><br/><table class=\"wandb\"><tr><td>Scheduler</td><td>████▇▇▇▇▇▆▆▆▆▆▆▅▅▅▅▅▄▄▄▄▄▄▃▃▃▃▃▂▂▂▂▂▂▁▁▁</td></tr><tr><td>Train_acc</td><td>▁▂▂▃▄▅▅▆▆▆▇▇▇▇▇▇▇▇██████████████████████</td></tr><tr><td>Train_f1</td><td>▁▂▃▄▅▆▆▇▇▇▇▇▇▇▇█████████████████████████</td></tr><tr><td>Train_loss</td><td>█▇▇▇▄▅▅▂▄▄▁▃▃▃▂▂▂▂▂▁▂▂▁▂▂▂▁▂▁▂▂▁▁▁▁▁▁▁▁▁</td></tr><tr><td>Val_acc</td><td>▅▅▁█▄█▇▂▄▂▄▄▄▄▁▃▃▅▅▄▄▃▅▃▆▄▅▅▅▅▆▆▄▅▅▅▆▅▅▄</td></tr><tr><td>Val_f1</td><td>▁▇█▆▇▇▇▇██▇▇▆▆▇▇▇██▇▇▇▇▇▇▇██▇▇█▇█▇██▇▇▇▇</td></tr><tr><td>Val_loss</td><td>▁▁▁▁▂▂▂▂▂▃▃▃▄▄▄▄▄▄▅▅▅▅▆▆▆▆▆▆▇▆▇▇▇▇██████</td></tr></table><br/></div><div class=\"wandb-col\"><h3>Run summary:</h3><br/><table class=\"wandb\"><tr><td>Scheduler</td><td>0.0</td></tr><tr><td>Train_acc</td><td>0.992</td></tr><tr><td>Train_f1</td><td>0.988</td></tr><tr><td>Train_loss</td><td>0.0</td></tr><tr><td>Val_acc</td><td>0.707</td></tr><tr><td>Val_f1</td><td>0.552</td></tr><tr><td>Val_loss</td><td>0.124</td></tr></table><br/></div></div>"
      ],
      "text/plain": [
       "<IPython.core.display.HTML object>"
      ]
     },
     "metadata": {},
     "output_type": "display_data"
    },
    {
     "data": {
      "text/html": [
       " View run <strong style=\"color:#cdcd00\">rosy-sponge-4</strong> at: <a href='https://wandb.ai/ntluong/Bert_zalo/runs/nqv87qhd' target=\"_blank\">https://wandb.ai/ntluong/Bert_zalo/runs/nqv87qhd</a><br/> View job at <a href='https://wandb.ai/ntluong/Bert_zalo/jobs/QXJ0aWZhY3RDb2xsZWN0aW9uOjEyNDk1NjM2OA==/version_details/v0' target=\"_blank\">https://wandb.ai/ntluong/Bert_zalo/jobs/QXJ0aWZhY3RDb2xsZWN0aW9uOjEyNDk1NjM2OA==/version_details/v0</a><br/>Synced 6 W&B file(s), 0 media file(s), 2 artifact file(s) and 0 other file(s)"
      ],
      "text/plain": [
       "<IPython.core.display.HTML object>"
      ]
     },
     "metadata": {},
     "output_type": "display_data"
    },
    {
     "data": {
      "text/html": [
       "Find logs at: <code>.\\wandb\\run-20231221_030933-nqv87qhd\\logs</code>"
      ],
      "text/plain": [
       "<IPython.core.display.HTML object>"
      ]
     },
     "metadata": {},
     "output_type": "display_data"
    }
   ],
   "source": [
    "wandb.finish()"
   ]
  },
  {
   "cell_type": "code",
   "execution_count": null,
   "id": "e211c0a0-afb5-4734-a9c0-5d7d08077ef9",
   "metadata": {},
   "outputs": [],
   "source": []
  }
 ],
 "metadata": {
  "kernelspec": {
   "display_name": "Python 3 (ipykernel)",
   "language": "python",
   "name": "python3"
  },
  "language_info": {
   "codemirror_mode": {
    "name": "ipython",
    "version": 3
   },
   "file_extension": ".py",
   "mimetype": "text/x-python",
   "name": "python",
   "nbconvert_exporter": "python",
   "pygments_lexer": "ipython3",
   "version": "3.11.5"
  }
 },
 "nbformat": 4,
 "nbformat_minor": 5
}
