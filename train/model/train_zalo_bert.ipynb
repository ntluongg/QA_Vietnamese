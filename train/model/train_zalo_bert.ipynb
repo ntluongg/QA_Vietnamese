{
 "cells": [
  {
   "cell_type": "code",
   "execution_count": 1,
   "id": "d9855fd5-73c4-4ccf-b39f-29290e36abaf",
   "metadata": {},
   "outputs": [],
   "source": [
    "from transformers import BertTokenizer\n",
    "from transformers import BertConfig\n",
    "from train_bert import *\n",
    "from BERT_model import *"
   ]
  },
  {
   "cell_type": "code",
   "execution_count": 7,
   "id": "d94cc0d7-0b93-43cf-9207-be0c6d6447e9",
   "metadata": {},
   "outputs": [],
   "source": [
    "import wandb"
   ]
  },
  {
   "cell_type": "code",
   "execution_count": 2,
   "id": "5e5a394c-fa0c-4daf-a4c8-743199608cfb",
   "metadata": {},
   "outputs": [],
   "source": [
    "class Args:\n",
    "    do_lower_case = True\n",
    "    folder_model = 'pretrain_uncased'\n",
    "\n",
    "    path_input_train_data = \"../dataset/data/train_test_origin_1k_dev.csv\"\n",
    "    path_input_test_data = \"../dataset/data/val_origin_1k.csv\"\n",
    "    path_input_validation_data = None\n",
    "\n",
    "    load_data_from_pt = False\n",
    "    path_pt_train_dataset = \"../dataset/torch_dataset/train_test_origin_1k_dev.pt\"\n",
    "    path_pt_test_dataset = \"../dataset/torch_dataset/val_origin_1k.pt\"\n",
    "    path_pt_validation_dataset = None\n",
    "\n",
    "    path_log_file = \"save_model/log_file.txt\"\n",
    "    output_dir = \"save_model/\"\n",
    "\n",
    "    max_seq_length = 400\n",
    "    max_query_length = 64\n",
    "\n",
    "    batch_size = 6\n",
    "\n",
    "    num_labels = 2\n",
    "    weight_class = [1, 1]\n",
    "\n",
    "    learning_rate = 1e-5\n",
    "    gradient_accumulation_steps = 5\n",
    "    weight_decay = 0.0\n",
    "    adam_epsilon = 1e-8\n",
    "    max_grad_norm = 1.0\n",
    "    warmup_steps = 0\n",
    "    use_pooler = True\n",
    "    output_hidden_states = True\n",
    "    # if use_pooler= False (mean concat 4 CLS in 4 last hidden_state BERT)\n",
    "    # you need to set output_hidden_states=True.\n",
    "\n",
    "    num_train_epochs = 5\n",
    "    save_steps = int(300 / gradient_accumulation_steps)\n",
    "\n",
    "    no_cuda = False\n",
    "    n_gpu = 1\n",
    "    device = \"cuda:0\"\n",
    "    seed = 42"
   ]
  },
  {
   "cell_type": "code",
   "execution_count": 3,
   "id": "27ddfedc-c9ac-48d4-b16e-6bcc1656eba8",
   "metadata": {},
   "outputs": [],
   "source": [
    "def train_model_bert(args):\n",
    "    # need remake config with device option for train with another cuda device\n",
    "    config = BertConfig.from_pretrained(args.folder_model)\n",
    "\n",
    "    config = config.to_dict()\n",
    "    config.update({\"device\": args.device})\n",
    "    config.update({\"use_pooler\": args.use_pooler})\n",
    "    config.update({\"weight_class\": args.weight_class})\n",
    "    config.update({\"output_hidden_states\": args.output_hidden_states})\n",
    "    config = BertConfig.from_dict(config)\n",
    "\n",
    "    tokenizer = BertTokenizer.from_pretrained(args.folder_model)\n",
    "    model = QaBERT.from_pretrained(args.folder_model, config=config)\n",
    "    model = model.to(args.device)\n",
    "    train_squad(args, tokenizer, model)"
   ]
  },
  {
   "cell_type": "code",
   "execution_count": 4,
   "id": "165033ea-763d-4623-84df-f790c5b80ab4",
   "metadata": {},
   "outputs": [
    {
     "name": "stderr",
     "output_type": "stream",
     "text": [
      "Some weights of QaBERT were not initialized from the model checkpoint at pretrain_uncased and are newly initialized: ['bert.pooler.dense.bias', 'output_layer.weight', 'bert.pooler.dense.weight', 'output_layer.bias']\n",
      "You should probably TRAIN this model on a down-stream task to be able to use it for predictions and inference.\n"
     ]
    },
    {
     "name": "stdout",
     "output_type": "stream",
     "text": [
      "Load dataset done !!!\n"
     ]
    },
    {
     "name": "stderr",
     "output_type": "stream",
     "text": [
      "C:\\Users\\ADMIN\\AppData\\Roaming\\Python\\Python311\\site-packages\\transformers\\optimization.py:429: FutureWarning: This implementation of AdamW is deprecated and will be removed in a future version. Use the PyTorch implementation torch.optim.AdamW instead, or set `no_deprecation_warning=True` to disable this warning\n",
      "  warnings.warn(\n"
     ]
    },
    {
     "data": {
      "application/vnd.jupyter.widget-view+json": {
       "model_id": "",
       "version_major": 2,
       "version_minor": 0
      },
      "text/plain": [
       "training ...:   0%|          | 0/2833 [00:00<?, ?it/s]"
      ]
     },
     "metadata": {},
     "output_type": "display_data"
    },
    {
     "name": "stderr",
     "output_type": "stream",
     "text": [
      "C:\\Users\\ADMIN\\anaconda3\\envs\\qa_prj\\Lib\\site-packages\\torch\\optim\\lr_scheduler.py:261: UserWarning: To get the last learning rate computed by the scheduler, please use `get_last_lr()`.\n",
      "  warnings.warn(\"To get the last learning rate computed by the scheduler, \"\n"
     ]
    },
    {
     "name": "stdout",
     "output_type": "stream",
     "text": [
      "Log write at epoch: 0, step: 120 and lr: 1e-05\n",
      "\n",
      "train result - loss: 0.004, acc: 0.681, f1: 0.237\n",
      "\n",
      "***** Running evaluation\n",
      "  Num examples = %d 1114\n"
     ]
    },
    {
     "data": {
      "application/vnd.jupyter.widget-view+json": {
       "model_id": "",
       "version_major": 2,
       "version_minor": 0
      },
      "text/plain": [
       "Evaluating:   0%|          | 0/186 [00:00<?, ?it/s]"
      ]
     },
     "metadata": {},
     "output_type": "display_data"
    },
    {
     "name": "stdout",
     "output_type": "stream",
     "text": [
      "test result - loss: 0.096, acc: 0.684, f1: 0.282\n",
      "\n",
      "end for logging current step 120 !!!\n"
     ]
    },
    {
     "name": "stderr",
     "output_type": "stream",
     "text": [
      "C:\\Users\\ADMIN\\anaconda3\\envs\\qa_prj\\Lib\\site-packages\\torch\\optim\\lr_scheduler.py:261: UserWarning: To get the last learning rate computed by the scheduler, please use `get_last_lr()`.\n",
      "  warnings.warn(\"To get the last learning rate computed by the scheduler, \"\n"
     ]
    },
    {
     "name": "stdout",
     "output_type": "stream",
     "text": [
      "Log write at epoch: 0, step: 180 and lr: 9e-06\n",
      "\n",
      "train result - loss: 0.006, acc: 0.689, f1: 0.281\n",
      "\n",
      "***** Running evaluation\n",
      "  Num examples = %d 1114\n"
     ]
    },
    {
     "data": {
      "application/vnd.jupyter.widget-view+json": {
       "model_id": "",
       "version_major": 2,
       "version_minor": 0
      },
      "text/plain": [
       "Evaluating:   0%|          | 0/186 [00:00<?, ?it/s]"
      ]
     },
     "metadata": {},
     "output_type": "display_data"
    },
    {
     "name": "stdout",
     "output_type": "stream",
     "text": [
      "test result - loss: 0.096, acc: 0.709, f1: 0.375\n",
      "\n",
      "end for logging current step 180 !!!\n"
     ]
    },
    {
     "name": "stderr",
     "output_type": "stream",
     "text": [
      "C:\\Users\\ADMIN\\anaconda3\\envs\\qa_prj\\Lib\\site-packages\\torch\\optim\\lr_scheduler.py:261: UserWarning: To get the last learning rate computed by the scheduler, please use `get_last_lr()`.\n",
      "  warnings.warn(\"To get the last learning rate computed by the scheduler, \"\n"
     ]
    },
    {
     "name": "stdout",
     "output_type": "stream",
     "text": [
      "Log write at epoch: 0, step: 240 and lr: 9e-06\n",
      "\n",
      "train result - loss: 0.008, acc: 0.691, f1: 0.282\n",
      "\n",
      "***** Running evaluation\n",
      "  Num examples = %d 1114\n"
     ]
    },
    {
     "data": {
      "application/vnd.jupyter.widget-view+json": {
       "model_id": "",
       "version_major": 2,
       "version_minor": 0
      },
      "text/plain": [
       "Evaluating:   0%|          | 0/186 [00:00<?, ?it/s]"
      ]
     },
     "metadata": {},
     "output_type": "display_data"
    },
    {
     "name": "stdout",
     "output_type": "stream",
     "text": [
      "test result - loss: 0.095, acc: 0.699, f1: 0.215\n",
      "\n",
      "end for logging current step 240 !!!\n"
     ]
    },
    {
     "name": "stderr",
     "output_type": "stream",
     "text": [
      "C:\\Users\\ADMIN\\anaconda3\\envs\\qa_prj\\Lib\\site-packages\\torch\\optim\\lr_scheduler.py:261: UserWarning: To get the last learning rate computed by the scheduler, please use `get_last_lr()`.\n",
      "  warnings.warn(\"To get the last learning rate computed by the scheduler, \"\n"
     ]
    },
    {
     "name": "stdout",
     "output_type": "stream",
     "text": [
      "Log write at epoch: 0, step: 300 and lr: 9e-06\n",
      "\n",
      "train result - loss: 0.01, acc: 0.697, f1: 0.284\n",
      "\n",
      "***** Running evaluation\n",
      "  Num examples = %d 1114\n"
     ]
    },
    {
     "data": {
      "application/vnd.jupyter.widget-view+json": {
       "model_id": "",
       "version_major": 2,
       "version_minor": 0
      },
      "text/plain": [
       "Evaluating:   0%|          | 0/186 [00:00<?, ?it/s]"
      ]
     },
     "metadata": {},
     "output_type": "display_data"
    },
    {
     "name": "stdout",
     "output_type": "stream",
     "text": [
      "test result - loss: 0.094, acc: 0.71, f1: 0.323\n",
      "\n",
      "end for logging current step 300 !!!\n"
     ]
    },
    {
     "name": "stderr",
     "output_type": "stream",
     "text": [
      "C:\\Users\\ADMIN\\anaconda3\\envs\\qa_prj\\Lib\\site-packages\\torch\\optim\\lr_scheduler.py:261: UserWarning: To get the last learning rate computed by the scheduler, please use `get_last_lr()`.\n",
      "  warnings.warn(\"To get the last learning rate computed by the scheduler, \"\n"
     ]
    },
    {
     "name": "stdout",
     "output_type": "stream",
     "text": [
      "Log write at epoch: 0, step: 360 and lr: 9e-06\n",
      "\n",
      "train result - loss: 0.012, acc: 0.7, f1: 0.29\n",
      "\n",
      "***** Running evaluation\n",
      "  Num examples = %d 1114\n"
     ]
    },
    {
     "data": {
      "application/vnd.jupyter.widget-view+json": {
       "model_id": "",
       "version_major": 2,
       "version_minor": 0
      },
      "text/plain": [
       "Evaluating:   0%|          | 0/186 [00:00<?, ?it/s]"
      ]
     },
     "metadata": {},
     "output_type": "display_data"
    },
    {
     "name": "stdout",
     "output_type": "stream",
     "text": [
      "test result - loss: 0.093, acc: 0.709, f1: 0.26\n",
      "\n",
      "end for logging current step 360 !!!\n"
     ]
    },
    {
     "name": "stderr",
     "output_type": "stream",
     "text": [
      "C:\\Users\\ADMIN\\anaconda3\\envs\\qa_prj\\Lib\\site-packages\\torch\\optim\\lr_scheduler.py:261: UserWarning: To get the last learning rate computed by the scheduler, please use `get_last_lr()`.\n",
      "  warnings.warn(\"To get the last learning rate computed by the scheduler, \"\n"
     ]
    },
    {
     "name": "stdout",
     "output_type": "stream",
     "text": [
      "Log write at epoch: 0, step: 420 and lr: 9e-06\n",
      "\n",
      "train result - loss: 0.014, acc: 0.703, f1: 0.305\n",
      "\n",
      "***** Running evaluation\n",
      "  Num examples = %d 1114\n"
     ]
    },
    {
     "data": {
      "application/vnd.jupyter.widget-view+json": {
       "model_id": "",
       "version_major": 2,
       "version_minor": 0
      },
      "text/plain": [
       "Evaluating:   0%|          | 0/186 [00:00<?, ?it/s]"
      ]
     },
     "metadata": {},
     "output_type": "display_data"
    },
    {
     "name": "stdout",
     "output_type": "stream",
     "text": [
      "test result - loss: 0.092, acc: 0.723, f1: 0.366\n",
      "\n",
      "end for logging current step 420 !!!\n"
     ]
    },
    {
     "name": "stderr",
     "output_type": "stream",
     "text": [
      "C:\\Users\\ADMIN\\anaconda3\\envs\\qa_prj\\Lib\\site-packages\\torch\\optim\\lr_scheduler.py:261: UserWarning: To get the last learning rate computed by the scheduler, please use `get_last_lr()`.\n",
      "  warnings.warn(\"To get the last learning rate computed by the scheduler, \"\n"
     ]
    },
    {
     "name": "stdout",
     "output_type": "stream",
     "text": [
      "Log write at epoch: 0, step: 480 and lr: 8e-06\n",
      "\n",
      "train result - loss: 0.017, acc: 0.703, f1: 0.314\n",
      "\n",
      "***** Running evaluation\n",
      "  Num examples = %d 1114\n"
     ]
    },
    {
     "data": {
      "application/vnd.jupyter.widget-view+json": {
       "model_id": "",
       "version_major": 2,
       "version_minor": 0
      },
      "text/plain": [
       "Evaluating:   0%|          | 0/186 [00:00<?, ?it/s]"
      ]
     },
     "metadata": {},
     "output_type": "display_data"
    },
    {
     "name": "stdout",
     "output_type": "stream",
     "text": [
      "test result - loss: 0.092, acc: 0.724, f1: 0.421\n",
      "\n",
      "end for logging current step 480 !!!\n"
     ]
    },
    {
     "name": "stderr",
     "output_type": "stream",
     "text": [
      "C:\\Users\\ADMIN\\anaconda3\\envs\\qa_prj\\Lib\\site-packages\\torch\\optim\\lr_scheduler.py:261: UserWarning: To get the last learning rate computed by the scheduler, please use `get_last_lr()`.\n",
      "  warnings.warn(\"To get the last learning rate computed by the scheduler, \"\n"
     ]
    },
    {
     "name": "stdout",
     "output_type": "stream",
     "text": [
      "Log write at epoch: 0, step: 540 and lr: 8e-06\n",
      "\n",
      "train result - loss: 0.018, acc: 0.705, f1: 0.332\n",
      "\n",
      "***** Running evaluation\n",
      "  Num examples = %d 1114\n"
     ]
    },
    {
     "data": {
      "application/vnd.jupyter.widget-view+json": {
       "model_id": "",
       "version_major": 2,
       "version_minor": 0
      },
      "text/plain": [
       "Evaluating:   0%|          | 0/186 [00:00<?, ?it/s]"
      ]
     },
     "metadata": {},
     "output_type": "display_data"
    },
    {
     "name": "stdout",
     "output_type": "stream",
     "text": [
      "test result - loss: 0.093, acc: 0.719, f1: 0.338\n",
      "\n",
      "end for logging current step 540 !!!\n"
     ]
    },
    {
     "name": "stderr",
     "output_type": "stream",
     "text": [
      "C:\\Users\\ADMIN\\anaconda3\\envs\\qa_prj\\Lib\\site-packages\\torch\\optim\\lr_scheduler.py:261: UserWarning: To get the last learning rate computed by the scheduler, please use `get_last_lr()`.\n",
      "  warnings.warn(\"To get the last learning rate computed by the scheduler, \"\n"
     ]
    },
    {
     "name": "stdout",
     "output_type": "stream",
     "text": [
      "Log write at epoch: 0, step: 567 and lr: 8e-06\n",
      "\n",
      "train result - loss: 0.019, acc: 0.704, f1: 0.332\n",
      "\n",
      "***** Running evaluation\n",
      "  Num examples = %d 1114\n"
     ]
    },
    {
     "data": {
      "application/vnd.jupyter.widget-view+json": {
       "model_id": "",
       "version_major": 2,
       "version_minor": 0
      },
      "text/plain": [
       "Evaluating:   0%|          | 0/186 [00:00<?, ?it/s]"
      ]
     },
     "metadata": {},
     "output_type": "display_data"
    },
    {
     "name": "stdout",
     "output_type": "stream",
     "text": [
      "test result - loss: 0.092, acc: 0.72, f1: 0.388\n",
      "\n",
      "end for logging current step 567 !!!\n"
     ]
    },
    {
     "data": {
      "application/vnd.jupyter.widget-view+json": {
       "model_id": "",
       "version_major": 2,
       "version_minor": 0
      },
      "text/plain": [
       "training ...:   0%|          | 0/2833 [00:00<?, ?it/s]"
      ]
     },
     "metadata": {},
     "output_type": "display_data"
    },
    {
     "name": "stderr",
     "output_type": "stream",
     "text": [
      "C:\\Users\\ADMIN\\anaconda3\\envs\\qa_prj\\Lib\\site-packages\\torch\\optim\\lr_scheduler.py:261: UserWarning: To get the last learning rate computed by the scheduler, please use `get_last_lr()`.\n",
      "  warnings.warn(\"To get the last learning rate computed by the scheduler, \"\n"
     ]
    },
    {
     "name": "stdout",
     "output_type": "stream",
     "text": [
      "Log write at epoch: 1, step: 600 and lr: 8e-06\n",
      "\n",
      "train result - loss: 0.001, acc: 0.737, f1: 0.463\n",
      "\n",
      "***** Running evaluation\n",
      "  Num examples = %d 1114\n"
     ]
    },
    {
     "data": {
      "application/vnd.jupyter.widget-view+json": {
       "model_id": "",
       "version_major": 2,
       "version_minor": 0
      },
      "text/plain": [
       "Evaluating:   0%|          | 0/186 [00:00<?, ?it/s]"
      ]
     },
     "metadata": {},
     "output_type": "display_data"
    },
    {
     "name": "stdout",
     "output_type": "stream",
     "text": [
      "test result - loss: 0.094, acc: 0.72, f1: 0.451\n",
      "\n",
      "end for logging current step 600 !!!\n"
     ]
    },
    {
     "name": "stderr",
     "output_type": "stream",
     "text": [
      "C:\\Users\\ADMIN\\anaconda3\\envs\\qa_prj\\Lib\\site-packages\\torch\\optim\\lr_scheduler.py:261: UserWarning: To get the last learning rate computed by the scheduler, please use `get_last_lr()`.\n",
      "  warnings.warn(\"To get the last learning rate computed by the scheduler, \"\n"
     ]
    },
    {
     "name": "stdout",
     "output_type": "stream",
     "text": [
      "Log write at epoch: 1, step: 660 and lr: 8e-06\n",
      "\n",
      "train result - loss: 0.003, acc: 0.738, f1: 0.459\n",
      "\n",
      "***** Running evaluation\n",
      "  Num examples = %d 1114\n"
     ]
    },
    {
     "data": {
      "application/vnd.jupyter.widget-view+json": {
       "model_id": "",
       "version_major": 2,
       "version_minor": 0
      },
      "text/plain": [
       "Evaluating:   0%|          | 0/186 [00:00<?, ?it/s]"
      ]
     },
     "metadata": {},
     "output_type": "display_data"
    },
    {
     "name": "stdout",
     "output_type": "stream",
     "text": [
      "test result - loss: 0.094, acc: 0.696, f1: 0.53\n",
      "\n",
      "end for logging current step 660 !!!\n"
     ]
    },
    {
     "name": "stderr",
     "output_type": "stream",
     "text": [
      "C:\\Users\\ADMIN\\anaconda3\\envs\\qa_prj\\Lib\\site-packages\\torch\\optim\\lr_scheduler.py:261: UserWarning: To get the last learning rate computed by the scheduler, please use `get_last_lr()`.\n",
      "  warnings.warn(\"To get the last learning rate computed by the scheduler, \"\n"
     ]
    },
    {
     "name": "stdout",
     "output_type": "stream",
     "text": [
      "Log write at epoch: 1, step: 720 and lr: 7e-06\n",
      "\n",
      "train result - loss: 0.005, acc: 0.729, f1: 0.461\n",
      "\n",
      "***** Running evaluation\n",
      "  Num examples = %d 1114\n"
     ]
    },
    {
     "data": {
      "application/vnd.jupyter.widget-view+json": {
       "model_id": "309e48f6161d4dbcbd0186484a05c7d8",
       "version_major": 2,
       "version_minor": 0
      },
      "text/plain": [
       "Evaluating:   0%|          | 0/186 [00:00<?, ?it/s]"
      ]
     },
     "metadata": {},
     "output_type": "display_data"
    },
    {
     "name": "stdout",
     "output_type": "stream",
     "text": [
      "test result - loss: 0.091, acc: 0.72, f1: 0.426\n",
      "\n",
      "end for logging current step 720 !!!\n"
     ]
    },
    {
     "name": "stderr",
     "output_type": "stream",
     "text": [
      "C:\\Users\\ADMIN\\anaconda3\\envs\\qa_prj\\Lib\\site-packages\\torch\\optim\\lr_scheduler.py:261: UserWarning: To get the last learning rate computed by the scheduler, please use `get_last_lr()`.\n",
      "  warnings.warn(\"To get the last learning rate computed by the scheduler, \"\n"
     ]
    },
    {
     "name": "stdout",
     "output_type": "stream",
     "text": [
      "Log write at epoch: 1, step: 780 and lr: 7e-06\n",
      "\n",
      "train result - loss: 0.007, acc: 0.733, f1: 0.462\n",
      "\n",
      "***** Running evaluation\n",
      "  Num examples = %d 1114\n"
     ]
    },
    {
     "data": {
      "application/vnd.jupyter.widget-view+json": {
       "model_id": "07066ddc34014db08ec004fd49699659",
       "version_major": 2,
       "version_minor": 0
      },
      "text/plain": [
       "Evaluating:   0%|          | 0/186 [00:00<?, ?it/s]"
      ]
     },
     "metadata": {},
     "output_type": "display_data"
    },
    {
     "name": "stdout",
     "output_type": "stream",
     "text": [
      "test result - loss: 0.094, acc: 0.715, f1: 0.398\n",
      "\n",
      "end for logging current step 780 !!!\n"
     ]
    },
    {
     "name": "stderr",
     "output_type": "stream",
     "text": [
      "C:\\Users\\ADMIN\\anaconda3\\envs\\qa_prj\\Lib\\site-packages\\torch\\optim\\lr_scheduler.py:261: UserWarning: To get the last learning rate computed by the scheduler, please use `get_last_lr()`.\n",
      "  warnings.warn(\"To get the last learning rate computed by the scheduler, \"\n"
     ]
    },
    {
     "name": "stdout",
     "output_type": "stream",
     "text": [
      "Log write at epoch: 1, step: 840 and lr: 7e-06\n",
      "\n",
      "train result - loss: 0.009, acc: 0.732, f1: 0.469\n",
      "\n",
      "***** Running evaluation\n",
      "  Num examples = %d 1114\n"
     ]
    },
    {
     "data": {
      "application/vnd.jupyter.widget-view+json": {
       "model_id": "b488ce583be349289967787cbecb2608",
       "version_major": 2,
       "version_minor": 0
      },
      "text/plain": [
       "Evaluating:   0%|          | 0/186 [00:00<?, ?it/s]"
      ]
     },
     "metadata": {},
     "output_type": "display_data"
    },
    {
     "name": "stdout",
     "output_type": "stream",
     "text": [
      "test result - loss: 0.092, acc: 0.721, f1: 0.484\n",
      "\n",
      "end for logging current step 840 !!!\n"
     ]
    },
    {
     "name": "stderr",
     "output_type": "stream",
     "text": [
      "C:\\Users\\ADMIN\\anaconda3\\envs\\qa_prj\\Lib\\site-packages\\torch\\optim\\lr_scheduler.py:261: UserWarning: To get the last learning rate computed by the scheduler, please use `get_last_lr()`.\n",
      "  warnings.warn(\"To get the last learning rate computed by the scheduler, \"\n"
     ]
    },
    {
     "name": "stdout",
     "output_type": "stream",
     "text": [
      "Log write at epoch: 1, step: 900 and lr: 7e-06\n",
      "\n",
      "train result - loss: 0.011, acc: 0.73, f1: 0.461\n",
      "\n",
      "***** Running evaluation\n",
      "  Num examples = %d 1114\n"
     ]
    },
    {
     "data": {
      "application/vnd.jupyter.widget-view+json": {
       "model_id": "077581577c044867adc7fcec88966c84",
       "version_major": 2,
       "version_minor": 0
      },
      "text/plain": [
       "Evaluating:   0%|          | 0/186 [00:00<?, ?it/s]"
      ]
     },
     "metadata": {},
     "output_type": "display_data"
    },
    {
     "name": "stdout",
     "output_type": "stream",
     "text": [
      "test result - loss: 0.095, acc: 0.717, f1: 0.262\n",
      "\n",
      "end for logging current step 900 !!!\n"
     ]
    },
    {
     "name": "stderr",
     "output_type": "stream",
     "text": [
      "C:\\Users\\ADMIN\\anaconda3\\envs\\qa_prj\\Lib\\site-packages\\torch\\optim\\lr_scheduler.py:261: UserWarning: To get the last learning rate computed by the scheduler, please use `get_last_lr()`.\n",
      "  warnings.warn(\"To get the last learning rate computed by the scheduler, \"\n"
     ]
    },
    {
     "name": "stdout",
     "output_type": "stream",
     "text": [
      "Log write at epoch: 1, step: 960 and lr: 7e-06\n",
      "\n",
      "train result - loss: 0.013, acc: 0.729, f1: 0.454\n",
      "\n",
      "***** Running evaluation\n",
      "  Num examples = %d 1114\n"
     ]
    },
    {
     "data": {
      "application/vnd.jupyter.widget-view+json": {
       "model_id": "a070c45b6a564e46bc1095db159da5db",
       "version_major": 2,
       "version_minor": 0
      },
      "text/plain": [
       "Evaluating:   0%|          | 0/186 [00:00<?, ?it/s]"
      ]
     },
     "metadata": {},
     "output_type": "display_data"
    },
    {
     "name": "stdout",
     "output_type": "stream",
     "text": [
      "test result - loss: 0.092, acc: 0.722, f1: 0.45\n",
      "\n",
      "end for logging current step 960 !!!\n"
     ]
    },
    {
     "name": "stderr",
     "output_type": "stream",
     "text": [
      "C:\\Users\\ADMIN\\anaconda3\\envs\\qa_prj\\Lib\\site-packages\\torch\\optim\\lr_scheduler.py:261: UserWarning: To get the last learning rate computed by the scheduler, please use `get_last_lr()`.\n",
      "  warnings.warn(\"To get the last learning rate computed by the scheduler, \"\n"
     ]
    },
    {
     "name": "stdout",
     "output_type": "stream",
     "text": [
      "Log write at epoch: 1, step: 1020 and lr: 6e-06\n",
      "\n",
      "train result - loss: 0.015, acc: 0.728, f1: 0.454\n",
      "\n",
      "***** Running evaluation\n",
      "  Num examples = %d 1114\n"
     ]
    },
    {
     "data": {
      "application/vnd.jupyter.widget-view+json": {
       "model_id": "18d0e9960aa34fa78aacdaf4bbd88d3b",
       "version_major": 2,
       "version_minor": 0
      },
      "text/plain": [
       "Evaluating:   0%|          | 0/186 [00:00<?, ?it/s]"
      ]
     },
     "metadata": {},
     "output_type": "display_data"
    },
    {
     "name": "stdout",
     "output_type": "stream",
     "text": [
      "test result - loss: 0.091, acc: 0.729, f1: 0.497\n",
      "\n",
      "end for logging current step 1020 !!!\n"
     ]
    },
    {
     "name": "stderr",
     "output_type": "stream",
     "text": [
      "C:\\Users\\ADMIN\\anaconda3\\envs\\qa_prj\\Lib\\site-packages\\torch\\optim\\lr_scheduler.py:261: UserWarning: To get the last learning rate computed by the scheduler, please use `get_last_lr()`.\n",
      "  warnings.warn(\"To get the last learning rate computed by the scheduler, \"\n"
     ]
    },
    {
     "name": "stdout",
     "output_type": "stream",
     "text": [
      "Log write at epoch: 1, step: 1080 and lr: 6e-06\n",
      "\n",
      "train result - loss: 0.016, acc: 0.73, f1: 0.463\n",
      "\n",
      "***** Running evaluation\n",
      "  Num examples = %d 1114\n"
     ]
    },
    {
     "data": {
      "application/vnd.jupyter.widget-view+json": {
       "model_id": "349b07bfcb7d4038870bc7cb32fb7ffb",
       "version_major": 2,
       "version_minor": 0
      },
      "text/plain": [
       "Evaluating:   0%|          | 0/186 [00:00<?, ?it/s]"
      ]
     },
     "metadata": {},
     "output_type": "display_data"
    },
    {
     "name": "stdout",
     "output_type": "stream",
     "text": [
      "test result - loss: 0.091, acc: 0.712, f1: 0.507\n",
      "\n",
      "end for logging current step 1080 !!!\n"
     ]
    },
    {
     "name": "stderr",
     "output_type": "stream",
     "text": [
      "C:\\Users\\ADMIN\\anaconda3\\envs\\qa_prj\\Lib\\site-packages\\torch\\optim\\lr_scheduler.py:261: UserWarning: To get the last learning rate computed by the scheduler, please use `get_last_lr()`.\n",
      "  warnings.warn(\"To get the last learning rate computed by the scheduler, \"\n"
     ]
    },
    {
     "name": "stdout",
     "output_type": "stream",
     "text": [
      "Log write at epoch: 1, step: 1134 and lr: 6e-06\n",
      "\n",
      "train result - loss: 0.018, acc: 0.732, f1: 0.467\n",
      "\n",
      "***** Running evaluation\n",
      "  Num examples = %d 1114\n"
     ]
    },
    {
     "data": {
      "application/vnd.jupyter.widget-view+json": {
       "model_id": "471cc50d9a1c422496819506ceba1f84",
       "version_major": 2,
       "version_minor": 0
      },
      "text/plain": [
       "Evaluating:   0%|          | 0/186 [00:00<?, ?it/s]"
      ]
     },
     "metadata": {},
     "output_type": "display_data"
    },
    {
     "name": "stdout",
     "output_type": "stream",
     "text": [
      "test result - loss: 0.091, acc: 0.727, f1: 0.538\n",
      "\n",
      "end for logging current step 1134 !!!\n"
     ]
    },
    {
     "data": {
      "application/vnd.jupyter.widget-view+json": {
       "model_id": "",
       "version_major": 2,
       "version_minor": 0
      },
      "text/plain": [
       "training ...:   0%|          | 0/2833 [00:00<?, ?it/s]"
      ]
     },
     "metadata": {},
     "output_type": "display_data"
    },
    {
     "name": "stderr",
     "output_type": "stream",
     "text": [
      "C:\\Users\\ADMIN\\anaconda3\\envs\\qa_prj\\Lib\\site-packages\\torch\\optim\\lr_scheduler.py:261: UserWarning: To get the last learning rate computed by the scheduler, please use `get_last_lr()`.\n",
      "  warnings.warn(\"To get the last learning rate computed by the scheduler, \"\n"
     ]
    },
    {
     "name": "stdout",
     "output_type": "stream",
     "text": [
      "Log write at epoch: 2, step: 1140 and lr: 6e-06\n",
      "\n",
      "train result - loss: 0.0, acc: 0.75, f1: 0.571\n",
      "\n",
      "***** Running evaluation\n",
      "  Num examples = %d 1114\n"
     ]
    },
    {
     "data": {
      "application/vnd.jupyter.widget-view+json": {
       "model_id": "15c386354c654e259c672f2438c5395f",
       "version_major": 2,
       "version_minor": 0
      },
      "text/plain": [
       "Evaluating:   0%|          | 0/186 [00:00<?, ?it/s]"
      ]
     },
     "metadata": {},
     "output_type": "display_data"
    },
    {
     "name": "stdout",
     "output_type": "stream",
     "text": [
      "test result - loss: 0.092, acc: 0.719, f1: 0.535\n",
      "\n",
      "end for logging current step 1140 !!!\n"
     ]
    },
    {
     "name": "stderr",
     "output_type": "stream",
     "text": [
      "C:\\Users\\ADMIN\\anaconda3\\envs\\qa_prj\\Lib\\site-packages\\torch\\optim\\lr_scheduler.py:261: UserWarning: To get the last learning rate computed by the scheduler, please use `get_last_lr()`.\n",
      "  warnings.warn(\"To get the last learning rate computed by the scheduler, \"\n"
     ]
    },
    {
     "name": "stdout",
     "output_type": "stream",
     "text": [
      "Log write at epoch: 2, step: 1200 and lr: 6e-06\n",
      "\n",
      "train result - loss: 0.002, acc: 0.76, f1: 0.562\n",
      "\n",
      "***** Running evaluation\n",
      "  Num examples = %d 1114\n"
     ]
    },
    {
     "data": {
      "application/vnd.jupyter.widget-view+json": {
       "model_id": "",
       "version_major": 2,
       "version_minor": 0
      },
      "text/plain": [
       "Evaluating:   0%|          | 0/186 [00:00<?, ?it/s]"
      ]
     },
     "metadata": {},
     "output_type": "display_data"
    },
    {
     "name": "stdout",
     "output_type": "stream",
     "text": [
      "test result - loss: 0.093, acc: 0.719, f1: 0.513\n",
      "\n",
      "end for logging current step 1200 !!!\n"
     ]
    },
    {
     "name": "stderr",
     "output_type": "stream",
     "text": [
      "C:\\Users\\ADMIN\\anaconda3\\envs\\qa_prj\\Lib\\site-packages\\torch\\optim\\lr_scheduler.py:261: UserWarning: To get the last learning rate computed by the scheduler, please use `get_last_lr()`.\n",
      "  warnings.warn(\"To get the last learning rate computed by the scheduler, \"\n"
     ]
    },
    {
     "name": "stdout",
     "output_type": "stream",
     "text": [
      "Log write at epoch: 2, step: 1260 and lr: 6e-06\n",
      "\n",
      "train result - loss: 0.004, acc: 0.762, f1: 0.561\n",
      "\n",
      "***** Running evaluation\n",
      "  Num examples = %d 1114\n"
     ]
    },
    {
     "data": {
      "application/vnd.jupyter.widget-view+json": {
       "model_id": "",
       "version_major": 2,
       "version_minor": 0
      },
      "text/plain": [
       "Evaluating:   0%|          | 0/186 [00:00<?, ?it/s]"
      ]
     },
     "metadata": {},
     "output_type": "display_data"
    },
    {
     "name": "stdout",
     "output_type": "stream",
     "text": [
      "test result - loss: 0.091, acc: 0.726, f1: 0.46\n",
      "\n",
      "end for logging current step 1260 !!!\n"
     ]
    },
    {
     "name": "stderr",
     "output_type": "stream",
     "text": [
      "C:\\Users\\ADMIN\\anaconda3\\envs\\qa_prj\\Lib\\site-packages\\torch\\optim\\lr_scheduler.py:261: UserWarning: To get the last learning rate computed by the scheduler, please use `get_last_lr()`.\n",
      "  warnings.warn(\"To get the last learning rate computed by the scheduler, \"\n"
     ]
    },
    {
     "name": "stdout",
     "output_type": "stream",
     "text": [
      "Log write at epoch: 2, step: 1320 and lr: 5e-06\n",
      "\n",
      "train result - loss: 0.005, acc: 0.763, f1: 0.56\n",
      "\n",
      "***** Running evaluation\n",
      "  Num examples = %d 1114\n"
     ]
    },
    {
     "data": {
      "application/vnd.jupyter.widget-view+json": {
       "model_id": "",
       "version_major": 2,
       "version_minor": 0
      },
      "text/plain": [
       "Evaluating:   0%|          | 0/186 [00:00<?, ?it/s]"
      ]
     },
     "metadata": {},
     "output_type": "display_data"
    },
    {
     "name": "stdout",
     "output_type": "stream",
     "text": [
      "test result - loss: 0.093, acc: 0.718, f1: 0.514\n",
      "\n",
      "end for logging current step 1320 !!!\n"
     ]
    },
    {
     "name": "stderr",
     "output_type": "stream",
     "text": [
      "C:\\Users\\ADMIN\\anaconda3\\envs\\qa_prj\\Lib\\site-packages\\torch\\optim\\lr_scheduler.py:261: UserWarning: To get the last learning rate computed by the scheduler, please use `get_last_lr()`.\n",
      "  warnings.warn(\"To get the last learning rate computed by the scheduler, \"\n"
     ]
    },
    {
     "name": "stdout",
     "output_type": "stream",
     "text": [
      "Log write at epoch: 2, step: 1380 and lr: 5e-06\n",
      "\n",
      "train result - loss: 0.007, acc: 0.764, f1: 0.551\n",
      "\n",
      "***** Running evaluation\n",
      "  Num examples = %d 1114\n"
     ]
    },
    {
     "data": {
      "application/vnd.jupyter.widget-view+json": {
       "model_id": "",
       "version_major": 2,
       "version_minor": 0
      },
      "text/plain": [
       "Evaluating:   0%|          | 0/186 [00:00<?, ?it/s]"
      ]
     },
     "metadata": {},
     "output_type": "display_data"
    },
    {
     "name": "stdout",
     "output_type": "stream",
     "text": [
      "test result - loss: 0.093, acc: 0.72, f1: 0.426\n",
      "\n",
      "end for logging current step 1380 !!!\n"
     ]
    },
    {
     "name": "stderr",
     "output_type": "stream",
     "text": [
      "C:\\Users\\ADMIN\\anaconda3\\envs\\qa_prj\\Lib\\site-packages\\torch\\optim\\lr_scheduler.py:261: UserWarning: To get the last learning rate computed by the scheduler, please use `get_last_lr()`.\n",
      "  warnings.warn(\"To get the last learning rate computed by the scheduler, \"\n"
     ]
    },
    {
     "name": "stdout",
     "output_type": "stream",
     "text": [
      "Log write at epoch: 2, step: 1440 and lr: 5e-06\n",
      "\n",
      "train result - loss: 0.009, acc: 0.762, f1: 0.548\n",
      "\n",
      "***** Running evaluation\n",
      "  Num examples = %d 1114\n"
     ]
    },
    {
     "data": {
      "application/vnd.jupyter.widget-view+json": {
       "model_id": "",
       "version_major": 2,
       "version_minor": 0
      },
      "text/plain": [
       "Evaluating:   0%|          | 0/186 [00:00<?, ?it/s]"
      ]
     },
     "metadata": {},
     "output_type": "display_data"
    },
    {
     "name": "stdout",
     "output_type": "stream",
     "text": [
      "test result - loss: 0.094, acc: 0.715, f1: 0.485\n",
      "\n",
      "end for logging current step 1440 !!!\n"
     ]
    },
    {
     "name": "stderr",
     "output_type": "stream",
     "text": [
      "C:\\Users\\ADMIN\\anaconda3\\envs\\qa_prj\\Lib\\site-packages\\torch\\optim\\lr_scheduler.py:261: UserWarning: To get the last learning rate computed by the scheduler, please use `get_last_lr()`.\n",
      "  warnings.warn(\"To get the last learning rate computed by the scheduler, \"\n"
     ]
    },
    {
     "name": "stdout",
     "output_type": "stream",
     "text": [
      "Log write at epoch: 2, step: 1500 and lr: 5e-06\n",
      "\n",
      "train result - loss: 0.011, acc: 0.761, f1: 0.543\n",
      "\n",
      "***** Running evaluation\n",
      "  Num examples = %d 1114\n"
     ]
    },
    {
     "data": {
      "application/vnd.jupyter.widget-view+json": {
       "model_id": "",
       "version_major": 2,
       "version_minor": 0
      },
      "text/plain": [
       "Evaluating:   0%|          | 0/186 [00:00<?, ?it/s]"
      ]
     },
     "metadata": {},
     "output_type": "display_data"
    },
    {
     "name": "stdout",
     "output_type": "stream",
     "text": [
      "test result - loss: 0.094, acc: 0.712, f1: 0.527\n",
      "\n",
      "end for logging current step 1500 !!!\n"
     ]
    },
    {
     "name": "stderr",
     "output_type": "stream",
     "text": [
      "C:\\Users\\ADMIN\\anaconda3\\envs\\qa_prj\\Lib\\site-packages\\torch\\optim\\lr_scheduler.py:261: UserWarning: To get the last learning rate computed by the scheduler, please use `get_last_lr()`.\n",
      "  warnings.warn(\"To get the last learning rate computed by the scheduler, \"\n"
     ]
    },
    {
     "name": "stdout",
     "output_type": "stream",
     "text": [
      "Log write at epoch: 2, step: 1560 and lr: 4e-06\n",
      "\n",
      "train result - loss: 0.013, acc: 0.761, f1: 0.545\n",
      "\n",
      "***** Running evaluation\n",
      "  Num examples = %d 1114\n"
     ]
    },
    {
     "data": {
      "application/vnd.jupyter.widget-view+json": {
       "model_id": "",
       "version_major": 2,
       "version_minor": 0
      },
      "text/plain": [
       "Evaluating:   0%|          | 0/186 [00:00<?, ?it/s]"
      ]
     },
     "metadata": {},
     "output_type": "display_data"
    },
    {
     "name": "stdout",
     "output_type": "stream",
     "text": [
      "test result - loss: 0.092, acc: 0.717, f1: 0.531\n",
      "\n",
      "end for logging current step 1560 !!!\n"
     ]
    },
    {
     "name": "stderr",
     "output_type": "stream",
     "text": [
      "C:\\Users\\ADMIN\\anaconda3\\envs\\qa_prj\\Lib\\site-packages\\torch\\optim\\lr_scheduler.py:261: UserWarning: To get the last learning rate computed by the scheduler, please use `get_last_lr()`.\n",
      "  warnings.warn(\"To get the last learning rate computed by the scheduler, \"\n"
     ]
    },
    {
     "name": "stdout",
     "output_type": "stream",
     "text": [
      "Log write at epoch: 2, step: 1620 and lr: 4e-06\n",
      "\n",
      "train result - loss: 0.014, acc: 0.76, f1: 0.547\n",
      "\n",
      "***** Running evaluation\n",
      "  Num examples = %d 1114\n"
     ]
    },
    {
     "data": {
      "application/vnd.jupyter.widget-view+json": {
       "model_id": "",
       "version_major": 2,
       "version_minor": 0
      },
      "text/plain": [
       "Evaluating:   0%|          | 0/186 [00:00<?, ?it/s]"
      ]
     },
     "metadata": {},
     "output_type": "display_data"
    },
    {
     "name": "stdout",
     "output_type": "stream",
     "text": [
      "test result - loss: 0.092, acc: 0.725, f1: 0.534\n",
      "\n",
      "end for logging current step 1620 !!!\n"
     ]
    },
    {
     "name": "stderr",
     "output_type": "stream",
     "text": [
      "C:\\Users\\ADMIN\\anaconda3\\envs\\qa_prj\\Lib\\site-packages\\torch\\optim\\lr_scheduler.py:261: UserWarning: To get the last learning rate computed by the scheduler, please use `get_last_lr()`.\n",
      "  warnings.warn(\"To get the last learning rate computed by the scheduler, \"\n"
     ]
    },
    {
     "name": "stdout",
     "output_type": "stream",
     "text": [
      "Log write at epoch: 2, step: 1680 and lr: 4e-06\n",
      "\n",
      "train result - loss: 0.016, acc: 0.763, f1: 0.554\n",
      "\n",
      "***** Running evaluation\n",
      "  Num examples = %d 1114\n"
     ]
    },
    {
     "data": {
      "application/vnd.jupyter.widget-view+json": {
       "model_id": "",
       "version_major": 2,
       "version_minor": 0
      },
      "text/plain": [
       "Evaluating:   0%|          | 0/186 [00:00<?, ?it/s]"
      ]
     },
     "metadata": {},
     "output_type": "display_data"
    },
    {
     "name": "stdout",
     "output_type": "stream",
     "text": [
      "test result - loss: 0.094, acc: 0.73, f1: 0.53\n",
      "\n",
      "end for logging current step 1680 !!!\n"
     ]
    },
    {
     "name": "stderr",
     "output_type": "stream",
     "text": [
      "C:\\Users\\ADMIN\\anaconda3\\envs\\qa_prj\\Lib\\site-packages\\torch\\optim\\lr_scheduler.py:261: UserWarning: To get the last learning rate computed by the scheduler, please use `get_last_lr()`.\n",
      "  warnings.warn(\"To get the last learning rate computed by the scheduler, \"\n"
     ]
    },
    {
     "name": "stdout",
     "output_type": "stream",
     "text": [
      "Log write at epoch: 2, step: 1701 and lr: 4e-06\n",
      "\n",
      "train result - loss: 0.017, acc: 0.763, f1: 0.554\n",
      "\n",
      "***** Running evaluation\n",
      "  Num examples = %d 1114\n"
     ]
    },
    {
     "data": {
      "application/vnd.jupyter.widget-view+json": {
       "model_id": "",
       "version_major": 2,
       "version_minor": 0
      },
      "text/plain": [
       "Evaluating:   0%|          | 0/186 [00:00<?, ?it/s]"
      ]
     },
     "metadata": {},
     "output_type": "display_data"
    },
    {
     "name": "stdout",
     "output_type": "stream",
     "text": [
      "test result - loss: 0.093, acc: 0.723, f1: 0.515\n",
      "\n",
      "end for logging current step 1701 !!!\n"
     ]
    },
    {
     "data": {
      "application/vnd.jupyter.widget-view+json": {
       "model_id": "",
       "version_major": 2,
       "version_minor": 0
      },
      "text/plain": [
       "training ...:   0%|          | 0/2833 [00:00<?, ?it/s]"
      ]
     },
     "metadata": {},
     "output_type": "display_data"
    },
    {
     "name": "stderr",
     "output_type": "stream",
     "text": [
      "C:\\Users\\ADMIN\\anaconda3\\envs\\qa_prj\\Lib\\site-packages\\torch\\optim\\lr_scheduler.py:261: UserWarning: To get the last learning rate computed by the scheduler, please use `get_last_lr()`.\n",
      "  warnings.warn(\"To get the last learning rate computed by the scheduler, \"\n"
     ]
    },
    {
     "name": "stdout",
     "output_type": "stream",
     "text": [
      "Log write at epoch: 3, step: 1740 and lr: 4e-06\n",
      "\n",
      "train result - loss: 0.001, acc: 0.804, f1: 0.624\n",
      "\n",
      "***** Running evaluation\n",
      "  Num examples = %d 1114\n"
     ]
    },
    {
     "data": {
      "application/vnd.jupyter.widget-view+json": {
       "model_id": "",
       "version_major": 2,
       "version_minor": 0
      },
      "text/plain": [
       "Evaluating:   0%|          | 0/186 [00:00<?, ?it/s]"
      ]
     },
     "metadata": {},
     "output_type": "display_data"
    },
    {
     "name": "stdout",
     "output_type": "stream",
     "text": [
      "test result - loss: 0.095, acc: 0.721, f1: 0.496\n",
      "\n",
      "end for logging current step 1740 !!!\n"
     ]
    },
    {
     "name": "stderr",
     "output_type": "stream",
     "text": [
      "C:\\Users\\ADMIN\\anaconda3\\envs\\qa_prj\\Lib\\site-packages\\torch\\optim\\lr_scheduler.py:261: UserWarning: To get the last learning rate computed by the scheduler, please use `get_last_lr()`.\n",
      "  warnings.warn(\"To get the last learning rate computed by the scheduler, \"\n"
     ]
    },
    {
     "name": "stdout",
     "output_type": "stream",
     "text": [
      "Log write at epoch: 3, step: 1800 and lr: 4e-06\n",
      "\n",
      "train result - loss: 0.003, acc: 0.788, f1: 0.599\n",
      "\n",
      "***** Running evaluation\n",
      "  Num examples = %d 1114\n"
     ]
    },
    {
     "data": {
      "application/vnd.jupyter.widget-view+json": {
       "model_id": "",
       "version_major": 2,
       "version_minor": 0
      },
      "text/plain": [
       "Evaluating:   0%|          | 0/186 [00:00<?, ?it/s]"
      ]
     },
     "metadata": {},
     "output_type": "display_data"
    },
    {
     "name": "stdout",
     "output_type": "stream",
     "text": [
      "test result - loss: 0.095, acc: 0.722, f1: 0.53\n",
      "\n",
      "end for logging current step 1800 !!!\n"
     ]
    },
    {
     "name": "stderr",
     "output_type": "stream",
     "text": [
      "C:\\Users\\ADMIN\\anaconda3\\envs\\qa_prj\\Lib\\site-packages\\torch\\optim\\lr_scheduler.py:261: UserWarning: To get the last learning rate computed by the scheduler, please use `get_last_lr()`.\n",
      "  warnings.warn(\"To get the last learning rate computed by the scheduler, \"\n"
     ]
    },
    {
     "name": "stdout",
     "output_type": "stream",
     "text": [
      "Log write at epoch: 3, step: 1860 and lr: 3e-06\n",
      "\n",
      "train result - loss: 0.004, acc: 0.791, f1: 0.609\n",
      "\n",
      "***** Running evaluation\n",
      "  Num examples = %d 1114\n"
     ]
    },
    {
     "data": {
      "application/vnd.jupyter.widget-view+json": {
       "model_id": "",
       "version_major": 2,
       "version_minor": 0
      },
      "text/plain": [
       "Evaluating:   0%|          | 0/186 [00:00<?, ?it/s]"
      ]
     },
     "metadata": {},
     "output_type": "display_data"
    },
    {
     "name": "stdout",
     "output_type": "stream",
     "text": [
      "test result - loss: 0.093, acc: 0.726, f1: 0.46\n",
      "\n",
      "end for logging current step 1860 !!!\n"
     ]
    },
    {
     "name": "stderr",
     "output_type": "stream",
     "text": [
      "C:\\Users\\ADMIN\\anaconda3\\envs\\qa_prj\\Lib\\site-packages\\torch\\optim\\lr_scheduler.py:261: UserWarning: To get the last learning rate computed by the scheduler, please use `get_last_lr()`.\n",
      "  warnings.warn(\"To get the last learning rate computed by the scheduler, \"\n"
     ]
    },
    {
     "name": "stdout",
     "output_type": "stream",
     "text": [
      "Log write at epoch: 3, step: 1920 and lr: 3e-06\n",
      "\n",
      "train result - loss: 0.006, acc: 0.791, f1: 0.614\n",
      "\n",
      "***** Running evaluation\n",
      "  Num examples = %d 1114\n"
     ]
    },
    {
     "data": {
      "application/vnd.jupyter.widget-view+json": {
       "model_id": "",
       "version_major": 2,
       "version_minor": 0
      },
      "text/plain": [
       "Evaluating:   0%|          | 0/186 [00:00<?, ?it/s]"
      ]
     },
     "metadata": {},
     "output_type": "display_data"
    },
    {
     "name": "stdout",
     "output_type": "stream",
     "text": [
      "test result - loss: 0.096, acc: 0.723, f1: 0.507\n",
      "\n",
      "end for logging current step 1920 !!!\n"
     ]
    },
    {
     "name": "stderr",
     "output_type": "stream",
     "text": [
      "C:\\Users\\ADMIN\\anaconda3\\envs\\qa_prj\\Lib\\site-packages\\torch\\optim\\lr_scheduler.py:261: UserWarning: To get the last learning rate computed by the scheduler, please use `get_last_lr()`.\n",
      "  warnings.warn(\"To get the last learning rate computed by the scheduler, \"\n"
     ]
    },
    {
     "name": "stdout",
     "output_type": "stream",
     "text": [
      "Log write at epoch: 3, step: 1980 and lr: 3e-06\n",
      "\n",
      "train result - loss: 0.007, acc: 0.791, f1: 0.621\n",
      "\n",
      "***** Running evaluation\n",
      "  Num examples = %d 1114\n"
     ]
    },
    {
     "data": {
      "application/vnd.jupyter.widget-view+json": {
       "model_id": "",
       "version_major": 2,
       "version_minor": 0
      },
      "text/plain": [
       "Evaluating:   0%|          | 0/186 [00:00<?, ?it/s]"
      ]
     },
     "metadata": {},
     "output_type": "display_data"
    },
    {
     "name": "stdout",
     "output_type": "stream",
     "text": [
      "test result - loss: 0.096, acc: 0.725, f1: 0.522\n",
      "\n",
      "end for logging current step 1980 !!!\n"
     ]
    },
    {
     "name": "stderr",
     "output_type": "stream",
     "text": [
      "C:\\Users\\ADMIN\\anaconda3\\envs\\qa_prj\\Lib\\site-packages\\torch\\optim\\lr_scheduler.py:261: UserWarning: To get the last learning rate computed by the scheduler, please use `get_last_lr()`.\n",
      "  warnings.warn(\"To get the last learning rate computed by the scheduler, \"\n"
     ]
    },
    {
     "name": "stdout",
     "output_type": "stream",
     "text": [
      "Log write at epoch: 3, step: 2040 and lr: 3e-06\n",
      "\n",
      "train result - loss: 0.009, acc: 0.791, f1: 0.621\n",
      "\n",
      "***** Running evaluation\n",
      "  Num examples = %d 1114\n"
     ]
    },
    {
     "data": {
      "application/vnd.jupyter.widget-view+json": {
       "model_id": "",
       "version_major": 2,
       "version_minor": 0
      },
      "text/plain": [
       "Evaluating:   0%|          | 0/186 [00:00<?, ?it/s]"
      ]
     },
     "metadata": {},
     "output_type": "display_data"
    },
    {
     "name": "stdout",
     "output_type": "stream",
     "text": [
      "test result - loss: 0.095, acc: 0.733, f1: 0.528\n",
      "\n",
      "end for logging current step 2040 !!!\n"
     ]
    },
    {
     "name": "stderr",
     "output_type": "stream",
     "text": [
      "C:\\Users\\ADMIN\\anaconda3\\envs\\qa_prj\\Lib\\site-packages\\torch\\optim\\lr_scheduler.py:261: UserWarning: To get the last learning rate computed by the scheduler, please use `get_last_lr()`.\n",
      "  warnings.warn(\"To get the last learning rate computed by the scheduler, \"\n"
     ]
    },
    {
     "name": "stdout",
     "output_type": "stream",
     "text": [
      "Log write at epoch: 3, step: 2100 and lr: 3e-06\n",
      "\n",
      "train result - loss: 0.011, acc: 0.79, f1: 0.625\n",
      "\n",
      "***** Running evaluation\n",
      "  Num examples = %d 1114\n"
     ]
    },
    {
     "data": {
      "application/vnd.jupyter.widget-view+json": {
       "model_id": "",
       "version_major": 2,
       "version_minor": 0
      },
      "text/plain": [
       "Evaluating:   0%|          | 0/186 [00:00<?, ?it/s]"
      ]
     },
     "metadata": {},
     "output_type": "display_data"
    },
    {
     "name": "stdout",
     "output_type": "stream",
     "text": [
      "test result - loss: 0.095, acc: 0.73, f1: 0.502\n",
      "\n",
      "end for logging current step 2100 !!!\n"
     ]
    },
    {
     "name": "stderr",
     "output_type": "stream",
     "text": [
      "C:\\Users\\ADMIN\\anaconda3\\envs\\qa_prj\\Lib\\site-packages\\torch\\optim\\lr_scheduler.py:261: UserWarning: To get the last learning rate computed by the scheduler, please use `get_last_lr()`.\n",
      "  warnings.warn(\"To get the last learning rate computed by the scheduler, \"\n"
     ]
    },
    {
     "name": "stdout",
     "output_type": "stream",
     "text": [
      "Log write at epoch: 3, step: 2160 and lr: 2e-06\n",
      "\n",
      "train result - loss: 0.012, acc: 0.789, f1: 0.621\n",
      "\n",
      "***** Running evaluation\n",
      "  Num examples = %d 1114\n"
     ]
    },
    {
     "data": {
      "application/vnd.jupyter.widget-view+json": {
       "model_id": "",
       "version_major": 2,
       "version_minor": 0
      },
      "text/plain": [
       "Evaluating:   0%|          | 0/186 [00:00<?, ?it/s]"
      ]
     },
     "metadata": {},
     "output_type": "display_data"
    },
    {
     "name": "stdout",
     "output_type": "stream",
     "text": [
      "test result - loss: 0.095, acc: 0.732, f1: 0.545\n",
      "\n",
      "end for logging current step 2160 !!!\n"
     ]
    },
    {
     "name": "stderr",
     "output_type": "stream",
     "text": [
      "C:\\Users\\ADMIN\\anaconda3\\envs\\qa_prj\\Lib\\site-packages\\torch\\optim\\lr_scheduler.py:261: UserWarning: To get the last learning rate computed by the scheduler, please use `get_last_lr()`.\n",
      "  warnings.warn(\"To get the last learning rate computed by the scheduler, \"\n"
     ]
    },
    {
     "name": "stdout",
     "output_type": "stream",
     "text": [
      "Log write at epoch: 3, step: 2220 and lr: 2e-06\n",
      "\n",
      "train result - loss: 0.014, acc: 0.789, f1: 0.618\n",
      "\n",
      "***** Running evaluation\n",
      "  Num examples = %d 1114\n"
     ]
    },
    {
     "data": {
      "application/vnd.jupyter.widget-view+json": {
       "model_id": "",
       "version_major": 2,
       "version_minor": 0
      },
      "text/plain": [
       "Evaluating:   0%|          | 0/186 [00:00<?, ?it/s]"
      ]
     },
     "metadata": {},
     "output_type": "display_data"
    },
    {
     "name": "stdout",
     "output_type": "stream",
     "text": [
      "test result - loss: 0.095, acc: 0.733, f1: 0.474\n",
      "\n",
      "end for logging current step 2220 !!!\n"
     ]
    },
    {
     "name": "stderr",
     "output_type": "stream",
     "text": [
      "C:\\Users\\ADMIN\\anaconda3\\envs\\qa_prj\\Lib\\site-packages\\torch\\optim\\lr_scheduler.py:261: UserWarning: To get the last learning rate computed by the scheduler, please use `get_last_lr()`.\n",
      "  warnings.warn(\"To get the last learning rate computed by the scheduler, \"\n"
     ]
    },
    {
     "name": "stdout",
     "output_type": "stream",
     "text": [
      "Log write at epoch: 3, step: 2268 and lr: 2e-06\n",
      "\n",
      "train result - loss: 0.015, acc: 0.788, f1: 0.617\n",
      "\n",
      "***** Running evaluation\n",
      "  Num examples = %d 1114\n"
     ]
    },
    {
     "data": {
      "application/vnd.jupyter.widget-view+json": {
       "model_id": "",
       "version_major": 2,
       "version_minor": 0
      },
      "text/plain": [
       "Evaluating:   0%|          | 0/186 [00:00<?, ?it/s]"
      ]
     },
     "metadata": {},
     "output_type": "display_data"
    },
    {
     "name": "stdout",
     "output_type": "stream",
     "text": [
      "test result - loss: 0.097, acc: 0.711, f1: 0.544\n",
      "\n",
      "end for logging current step 2268 !!!\n"
     ]
    },
    {
     "data": {
      "application/vnd.jupyter.widget-view+json": {
       "model_id": "",
       "version_major": 2,
       "version_minor": 0
      },
      "text/plain": [
       "training ...:   0%|          | 0/2833 [00:00<?, ?it/s]"
      ]
     },
     "metadata": {},
     "output_type": "display_data"
    },
    {
     "name": "stderr",
     "output_type": "stream",
     "text": [
      "C:\\Users\\ADMIN\\anaconda3\\envs\\qa_prj\\Lib\\site-packages\\torch\\optim\\lr_scheduler.py:261: UserWarning: To get the last learning rate computed by the scheduler, please use `get_last_lr()`.\n",
      "  warnings.warn(\"To get the last learning rate computed by the scheduler, \"\n"
     ]
    },
    {
     "name": "stdout",
     "output_type": "stream",
     "text": [
      "Log write at epoch: 4, step: 2280 and lr: 2e-06\n",
      "\n",
      "train result - loss: 0.0, acc: 0.794, f1: 0.657\n",
      "\n",
      "***** Running evaluation\n",
      "  Num examples = %d 1114\n"
     ]
    },
    {
     "data": {
      "application/vnd.jupyter.widget-view+json": {
       "model_id": "",
       "version_major": 2,
       "version_minor": 0
      },
      "text/plain": [
       "Evaluating:   0%|          | 0/186 [00:00<?, ?it/s]"
      ]
     },
     "metadata": {},
     "output_type": "display_data"
    },
    {
     "name": "stdout",
     "output_type": "stream",
     "text": [
      "test result - loss: 0.096, acc: 0.718, f1: 0.536\n",
      "\n",
      "end for logging current step 2280 !!!\n"
     ]
    },
    {
     "name": "stderr",
     "output_type": "stream",
     "text": [
      "C:\\Users\\ADMIN\\anaconda3\\envs\\qa_prj\\Lib\\site-packages\\torch\\optim\\lr_scheduler.py:261: UserWarning: To get the last learning rate computed by the scheduler, please use `get_last_lr()`.\n",
      "  warnings.warn(\"To get the last learning rate computed by the scheduler, \"\n"
     ]
    },
    {
     "name": "stdout",
     "output_type": "stream",
     "text": [
      "Log write at epoch: 4, step: 2340 and lr: 2e-06\n",
      "\n",
      "train result - loss: 0.002, acc: 0.794, f1: 0.66\n",
      "\n",
      "***** Running evaluation\n",
      "  Num examples = %d 1114\n"
     ]
    },
    {
     "data": {
      "application/vnd.jupyter.widget-view+json": {
       "model_id": "",
       "version_major": 2,
       "version_minor": 0
      },
      "text/plain": [
       "Evaluating:   0%|          | 0/186 [00:00<?, ?it/s]"
      ]
     },
     "metadata": {},
     "output_type": "display_data"
    },
    {
     "name": "stdout",
     "output_type": "stream",
     "text": [
      "test result - loss: 0.097, acc: 0.728, f1: 0.537\n",
      "\n",
      "end for logging current step 2340 !!!\n"
     ]
    },
    {
     "name": "stderr",
     "output_type": "stream",
     "text": [
      "C:\\Users\\ADMIN\\anaconda3\\envs\\qa_prj\\Lib\\site-packages\\torch\\optim\\lr_scheduler.py:261: UserWarning: To get the last learning rate computed by the scheduler, please use `get_last_lr()`.\n",
      "  warnings.warn(\"To get the last learning rate computed by the scheduler, \"\n"
     ]
    },
    {
     "name": "stdout",
     "output_type": "stream",
     "text": [
      "Log write at epoch: 4, step: 2400 and lr: 2e-06\n",
      "\n",
      "train result - loss: 0.003, acc: 0.801, f1: 0.664\n",
      "\n",
      "***** Running evaluation\n",
      "  Num examples = %d 1114\n"
     ]
    },
    {
     "data": {
      "application/vnd.jupyter.widget-view+json": {
       "model_id": "",
       "version_major": 2,
       "version_minor": 0
      },
      "text/plain": [
       "Evaluating:   0%|          | 0/186 [00:00<?, ?it/s]"
      ]
     },
     "metadata": {},
     "output_type": "display_data"
    },
    {
     "name": "stdout",
     "output_type": "stream",
     "text": [
      "test result - loss: 0.099, acc: 0.725, f1: 0.539\n",
      "\n",
      "end for logging current step 2400 !!!\n"
     ]
    },
    {
     "name": "stderr",
     "output_type": "stream",
     "text": [
      "C:\\Users\\ADMIN\\anaconda3\\envs\\qa_prj\\Lib\\site-packages\\torch\\optim\\lr_scheduler.py:261: UserWarning: To get the last learning rate computed by the scheduler, please use `get_last_lr()`.\n",
      "  warnings.warn(\"To get the last learning rate computed by the scheduler, \"\n"
     ]
    },
    {
     "name": "stdout",
     "output_type": "stream",
     "text": [
      "Log write at epoch: 4, step: 2460 and lr: 1e-06\n",
      "\n",
      "train result - loss: 0.005, acc: 0.802, f1: 0.658\n",
      "\n",
      "***** Running evaluation\n",
      "  Num examples = %d 1114\n"
     ]
    },
    {
     "data": {
      "application/vnd.jupyter.widget-view+json": {
       "model_id": "",
       "version_major": 2,
       "version_minor": 0
      },
      "text/plain": [
       "Evaluating:   0%|          | 0/186 [00:00<?, ?it/s]"
      ]
     },
     "metadata": {},
     "output_type": "display_data"
    },
    {
     "name": "stdout",
     "output_type": "stream",
     "text": [
      "test result - loss: 0.098, acc: 0.736, f1: 0.513\n",
      "\n",
      "end for logging current step 2460 !!!\n"
     ]
    },
    {
     "name": "stderr",
     "output_type": "stream",
     "text": [
      "C:\\Users\\ADMIN\\anaconda3\\envs\\qa_prj\\Lib\\site-packages\\torch\\optim\\lr_scheduler.py:261: UserWarning: To get the last learning rate computed by the scheduler, please use `get_last_lr()`.\n",
      "  warnings.warn(\"To get the last learning rate computed by the scheduler, \"\n"
     ]
    },
    {
     "name": "stdout",
     "output_type": "stream",
     "text": [
      "Log write at epoch: 4, step: 2520 and lr: 1e-06\n",
      "\n",
      "train result - loss: 0.006, acc: 0.804, f1: 0.654\n",
      "\n",
      "***** Running evaluation\n",
      "  Num examples = %d 1114\n"
     ]
    },
    {
     "data": {
      "application/vnd.jupyter.widget-view+json": {
       "model_id": "",
       "version_major": 2,
       "version_minor": 0
      },
      "text/plain": [
       "Evaluating:   0%|          | 0/186 [00:00<?, ?it/s]"
      ]
     },
     "metadata": {},
     "output_type": "display_data"
    },
    {
     "name": "stdout",
     "output_type": "stream",
     "text": [
      "test result - loss: 0.098, acc: 0.724, f1: 0.545\n",
      "\n",
      "end for logging current step 2520 !!!\n"
     ]
    },
    {
     "name": "stderr",
     "output_type": "stream",
     "text": [
      "C:\\Users\\ADMIN\\anaconda3\\envs\\qa_prj\\Lib\\site-packages\\torch\\optim\\lr_scheduler.py:261: UserWarning: To get the last learning rate computed by the scheduler, please use `get_last_lr()`.\n",
      "  warnings.warn(\"To get the last learning rate computed by the scheduler, \"\n"
     ]
    },
    {
     "name": "stdout",
     "output_type": "stream",
     "text": [
      "Log write at epoch: 4, step: 2580 and lr: 1e-06\n",
      "\n",
      "train result - loss: 0.008, acc: 0.802, f1: 0.648\n",
      "\n",
      "***** Running evaluation\n",
      "  Num examples = %d 1114\n"
     ]
    },
    {
     "data": {
      "application/vnd.jupyter.widget-view+json": {
       "model_id": "",
       "version_major": 2,
       "version_minor": 0
      },
      "text/plain": [
       "Evaluating:   0%|          | 0/186 [00:00<?, ?it/s]"
      ]
     },
     "metadata": {},
     "output_type": "display_data"
    },
    {
     "name": "stdout",
     "output_type": "stream",
     "text": [
      "test result - loss: 0.098, acc: 0.724, f1: 0.543\n",
      "\n",
      "end for logging current step 2580 !!!\n"
     ]
    },
    {
     "name": "stderr",
     "output_type": "stream",
     "text": [
      "C:\\Users\\ADMIN\\anaconda3\\envs\\qa_prj\\Lib\\site-packages\\torch\\optim\\lr_scheduler.py:261: UserWarning: To get the last learning rate computed by the scheduler, please use `get_last_lr()`.\n",
      "  warnings.warn(\"To get the last learning rate computed by the scheduler, \"\n"
     ]
    },
    {
     "name": "stdout",
     "output_type": "stream",
     "text": [
      "Log write at epoch: 4, step: 2640 and lr: 1e-06\n",
      "\n",
      "train result - loss: 0.01, acc: 0.799, f1: 0.644\n",
      "\n",
      "***** Running evaluation\n",
      "  Num examples = %d 1114\n"
     ]
    },
    {
     "data": {
      "application/vnd.jupyter.widget-view+json": {
       "model_id": "",
       "version_major": 2,
       "version_minor": 0
      },
      "text/plain": [
       "Evaluating:   0%|          | 0/186 [00:00<?, ?it/s]"
      ]
     },
     "metadata": {},
     "output_type": "display_data"
    },
    {
     "name": "stdout",
     "output_type": "stream",
     "text": [
      "test result - loss: 0.097, acc: 0.724, f1: 0.537\n",
      "\n",
      "end for logging current step 2640 !!!\n"
     ]
    },
    {
     "name": "stderr",
     "output_type": "stream",
     "text": [
      "C:\\Users\\ADMIN\\anaconda3\\envs\\qa_prj\\Lib\\site-packages\\torch\\optim\\lr_scheduler.py:261: UserWarning: To get the last learning rate computed by the scheduler, please use `get_last_lr()`.\n",
      "  warnings.warn(\"To get the last learning rate computed by the scheduler, \"\n"
     ]
    },
    {
     "name": "stdout",
     "output_type": "stream",
     "text": [
      "Log write at epoch: 4, step: 2700 and lr: 0.0\n",
      "\n",
      "train result - loss: 0.011, acc: 0.8, f1: 0.645\n",
      "\n",
      "***** Running evaluation\n",
      "  Num examples = %d 1114\n"
     ]
    },
    {
     "data": {
      "application/vnd.jupyter.widget-view+json": {
       "model_id": "",
       "version_major": 2,
       "version_minor": 0
      },
      "text/plain": [
       "Evaluating:   0%|          | 0/186 [00:00<?, ?it/s]"
      ]
     },
     "metadata": {},
     "output_type": "display_data"
    },
    {
     "name": "stdout",
     "output_type": "stream",
     "text": [
      "test result - loss: 0.097, acc: 0.725, f1: 0.534\n",
      "\n",
      "end for logging current step 2700 !!!\n"
     ]
    },
    {
     "name": "stderr",
     "output_type": "stream",
     "text": [
      "C:\\Users\\ADMIN\\anaconda3\\envs\\qa_prj\\Lib\\site-packages\\torch\\optim\\lr_scheduler.py:261: UserWarning: To get the last learning rate computed by the scheduler, please use `get_last_lr()`.\n",
      "  warnings.warn(\"To get the last learning rate computed by the scheduler, \"\n"
     ]
    },
    {
     "name": "stdout",
     "output_type": "stream",
     "text": [
      "Log write at epoch: 4, step: 2760 and lr: 0.0\n",
      "\n",
      "train result - loss: 0.012, acc: 0.801, f1: 0.651\n",
      "\n",
      "***** Running evaluation\n",
      "  Num examples = %d 1114\n"
     ]
    },
    {
     "data": {
      "application/vnd.jupyter.widget-view+json": {
       "model_id": "",
       "version_major": 2,
       "version_minor": 0
      },
      "text/plain": [
       "Evaluating:   0%|          | 0/186 [00:00<?, ?it/s]"
      ]
     },
     "metadata": {},
     "output_type": "display_data"
    },
    {
     "name": "stdout",
     "output_type": "stream",
     "text": [
      "test result - loss: 0.098, acc: 0.726, f1: 0.541\n",
      "\n",
      "end for logging current step 2760 !!!\n"
     ]
    },
    {
     "name": "stderr",
     "output_type": "stream",
     "text": [
      "C:\\Users\\ADMIN\\anaconda3\\envs\\qa_prj\\Lib\\site-packages\\torch\\optim\\lr_scheduler.py:261: UserWarning: To get the last learning rate computed by the scheduler, please use `get_last_lr()`.\n",
      "  warnings.warn(\"To get the last learning rate computed by the scheduler, \"\n"
     ]
    },
    {
     "name": "stdout",
     "output_type": "stream",
     "text": [
      "Log write at epoch: 4, step: 2820 and lr: 0.0\n",
      "\n",
      "train result - loss: 0.014, acc: 0.802, f1: 0.651\n",
      "\n",
      "***** Running evaluation\n",
      "  Num examples = %d 1114\n"
     ]
    },
    {
     "data": {
      "application/vnd.jupyter.widget-view+json": {
       "model_id": "",
       "version_major": 2,
       "version_minor": 0
      },
      "text/plain": [
       "Evaluating:   0%|          | 0/186 [00:00<?, ?it/s]"
      ]
     },
     "metadata": {},
     "output_type": "display_data"
    },
    {
     "name": "stdout",
     "output_type": "stream",
     "text": [
      "test result - loss: 0.098, acc: 0.726, f1: 0.54\n",
      "\n",
      "end for logging current step 2820 !!!\n"
     ]
    },
    {
     "name": "stderr",
     "output_type": "stream",
     "text": [
      "C:\\Users\\ADMIN\\anaconda3\\envs\\qa_prj\\Lib\\site-packages\\torch\\optim\\lr_scheduler.py:261: UserWarning: To get the last learning rate computed by the scheduler, please use `get_last_lr()`.\n",
      "  warnings.warn(\"To get the last learning rate computed by the scheduler, \"\n"
     ]
    },
    {
     "name": "stdout",
     "output_type": "stream",
     "text": [
      "Log write at epoch: 4, step: 2835 and lr: 0.0\n",
      "\n",
      "train result - loss: 0.014, acc: 0.802, f1: 0.649\n",
      "\n",
      "***** Running evaluation\n",
      "  Num examples = %d 1114\n"
     ]
    },
    {
     "data": {
      "application/vnd.jupyter.widget-view+json": {
       "model_id": "",
       "version_major": 2,
       "version_minor": 0
      },
      "text/plain": [
       "Evaluating:   0%|          | 0/186 [00:00<?, ?it/s]"
      ]
     },
     "metadata": {},
     "output_type": "display_data"
    },
    {
     "name": "stdout",
     "output_type": "stream",
     "text": [
      "test result - loss: 0.098, acc: 0.726, f1: 0.54\n",
      "\n",
      "end for logging current step 2835 !!!\n"
     ]
    }
   ],
   "source": [
    "args = Args()\n",
    "train_model_bert(args)"
   ]
  },
  {
   "cell_type": "code",
   "execution_count": null,
   "id": "798e4cff-328b-4aed-b36a-59b56e6637c2",
   "metadata": {},
   "outputs": [],
   "source": []
  }
 ],
 "metadata": {
  "kernelspec": {
   "display_name": "Python 3 (ipykernel)",
   "language": "python",
   "name": "python3"
  },
  "language_info": {
   "codemirror_mode": {
    "name": "ipython",
    "version": 3
   },
   "file_extension": ".py",
   "mimetype": "text/x-python",
   "name": "python",
   "nbconvert_exporter": "python",
   "pygments_lexer": "ipython3",
   "version": "3.11.5"
  }
 },
 "nbformat": 4,
 "nbformat_minor": 5
}
