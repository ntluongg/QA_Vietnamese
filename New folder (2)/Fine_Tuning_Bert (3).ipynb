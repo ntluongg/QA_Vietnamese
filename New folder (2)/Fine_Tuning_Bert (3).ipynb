{
  "nbformat": 4,
  "nbformat_minor": 0,
  "metadata": {
    "colab": {
      "provenance": []
    },
    "kernelspec": {
      "name": "python3",
      "display_name": "Python 3"
    },
    "widgets": {
      "application/vnd.jupyter.widget-state+json": {
        "7c21ebdde2a848ffb7e1f3e89ec51e0f": {
          "model_module": "@jupyter-widgets/controls",
          "model_name": "HBoxModel",
          "model_module_version": "1.5.0",
          "state": {
            "_dom_classes": [],
            "_model_module": "@jupyter-widgets/controls",
            "_model_module_version": "1.5.0",
            "_model_name": "HBoxModel",
            "_view_count": null,
            "_view_module": "@jupyter-widgets/controls",
            "_view_module_version": "1.5.0",
            "_view_name": "HBoxView",
            "box_style": "",
            "children": [
              "IPY_MODEL_b1ce4f8cb6054f36a4b900a53ed28eaf",
              "IPY_MODEL_b82ec00394e04cad9e6d708e4feaeea1",
              "IPY_MODEL_96fc663388dd46199c43ac6722b57fa1"
            ],
            "layout": "IPY_MODEL_1a86e2001ee34f268aca743ad0dd3fa8"
          }
        },
        "b1ce4f8cb6054f36a4b900a53ed28eaf": {
          "model_module": "@jupyter-widgets/controls",
          "model_name": "HTMLModel",
          "model_module_version": "1.5.0",
          "state": {
            "_dom_classes": [],
            "_model_module": "@jupyter-widgets/controls",
            "_model_module_version": "1.5.0",
            "_model_name": "HTMLModel",
            "_view_count": null,
            "_view_module": "@jupyter-widgets/controls",
            "_view_module_version": "1.5.0",
            "_view_name": "HTMLView",
            "description": "",
            "description_tooltip": null,
            "layout": "IPY_MODEL_dfddadcf8ff048aba46936968a85f68e",
            "placeholder": "​",
            "style": "IPY_MODEL_2c72ca43179a418493ea3fd0b03e946e",
            "value": "tokenizer_config.json: 100%"
          }
        },
        "b82ec00394e04cad9e6d708e4feaeea1": {
          "model_module": "@jupyter-widgets/controls",
          "model_name": "FloatProgressModel",
          "model_module_version": "1.5.0",
          "state": {
            "_dom_classes": [],
            "_model_module": "@jupyter-widgets/controls",
            "_model_module_version": "1.5.0",
            "_model_name": "FloatProgressModel",
            "_view_count": null,
            "_view_module": "@jupyter-widgets/controls",
            "_view_module_version": "1.5.0",
            "_view_name": "ProgressView",
            "bar_style": "success",
            "description": "",
            "description_tooltip": null,
            "layout": "IPY_MODEL_07fcc97c329f43a3869a5986e4e5a9a1",
            "max": 28,
            "min": 0,
            "orientation": "horizontal",
            "style": "IPY_MODEL_41a99a9688d94fb08f8f2cf9575cf901",
            "value": 28
          }
        },
        "96fc663388dd46199c43ac6722b57fa1": {
          "model_module": "@jupyter-widgets/controls",
          "model_name": "HTMLModel",
          "model_module_version": "1.5.0",
          "state": {
            "_dom_classes": [],
            "_model_module": "@jupyter-widgets/controls",
            "_model_module_version": "1.5.0",
            "_model_name": "HTMLModel",
            "_view_count": null,
            "_view_module": "@jupyter-widgets/controls",
            "_view_module_version": "1.5.0",
            "_view_name": "HTMLView",
            "description": "",
            "description_tooltip": null,
            "layout": "IPY_MODEL_802e04b3d3d044f7bdf49f9961faf3b1",
            "placeholder": "​",
            "style": "IPY_MODEL_837b168666c845b4903e52257e20ba8d",
            "value": " 28.0/28.0 [00:00&lt;00:00, 502B/s]"
          }
        },
        "1a86e2001ee34f268aca743ad0dd3fa8": {
          "model_module": "@jupyter-widgets/base",
          "model_name": "LayoutModel",
          "model_module_version": "1.2.0",
          "state": {
            "_model_module": "@jupyter-widgets/base",
            "_model_module_version": "1.2.0",
            "_model_name": "LayoutModel",
            "_view_count": null,
            "_view_module": "@jupyter-widgets/base",
            "_view_module_version": "1.2.0",
            "_view_name": "LayoutView",
            "align_content": null,
            "align_items": null,
            "align_self": null,
            "border": null,
            "bottom": null,
            "display": null,
            "flex": null,
            "flex_flow": null,
            "grid_area": null,
            "grid_auto_columns": null,
            "grid_auto_flow": null,
            "grid_auto_rows": null,
            "grid_column": null,
            "grid_gap": null,
            "grid_row": null,
            "grid_template_areas": null,
            "grid_template_columns": null,
            "grid_template_rows": null,
            "height": null,
            "justify_content": null,
            "justify_items": null,
            "left": null,
            "margin": null,
            "max_height": null,
            "max_width": null,
            "min_height": null,
            "min_width": null,
            "object_fit": null,
            "object_position": null,
            "order": null,
            "overflow": null,
            "overflow_x": null,
            "overflow_y": null,
            "padding": null,
            "right": null,
            "top": null,
            "visibility": null,
            "width": null
          }
        },
        "dfddadcf8ff048aba46936968a85f68e": {
          "model_module": "@jupyter-widgets/base",
          "model_name": "LayoutModel",
          "model_module_version": "1.2.0",
          "state": {
            "_model_module": "@jupyter-widgets/base",
            "_model_module_version": "1.2.0",
            "_model_name": "LayoutModel",
            "_view_count": null,
            "_view_module": "@jupyter-widgets/base",
            "_view_module_version": "1.2.0",
            "_view_name": "LayoutView",
            "align_content": null,
            "align_items": null,
            "align_self": null,
            "border": null,
            "bottom": null,
            "display": null,
            "flex": null,
            "flex_flow": null,
            "grid_area": null,
            "grid_auto_columns": null,
            "grid_auto_flow": null,
            "grid_auto_rows": null,
            "grid_column": null,
            "grid_gap": null,
            "grid_row": null,
            "grid_template_areas": null,
            "grid_template_columns": null,
            "grid_template_rows": null,
            "height": null,
            "justify_content": null,
            "justify_items": null,
            "left": null,
            "margin": null,
            "max_height": null,
            "max_width": null,
            "min_height": null,
            "min_width": null,
            "object_fit": null,
            "object_position": null,
            "order": null,
            "overflow": null,
            "overflow_x": null,
            "overflow_y": null,
            "padding": null,
            "right": null,
            "top": null,
            "visibility": null,
            "width": null
          }
        },
        "2c72ca43179a418493ea3fd0b03e946e": {
          "model_module": "@jupyter-widgets/controls",
          "model_name": "DescriptionStyleModel",
          "model_module_version": "1.5.0",
          "state": {
            "_model_module": "@jupyter-widgets/controls",
            "_model_module_version": "1.5.0",
            "_model_name": "DescriptionStyleModel",
            "_view_count": null,
            "_view_module": "@jupyter-widgets/base",
            "_view_module_version": "1.2.0",
            "_view_name": "StyleView",
            "description_width": ""
          }
        },
        "07fcc97c329f43a3869a5986e4e5a9a1": {
          "model_module": "@jupyter-widgets/base",
          "model_name": "LayoutModel",
          "model_module_version": "1.2.0",
          "state": {
            "_model_module": "@jupyter-widgets/base",
            "_model_module_version": "1.2.0",
            "_model_name": "LayoutModel",
            "_view_count": null,
            "_view_module": "@jupyter-widgets/base",
            "_view_module_version": "1.2.0",
            "_view_name": "LayoutView",
            "align_content": null,
            "align_items": null,
            "align_self": null,
            "border": null,
            "bottom": null,
            "display": null,
            "flex": null,
            "flex_flow": null,
            "grid_area": null,
            "grid_auto_columns": null,
            "grid_auto_flow": null,
            "grid_auto_rows": null,
            "grid_column": null,
            "grid_gap": null,
            "grid_row": null,
            "grid_template_areas": null,
            "grid_template_columns": null,
            "grid_template_rows": null,
            "height": null,
            "justify_content": null,
            "justify_items": null,
            "left": null,
            "margin": null,
            "max_height": null,
            "max_width": null,
            "min_height": null,
            "min_width": null,
            "object_fit": null,
            "object_position": null,
            "order": null,
            "overflow": null,
            "overflow_x": null,
            "overflow_y": null,
            "padding": null,
            "right": null,
            "top": null,
            "visibility": null,
            "width": null
          }
        },
        "41a99a9688d94fb08f8f2cf9575cf901": {
          "model_module": "@jupyter-widgets/controls",
          "model_name": "ProgressStyleModel",
          "model_module_version": "1.5.0",
          "state": {
            "_model_module": "@jupyter-widgets/controls",
            "_model_module_version": "1.5.0",
            "_model_name": "ProgressStyleModel",
            "_view_count": null,
            "_view_module": "@jupyter-widgets/base",
            "_view_module_version": "1.2.0",
            "_view_name": "StyleView",
            "bar_color": null,
            "description_width": ""
          }
        },
        "802e04b3d3d044f7bdf49f9961faf3b1": {
          "model_module": "@jupyter-widgets/base",
          "model_name": "LayoutModel",
          "model_module_version": "1.2.0",
          "state": {
            "_model_module": "@jupyter-widgets/base",
            "_model_module_version": "1.2.0",
            "_model_name": "LayoutModel",
            "_view_count": null,
            "_view_module": "@jupyter-widgets/base",
            "_view_module_version": "1.2.0",
            "_view_name": "LayoutView",
            "align_content": null,
            "align_items": null,
            "align_self": null,
            "border": null,
            "bottom": null,
            "display": null,
            "flex": null,
            "flex_flow": null,
            "grid_area": null,
            "grid_auto_columns": null,
            "grid_auto_flow": null,
            "grid_auto_rows": null,
            "grid_column": null,
            "grid_gap": null,
            "grid_row": null,
            "grid_template_areas": null,
            "grid_template_columns": null,
            "grid_template_rows": null,
            "height": null,
            "justify_content": null,
            "justify_items": null,
            "left": null,
            "margin": null,
            "max_height": null,
            "max_width": null,
            "min_height": null,
            "min_width": null,
            "object_fit": null,
            "object_position": null,
            "order": null,
            "overflow": null,
            "overflow_x": null,
            "overflow_y": null,
            "padding": null,
            "right": null,
            "top": null,
            "visibility": null,
            "width": null
          }
        },
        "837b168666c845b4903e52257e20ba8d": {
          "model_module": "@jupyter-widgets/controls",
          "model_name": "DescriptionStyleModel",
          "model_module_version": "1.5.0",
          "state": {
            "_model_module": "@jupyter-widgets/controls",
            "_model_module_version": "1.5.0",
            "_model_name": "DescriptionStyleModel",
            "_view_count": null,
            "_view_module": "@jupyter-widgets/base",
            "_view_module_version": "1.2.0",
            "_view_name": "StyleView",
            "description_width": ""
          }
        },
        "ae1d6fbf2df840e6ba470f89dd66021f": {
          "model_module": "@jupyter-widgets/controls",
          "model_name": "HBoxModel",
          "model_module_version": "1.5.0",
          "state": {
            "_dom_classes": [],
            "_model_module": "@jupyter-widgets/controls",
            "_model_module_version": "1.5.0",
            "_model_name": "HBoxModel",
            "_view_count": null,
            "_view_module": "@jupyter-widgets/controls",
            "_view_module_version": "1.5.0",
            "_view_name": "HBoxView",
            "box_style": "",
            "children": [
              "IPY_MODEL_04d272876a23417ab2613b062aba84a7",
              "IPY_MODEL_c88572fc69cd47caaa6dc0b722812af6",
              "IPY_MODEL_b73c9408fdac48f3b19baa5c01c8d42d"
            ],
            "layout": "IPY_MODEL_96a8504f3ba748178f5b4d36b1d86eb4"
          }
        },
        "04d272876a23417ab2613b062aba84a7": {
          "model_module": "@jupyter-widgets/controls",
          "model_name": "HTMLModel",
          "model_module_version": "1.5.0",
          "state": {
            "_dom_classes": [],
            "_model_module": "@jupyter-widgets/controls",
            "_model_module_version": "1.5.0",
            "_model_name": "HTMLModel",
            "_view_count": null,
            "_view_module": "@jupyter-widgets/controls",
            "_view_module_version": "1.5.0",
            "_view_name": "HTMLView",
            "description": "",
            "description_tooltip": null,
            "layout": "IPY_MODEL_b4635d9855074b8694b2325a6dacec19",
            "placeholder": "​",
            "style": "IPY_MODEL_40ecded09a31442d86c594513607ed9a",
            "value": "config.json: 100%"
          }
        },
        "c88572fc69cd47caaa6dc0b722812af6": {
          "model_module": "@jupyter-widgets/controls",
          "model_name": "FloatProgressModel",
          "model_module_version": "1.5.0",
          "state": {
            "_dom_classes": [],
            "_model_module": "@jupyter-widgets/controls",
            "_model_module_version": "1.5.0",
            "_model_name": "FloatProgressModel",
            "_view_count": null,
            "_view_module": "@jupyter-widgets/controls",
            "_view_module_version": "1.5.0",
            "_view_name": "ProgressView",
            "bar_style": "success",
            "description": "",
            "description_tooltip": null,
            "layout": "IPY_MODEL_d01b75a27501491eabf791c6ce8dacb2",
            "max": 625,
            "min": 0,
            "orientation": "horizontal",
            "style": "IPY_MODEL_84e10c4536f842538e2dd84665c47356",
            "value": 625
          }
        },
        "b73c9408fdac48f3b19baa5c01c8d42d": {
          "model_module": "@jupyter-widgets/controls",
          "model_name": "HTMLModel",
          "model_module_version": "1.5.0",
          "state": {
            "_dom_classes": [],
            "_model_module": "@jupyter-widgets/controls",
            "_model_module_version": "1.5.0",
            "_model_name": "HTMLModel",
            "_view_count": null,
            "_view_module": "@jupyter-widgets/controls",
            "_view_module_version": "1.5.0",
            "_view_name": "HTMLView",
            "description": "",
            "description_tooltip": null,
            "layout": "IPY_MODEL_048270591de14a7491348f48feabbabe",
            "placeholder": "​",
            "style": "IPY_MODEL_3b2e26fe8f0243ecb42a6ee31fc4e48e",
            "value": " 625/625 [00:00&lt;00:00, 10.6kB/s]"
          }
        },
        "96a8504f3ba748178f5b4d36b1d86eb4": {
          "model_module": "@jupyter-widgets/base",
          "model_name": "LayoutModel",
          "model_module_version": "1.2.0",
          "state": {
            "_model_module": "@jupyter-widgets/base",
            "_model_module_version": "1.2.0",
            "_model_name": "LayoutModel",
            "_view_count": null,
            "_view_module": "@jupyter-widgets/base",
            "_view_module_version": "1.2.0",
            "_view_name": "LayoutView",
            "align_content": null,
            "align_items": null,
            "align_self": null,
            "border": null,
            "bottom": null,
            "display": null,
            "flex": null,
            "flex_flow": null,
            "grid_area": null,
            "grid_auto_columns": null,
            "grid_auto_flow": null,
            "grid_auto_rows": null,
            "grid_column": null,
            "grid_gap": null,
            "grid_row": null,
            "grid_template_areas": null,
            "grid_template_columns": null,
            "grid_template_rows": null,
            "height": null,
            "justify_content": null,
            "justify_items": null,
            "left": null,
            "margin": null,
            "max_height": null,
            "max_width": null,
            "min_height": null,
            "min_width": null,
            "object_fit": null,
            "object_position": null,
            "order": null,
            "overflow": null,
            "overflow_x": null,
            "overflow_y": null,
            "padding": null,
            "right": null,
            "top": null,
            "visibility": null,
            "width": null
          }
        },
        "b4635d9855074b8694b2325a6dacec19": {
          "model_module": "@jupyter-widgets/base",
          "model_name": "LayoutModel",
          "model_module_version": "1.2.0",
          "state": {
            "_model_module": "@jupyter-widgets/base",
            "_model_module_version": "1.2.0",
            "_model_name": "LayoutModel",
            "_view_count": null,
            "_view_module": "@jupyter-widgets/base",
            "_view_module_version": "1.2.0",
            "_view_name": "LayoutView",
            "align_content": null,
            "align_items": null,
            "align_self": null,
            "border": null,
            "bottom": null,
            "display": null,
            "flex": null,
            "flex_flow": null,
            "grid_area": null,
            "grid_auto_columns": null,
            "grid_auto_flow": null,
            "grid_auto_rows": null,
            "grid_column": null,
            "grid_gap": null,
            "grid_row": null,
            "grid_template_areas": null,
            "grid_template_columns": null,
            "grid_template_rows": null,
            "height": null,
            "justify_content": null,
            "justify_items": null,
            "left": null,
            "margin": null,
            "max_height": null,
            "max_width": null,
            "min_height": null,
            "min_width": null,
            "object_fit": null,
            "object_position": null,
            "order": null,
            "overflow": null,
            "overflow_x": null,
            "overflow_y": null,
            "padding": null,
            "right": null,
            "top": null,
            "visibility": null,
            "width": null
          }
        },
        "40ecded09a31442d86c594513607ed9a": {
          "model_module": "@jupyter-widgets/controls",
          "model_name": "DescriptionStyleModel",
          "model_module_version": "1.5.0",
          "state": {
            "_model_module": "@jupyter-widgets/controls",
            "_model_module_version": "1.5.0",
            "_model_name": "DescriptionStyleModel",
            "_view_count": null,
            "_view_module": "@jupyter-widgets/base",
            "_view_module_version": "1.2.0",
            "_view_name": "StyleView",
            "description_width": ""
          }
        },
        "d01b75a27501491eabf791c6ce8dacb2": {
          "model_module": "@jupyter-widgets/base",
          "model_name": "LayoutModel",
          "model_module_version": "1.2.0",
          "state": {
            "_model_module": "@jupyter-widgets/base",
            "_model_module_version": "1.2.0",
            "_model_name": "LayoutModel",
            "_view_count": null,
            "_view_module": "@jupyter-widgets/base",
            "_view_module_version": "1.2.0",
            "_view_name": "LayoutView",
            "align_content": null,
            "align_items": null,
            "align_self": null,
            "border": null,
            "bottom": null,
            "display": null,
            "flex": null,
            "flex_flow": null,
            "grid_area": null,
            "grid_auto_columns": null,
            "grid_auto_flow": null,
            "grid_auto_rows": null,
            "grid_column": null,
            "grid_gap": null,
            "grid_row": null,
            "grid_template_areas": null,
            "grid_template_columns": null,
            "grid_template_rows": null,
            "height": null,
            "justify_content": null,
            "justify_items": null,
            "left": null,
            "margin": null,
            "max_height": null,
            "max_width": null,
            "min_height": null,
            "min_width": null,
            "object_fit": null,
            "object_position": null,
            "order": null,
            "overflow": null,
            "overflow_x": null,
            "overflow_y": null,
            "padding": null,
            "right": null,
            "top": null,
            "visibility": null,
            "width": null
          }
        },
        "84e10c4536f842538e2dd84665c47356": {
          "model_module": "@jupyter-widgets/controls",
          "model_name": "ProgressStyleModel",
          "model_module_version": "1.5.0",
          "state": {
            "_model_module": "@jupyter-widgets/controls",
            "_model_module_version": "1.5.0",
            "_model_name": "ProgressStyleModel",
            "_view_count": null,
            "_view_module": "@jupyter-widgets/base",
            "_view_module_version": "1.2.0",
            "_view_name": "StyleView",
            "bar_color": null,
            "description_width": ""
          }
        },
        "048270591de14a7491348f48feabbabe": {
          "model_module": "@jupyter-widgets/base",
          "model_name": "LayoutModel",
          "model_module_version": "1.2.0",
          "state": {
            "_model_module": "@jupyter-widgets/base",
            "_model_module_version": "1.2.0",
            "_model_name": "LayoutModel",
            "_view_count": null,
            "_view_module": "@jupyter-widgets/base",
            "_view_module_version": "1.2.0",
            "_view_name": "LayoutView",
            "align_content": null,
            "align_items": null,
            "align_self": null,
            "border": null,
            "bottom": null,
            "display": null,
            "flex": null,
            "flex_flow": null,
            "grid_area": null,
            "grid_auto_columns": null,
            "grid_auto_flow": null,
            "grid_auto_rows": null,
            "grid_column": null,
            "grid_gap": null,
            "grid_row": null,
            "grid_template_areas": null,
            "grid_template_columns": null,
            "grid_template_rows": null,
            "height": null,
            "justify_content": null,
            "justify_items": null,
            "left": null,
            "margin": null,
            "max_height": null,
            "max_width": null,
            "min_height": null,
            "min_width": null,
            "object_fit": null,
            "object_position": null,
            "order": null,
            "overflow": null,
            "overflow_x": null,
            "overflow_y": null,
            "padding": null,
            "right": null,
            "top": null,
            "visibility": null,
            "width": null
          }
        },
        "3b2e26fe8f0243ecb42a6ee31fc4e48e": {
          "model_module": "@jupyter-widgets/controls",
          "model_name": "DescriptionStyleModel",
          "model_module_version": "1.5.0",
          "state": {
            "_model_module": "@jupyter-widgets/controls",
            "_model_module_version": "1.5.0",
            "_model_name": "DescriptionStyleModel",
            "_view_count": null,
            "_view_module": "@jupyter-widgets/base",
            "_view_module_version": "1.2.0",
            "_view_name": "StyleView",
            "description_width": ""
          }
        },
        "bc084505447a4b89a1a805a0eba759e1": {
          "model_module": "@jupyter-widgets/controls",
          "model_name": "HBoxModel",
          "model_module_version": "1.5.0",
          "state": {
            "_dom_classes": [],
            "_model_module": "@jupyter-widgets/controls",
            "_model_module_version": "1.5.0",
            "_model_name": "HBoxModel",
            "_view_count": null,
            "_view_module": "@jupyter-widgets/controls",
            "_view_module_version": "1.5.0",
            "_view_name": "HBoxView",
            "box_style": "",
            "children": [
              "IPY_MODEL_278bb2987a194759bc9b4c357d94bf7b",
              "IPY_MODEL_409360c890c9440c853159cd197549a2",
              "IPY_MODEL_e8e5ec38a87f44d1a80f3b4f8892a58e"
            ],
            "layout": "IPY_MODEL_1fae4bd749fc4345b13de4de8f8a1503"
          }
        },
        "278bb2987a194759bc9b4c357d94bf7b": {
          "model_module": "@jupyter-widgets/controls",
          "model_name": "HTMLModel",
          "model_module_version": "1.5.0",
          "state": {
            "_dom_classes": [],
            "_model_module": "@jupyter-widgets/controls",
            "_model_module_version": "1.5.0",
            "_model_name": "HTMLModel",
            "_view_count": null,
            "_view_module": "@jupyter-widgets/controls",
            "_view_module_version": "1.5.0",
            "_view_name": "HTMLView",
            "description": "",
            "description_tooltip": null,
            "layout": "IPY_MODEL_49dd60e341774a1497b821017033fdb2",
            "placeholder": "​",
            "style": "IPY_MODEL_643e237a75b341639d7254c276cfabe1",
            "value": "vocab.txt: 100%"
          }
        },
        "409360c890c9440c853159cd197549a2": {
          "model_module": "@jupyter-widgets/controls",
          "model_name": "FloatProgressModel",
          "model_module_version": "1.5.0",
          "state": {
            "_dom_classes": [],
            "_model_module": "@jupyter-widgets/controls",
            "_model_module_version": "1.5.0",
            "_model_name": "FloatProgressModel",
            "_view_count": null,
            "_view_module": "@jupyter-widgets/controls",
            "_view_module_version": "1.5.0",
            "_view_name": "ProgressView",
            "bar_style": "success",
            "description": "",
            "description_tooltip": null,
            "layout": "IPY_MODEL_7211ade4ae3940dc967124ab7b5c993f",
            "max": 871891,
            "min": 0,
            "orientation": "horizontal",
            "style": "IPY_MODEL_55a3d1eb2cc44d5ba9dfd65ffb923fc3",
            "value": 871891
          }
        },
        "e8e5ec38a87f44d1a80f3b4f8892a58e": {
          "model_module": "@jupyter-widgets/controls",
          "model_name": "HTMLModel",
          "model_module_version": "1.5.0",
          "state": {
            "_dom_classes": [],
            "_model_module": "@jupyter-widgets/controls",
            "_model_module_version": "1.5.0",
            "_model_name": "HTMLModel",
            "_view_count": null,
            "_view_module": "@jupyter-widgets/controls",
            "_view_module_version": "1.5.0",
            "_view_name": "HTMLView",
            "description": "",
            "description_tooltip": null,
            "layout": "IPY_MODEL_38f7db5903584587a62c4a558d7a92c3",
            "placeholder": "​",
            "style": "IPY_MODEL_2afc49e3b6e74293b5e71627cc50cd08",
            "value": " 872k/872k [00:00&lt;00:00, 4.37MB/s]"
          }
        },
        "1fae4bd749fc4345b13de4de8f8a1503": {
          "model_module": "@jupyter-widgets/base",
          "model_name": "LayoutModel",
          "model_module_version": "1.2.0",
          "state": {
            "_model_module": "@jupyter-widgets/base",
            "_model_module_version": "1.2.0",
            "_model_name": "LayoutModel",
            "_view_count": null,
            "_view_module": "@jupyter-widgets/base",
            "_view_module_version": "1.2.0",
            "_view_name": "LayoutView",
            "align_content": null,
            "align_items": null,
            "align_self": null,
            "border": null,
            "bottom": null,
            "display": null,
            "flex": null,
            "flex_flow": null,
            "grid_area": null,
            "grid_auto_columns": null,
            "grid_auto_flow": null,
            "grid_auto_rows": null,
            "grid_column": null,
            "grid_gap": null,
            "grid_row": null,
            "grid_template_areas": null,
            "grid_template_columns": null,
            "grid_template_rows": null,
            "height": null,
            "justify_content": null,
            "justify_items": null,
            "left": null,
            "margin": null,
            "max_height": null,
            "max_width": null,
            "min_height": null,
            "min_width": null,
            "object_fit": null,
            "object_position": null,
            "order": null,
            "overflow": null,
            "overflow_x": null,
            "overflow_y": null,
            "padding": null,
            "right": null,
            "top": null,
            "visibility": null,
            "width": null
          }
        },
        "49dd60e341774a1497b821017033fdb2": {
          "model_module": "@jupyter-widgets/base",
          "model_name": "LayoutModel",
          "model_module_version": "1.2.0",
          "state": {
            "_model_module": "@jupyter-widgets/base",
            "_model_module_version": "1.2.0",
            "_model_name": "LayoutModel",
            "_view_count": null,
            "_view_module": "@jupyter-widgets/base",
            "_view_module_version": "1.2.0",
            "_view_name": "LayoutView",
            "align_content": null,
            "align_items": null,
            "align_self": null,
            "border": null,
            "bottom": null,
            "display": null,
            "flex": null,
            "flex_flow": null,
            "grid_area": null,
            "grid_auto_columns": null,
            "grid_auto_flow": null,
            "grid_auto_rows": null,
            "grid_column": null,
            "grid_gap": null,
            "grid_row": null,
            "grid_template_areas": null,
            "grid_template_columns": null,
            "grid_template_rows": null,
            "height": null,
            "justify_content": null,
            "justify_items": null,
            "left": null,
            "margin": null,
            "max_height": null,
            "max_width": null,
            "min_height": null,
            "min_width": null,
            "object_fit": null,
            "object_position": null,
            "order": null,
            "overflow": null,
            "overflow_x": null,
            "overflow_y": null,
            "padding": null,
            "right": null,
            "top": null,
            "visibility": null,
            "width": null
          }
        },
        "643e237a75b341639d7254c276cfabe1": {
          "model_module": "@jupyter-widgets/controls",
          "model_name": "DescriptionStyleModel",
          "model_module_version": "1.5.0",
          "state": {
            "_model_module": "@jupyter-widgets/controls",
            "_model_module_version": "1.5.0",
            "_model_name": "DescriptionStyleModel",
            "_view_count": null,
            "_view_module": "@jupyter-widgets/base",
            "_view_module_version": "1.2.0",
            "_view_name": "StyleView",
            "description_width": ""
          }
        },
        "7211ade4ae3940dc967124ab7b5c993f": {
          "model_module": "@jupyter-widgets/base",
          "model_name": "LayoutModel",
          "model_module_version": "1.2.0",
          "state": {
            "_model_module": "@jupyter-widgets/base",
            "_model_module_version": "1.2.0",
            "_model_name": "LayoutModel",
            "_view_count": null,
            "_view_module": "@jupyter-widgets/base",
            "_view_module_version": "1.2.0",
            "_view_name": "LayoutView",
            "align_content": null,
            "align_items": null,
            "align_self": null,
            "border": null,
            "bottom": null,
            "display": null,
            "flex": null,
            "flex_flow": null,
            "grid_area": null,
            "grid_auto_columns": null,
            "grid_auto_flow": null,
            "grid_auto_rows": null,
            "grid_column": null,
            "grid_gap": null,
            "grid_row": null,
            "grid_template_areas": null,
            "grid_template_columns": null,
            "grid_template_rows": null,
            "height": null,
            "justify_content": null,
            "justify_items": null,
            "left": null,
            "margin": null,
            "max_height": null,
            "max_width": null,
            "min_height": null,
            "min_width": null,
            "object_fit": null,
            "object_position": null,
            "order": null,
            "overflow": null,
            "overflow_x": null,
            "overflow_y": null,
            "padding": null,
            "right": null,
            "top": null,
            "visibility": null,
            "width": null
          }
        },
        "55a3d1eb2cc44d5ba9dfd65ffb923fc3": {
          "model_module": "@jupyter-widgets/controls",
          "model_name": "ProgressStyleModel",
          "model_module_version": "1.5.0",
          "state": {
            "_model_module": "@jupyter-widgets/controls",
            "_model_module_version": "1.5.0",
            "_model_name": "ProgressStyleModel",
            "_view_count": null,
            "_view_module": "@jupyter-widgets/base",
            "_view_module_version": "1.2.0",
            "_view_name": "StyleView",
            "bar_color": null,
            "description_width": ""
          }
        },
        "38f7db5903584587a62c4a558d7a92c3": {
          "model_module": "@jupyter-widgets/base",
          "model_name": "LayoutModel",
          "model_module_version": "1.2.0",
          "state": {
            "_model_module": "@jupyter-widgets/base",
            "_model_module_version": "1.2.0",
            "_model_name": "LayoutModel",
            "_view_count": null,
            "_view_module": "@jupyter-widgets/base",
            "_view_module_version": "1.2.0",
            "_view_name": "LayoutView",
            "align_content": null,
            "align_items": null,
            "align_self": null,
            "border": null,
            "bottom": null,
            "display": null,
            "flex": null,
            "flex_flow": null,
            "grid_area": null,
            "grid_auto_columns": null,
            "grid_auto_flow": null,
            "grid_auto_rows": null,
            "grid_column": null,
            "grid_gap": null,
            "grid_row": null,
            "grid_template_areas": null,
            "grid_template_columns": null,
            "grid_template_rows": null,
            "height": null,
            "justify_content": null,
            "justify_items": null,
            "left": null,
            "margin": null,
            "max_height": null,
            "max_width": null,
            "min_height": null,
            "min_width": null,
            "object_fit": null,
            "object_position": null,
            "order": null,
            "overflow": null,
            "overflow_x": null,
            "overflow_y": null,
            "padding": null,
            "right": null,
            "top": null,
            "visibility": null,
            "width": null
          }
        },
        "2afc49e3b6e74293b5e71627cc50cd08": {
          "model_module": "@jupyter-widgets/controls",
          "model_name": "DescriptionStyleModel",
          "model_module_version": "1.5.0",
          "state": {
            "_model_module": "@jupyter-widgets/controls",
            "_model_module_version": "1.5.0",
            "_model_name": "DescriptionStyleModel",
            "_view_count": null,
            "_view_module": "@jupyter-widgets/base",
            "_view_module_version": "1.2.0",
            "_view_name": "StyleView",
            "description_width": ""
          }
        },
        "383587a769fc4ff29b507d3095fb514f": {
          "model_module": "@jupyter-widgets/controls",
          "model_name": "HBoxModel",
          "model_module_version": "1.5.0",
          "state": {
            "_dom_classes": [],
            "_model_module": "@jupyter-widgets/controls",
            "_model_module_version": "1.5.0",
            "_model_name": "HBoxModel",
            "_view_count": null,
            "_view_module": "@jupyter-widgets/controls",
            "_view_module_version": "1.5.0",
            "_view_name": "HBoxView",
            "box_style": "",
            "children": [
              "IPY_MODEL_b79017dd06324c56aa8d7607a1ab1ec0",
              "IPY_MODEL_00602ad6e4794f08ad65ae79dd307814",
              "IPY_MODEL_cc5be99c46a44096906d497ffe5d7a63"
            ],
            "layout": "IPY_MODEL_c363221669ae4599bd42b7b38b8ab330"
          }
        },
        "b79017dd06324c56aa8d7607a1ab1ec0": {
          "model_module": "@jupyter-widgets/controls",
          "model_name": "HTMLModel",
          "model_module_version": "1.5.0",
          "state": {
            "_dom_classes": [],
            "_model_module": "@jupyter-widgets/controls",
            "_model_module_version": "1.5.0",
            "_model_name": "HTMLModel",
            "_view_count": null,
            "_view_module": "@jupyter-widgets/controls",
            "_view_module_version": "1.5.0",
            "_view_name": "HTMLView",
            "description": "",
            "description_tooltip": null,
            "layout": "IPY_MODEL_74b30fd45ed742ce9d228034ffbdede3",
            "placeholder": "​",
            "style": "IPY_MODEL_cbb182d1b8e148baa0ce5a0f83279763",
            "value": "tokenizer.json: 100%"
          }
        },
        "00602ad6e4794f08ad65ae79dd307814": {
          "model_module": "@jupyter-widgets/controls",
          "model_name": "FloatProgressModel",
          "model_module_version": "1.5.0",
          "state": {
            "_dom_classes": [],
            "_model_module": "@jupyter-widgets/controls",
            "_model_module_version": "1.5.0",
            "_model_name": "FloatProgressModel",
            "_view_count": null,
            "_view_module": "@jupyter-widgets/controls",
            "_view_module_version": "1.5.0",
            "_view_name": "ProgressView",
            "bar_style": "success",
            "description": "",
            "description_tooltip": null,
            "layout": "IPY_MODEL_7bc798bba1964a1fbb2e6c8693cced69",
            "max": 1715180,
            "min": 0,
            "orientation": "horizontal",
            "style": "IPY_MODEL_c37cd980d6ea40208ec2ca1b31fa1b5c",
            "value": 1715180
          }
        },
        "cc5be99c46a44096906d497ffe5d7a63": {
          "model_module": "@jupyter-widgets/controls",
          "model_name": "HTMLModel",
          "model_module_version": "1.5.0",
          "state": {
            "_dom_classes": [],
            "_model_module": "@jupyter-widgets/controls",
            "_model_module_version": "1.5.0",
            "_model_name": "HTMLModel",
            "_view_count": null,
            "_view_module": "@jupyter-widgets/controls",
            "_view_module_version": "1.5.0",
            "_view_name": "HTMLView",
            "description": "",
            "description_tooltip": null,
            "layout": "IPY_MODEL_42afdc73af174a3cb2897cd532e599fb",
            "placeholder": "​",
            "style": "IPY_MODEL_8d6fc42a32af4e2ba7674f815f03e02b",
            "value": " 1.72M/1.72M [00:00&lt;00:00, 12.0MB/s]"
          }
        },
        "c363221669ae4599bd42b7b38b8ab330": {
          "model_module": "@jupyter-widgets/base",
          "model_name": "LayoutModel",
          "model_module_version": "1.2.0",
          "state": {
            "_model_module": "@jupyter-widgets/base",
            "_model_module_version": "1.2.0",
            "_model_name": "LayoutModel",
            "_view_count": null,
            "_view_module": "@jupyter-widgets/base",
            "_view_module_version": "1.2.0",
            "_view_name": "LayoutView",
            "align_content": null,
            "align_items": null,
            "align_self": null,
            "border": null,
            "bottom": null,
            "display": null,
            "flex": null,
            "flex_flow": null,
            "grid_area": null,
            "grid_auto_columns": null,
            "grid_auto_flow": null,
            "grid_auto_rows": null,
            "grid_column": null,
            "grid_gap": null,
            "grid_row": null,
            "grid_template_areas": null,
            "grid_template_columns": null,
            "grid_template_rows": null,
            "height": null,
            "justify_content": null,
            "justify_items": null,
            "left": null,
            "margin": null,
            "max_height": null,
            "max_width": null,
            "min_height": null,
            "min_width": null,
            "object_fit": null,
            "object_position": null,
            "order": null,
            "overflow": null,
            "overflow_x": null,
            "overflow_y": null,
            "padding": null,
            "right": null,
            "top": null,
            "visibility": null,
            "width": null
          }
        },
        "74b30fd45ed742ce9d228034ffbdede3": {
          "model_module": "@jupyter-widgets/base",
          "model_name": "LayoutModel",
          "model_module_version": "1.2.0",
          "state": {
            "_model_module": "@jupyter-widgets/base",
            "_model_module_version": "1.2.0",
            "_model_name": "LayoutModel",
            "_view_count": null,
            "_view_module": "@jupyter-widgets/base",
            "_view_module_version": "1.2.0",
            "_view_name": "LayoutView",
            "align_content": null,
            "align_items": null,
            "align_self": null,
            "border": null,
            "bottom": null,
            "display": null,
            "flex": null,
            "flex_flow": null,
            "grid_area": null,
            "grid_auto_columns": null,
            "grid_auto_flow": null,
            "grid_auto_rows": null,
            "grid_column": null,
            "grid_gap": null,
            "grid_row": null,
            "grid_template_areas": null,
            "grid_template_columns": null,
            "grid_template_rows": null,
            "height": null,
            "justify_content": null,
            "justify_items": null,
            "left": null,
            "margin": null,
            "max_height": null,
            "max_width": null,
            "min_height": null,
            "min_width": null,
            "object_fit": null,
            "object_position": null,
            "order": null,
            "overflow": null,
            "overflow_x": null,
            "overflow_y": null,
            "padding": null,
            "right": null,
            "top": null,
            "visibility": null,
            "width": null
          }
        },
        "cbb182d1b8e148baa0ce5a0f83279763": {
          "model_module": "@jupyter-widgets/controls",
          "model_name": "DescriptionStyleModel",
          "model_module_version": "1.5.0",
          "state": {
            "_model_module": "@jupyter-widgets/controls",
            "_model_module_version": "1.5.0",
            "_model_name": "DescriptionStyleModel",
            "_view_count": null,
            "_view_module": "@jupyter-widgets/base",
            "_view_module_version": "1.2.0",
            "_view_name": "StyleView",
            "description_width": ""
          }
        },
        "7bc798bba1964a1fbb2e6c8693cced69": {
          "model_module": "@jupyter-widgets/base",
          "model_name": "LayoutModel",
          "model_module_version": "1.2.0",
          "state": {
            "_model_module": "@jupyter-widgets/base",
            "_model_module_version": "1.2.0",
            "_model_name": "LayoutModel",
            "_view_count": null,
            "_view_module": "@jupyter-widgets/base",
            "_view_module_version": "1.2.0",
            "_view_name": "LayoutView",
            "align_content": null,
            "align_items": null,
            "align_self": null,
            "border": null,
            "bottom": null,
            "display": null,
            "flex": null,
            "flex_flow": null,
            "grid_area": null,
            "grid_auto_columns": null,
            "grid_auto_flow": null,
            "grid_auto_rows": null,
            "grid_column": null,
            "grid_gap": null,
            "grid_row": null,
            "grid_template_areas": null,
            "grid_template_columns": null,
            "grid_template_rows": null,
            "height": null,
            "justify_content": null,
            "justify_items": null,
            "left": null,
            "margin": null,
            "max_height": null,
            "max_width": null,
            "min_height": null,
            "min_width": null,
            "object_fit": null,
            "object_position": null,
            "order": null,
            "overflow": null,
            "overflow_x": null,
            "overflow_y": null,
            "padding": null,
            "right": null,
            "top": null,
            "visibility": null,
            "width": null
          }
        },
        "c37cd980d6ea40208ec2ca1b31fa1b5c": {
          "model_module": "@jupyter-widgets/controls",
          "model_name": "ProgressStyleModel",
          "model_module_version": "1.5.0",
          "state": {
            "_model_module": "@jupyter-widgets/controls",
            "_model_module_version": "1.5.0",
            "_model_name": "ProgressStyleModel",
            "_view_count": null,
            "_view_module": "@jupyter-widgets/base",
            "_view_module_version": "1.2.0",
            "_view_name": "StyleView",
            "bar_color": null,
            "description_width": ""
          }
        },
        "42afdc73af174a3cb2897cd532e599fb": {
          "model_module": "@jupyter-widgets/base",
          "model_name": "LayoutModel",
          "model_module_version": "1.2.0",
          "state": {
            "_model_module": "@jupyter-widgets/base",
            "_model_module_version": "1.2.0",
            "_model_name": "LayoutModel",
            "_view_count": null,
            "_view_module": "@jupyter-widgets/base",
            "_view_module_version": "1.2.0",
            "_view_name": "LayoutView",
            "align_content": null,
            "align_items": null,
            "align_self": null,
            "border": null,
            "bottom": null,
            "display": null,
            "flex": null,
            "flex_flow": null,
            "grid_area": null,
            "grid_auto_columns": null,
            "grid_auto_flow": null,
            "grid_auto_rows": null,
            "grid_column": null,
            "grid_gap": null,
            "grid_row": null,
            "grid_template_areas": null,
            "grid_template_columns": null,
            "grid_template_rows": null,
            "height": null,
            "justify_content": null,
            "justify_items": null,
            "left": null,
            "margin": null,
            "max_height": null,
            "max_width": null,
            "min_height": null,
            "min_width": null,
            "object_fit": null,
            "object_position": null,
            "order": null,
            "overflow": null,
            "overflow_x": null,
            "overflow_y": null,
            "padding": null,
            "right": null,
            "top": null,
            "visibility": null,
            "width": null
          }
        },
        "8d6fc42a32af4e2ba7674f815f03e02b": {
          "model_module": "@jupyter-widgets/controls",
          "model_name": "DescriptionStyleModel",
          "model_module_version": "1.5.0",
          "state": {
            "_model_module": "@jupyter-widgets/controls",
            "_model_module_version": "1.5.0",
            "_model_name": "DescriptionStyleModel",
            "_view_count": null,
            "_view_module": "@jupyter-widgets/base",
            "_view_module_version": "1.2.0",
            "_view_name": "StyleView",
            "description_width": ""
          }
        }
      }
    }
  },
  "cells": [
    {
      "cell_type": "code",
      "metadata": {
        "id": "v5Jlcrg0ghs-"
      },
      "source": [
        "import json\n",
        "from pathlib import Path\n",
        "import torch\n",
        "from torch.utils.data import DataLoader\n",
        "import time"
      ],
      "execution_count": 94,
      "outputs": []
    },
    {
      "cell_type": "markdown",
      "metadata": {
        "id": "X55oFpqzd78h"
      },
      "source": [
        "## Download dataset and Tranformers library"
      ]
    },
    {
      "cell_type": "code",
      "metadata": {
        "id": "U7XcbS3afYOf",
        "colab": {
          "base_uri": "https://localhost:8080/"
        },
        "outputId": "92dc0f38-3500-4dc2-98db-a0262a1fa618"
      },
      "source": [
        "from google.colab import drive\n",
        "drive.mount('/content/drive')\n"
      ],
      "execution_count": 95,
      "outputs": [
        {
          "output_type": "stream",
          "name": "stdout",
          "text": [
            "Drive already mounted at /content/drive; to attempt to forcibly remount, call drive.mount(\"/content/drive\", force_remount=True).\n"
          ]
        }
      ]
    },
    {
      "cell_type": "code",
      "source": [
        "# zalo data\n",
        "# Đọc dữ liệu từ tệp tin JSON\n",
        "with open('zac2022_train_merged_final.json', 'rb') as f:\n",
        "    data = json.load(f)\n",
        "\n",
        "zalo_data = data[\"data\"]\n",
        "zalo_traindata = []\n",
        "\n",
        "for item in zalo_data:\n",
        "  if item['category'] == \"FULL_ANNOTATION\":\n",
        "    data_item = {}\n",
        "    answer = {}\n",
        "    data_item['context'] = item['text']\n",
        "    data_item['question'] = item['question']\n",
        "    answer['text'] = item['short_candidate']\n",
        "    answer['answer_start'] = item['text'].find(item['short_candidate'])\n",
        "    data_item['answer'] = answer\n",
        "    zalo_traindata.append(data_item)\n",
        "\n",
        "# print(zalo_traindata[0])\n",
        "zalo_train = zalo_traindata[:4000]\n",
        "zalo_test = zalo_traindata[4000:]"
      ],
      "metadata": {
        "id": "LF2PNj_Sso4H"
      },
      "execution_count": 96,
      "outputs": []
    },
    {
      "cell_type": "code",
      "source": [
        "# facebook_data\n",
        "# Đọc dữ liệu từ tệp tin JSON\n",
        "with open('test-context-vi-question-en.json', 'rb') as f:\n",
        "    data = json.load(f)\n",
        "\n",
        "facebook_data = data[\"data\"]\n",
        "facebook_traindata = []\n",
        "\n",
        "for para in facebook_data:\n",
        "  for item in para['paragraphs']:\n",
        "    data_item = {}\n",
        "    answer = {}\n",
        "    data_item['context'] = item['context']\n",
        "    data_item['question'] = item['qas'][0]['question']\n",
        "    answer['text'] = item['qas'][0]['answers'][0]['text']\n",
        "    answer['answer_start'] = item['qas'][0]['answers'][0]['answer_start']\n",
        "    data_item['answer'] = answer\n",
        "    facebook_traindata.append(data_item)\n",
        "\n",
        "facebook_train = facebook_traindata\n",
        "#print(len(facebook_train))\n",
        "#print(facebook_data[0]['paragraphs'])\n",
        "\n",
        "# test\n",
        "with open('dev-context-vi-question-en.json', 'rb') as f:\n",
        "    data = json.load(f)\n",
        "\n",
        "facebook_data = data[\"data\"]\n",
        "facebook_traindata = []\n",
        "\n",
        "for para in facebook_data:\n",
        "  for item in para['paragraphs']:\n",
        "    data_item = {}\n",
        "    answer = {}\n",
        "    data_item['context'] = item['context']\n",
        "    data_item['question'] = item['qas'][0]['question']\n",
        "    answer['text'] = item['qas'][0]['answers'][0]['text']\n",
        "    answer['answer_start'] = item['qas'][0]['answers'][0]['answer_start']\n",
        "    data_item['answer'] = answer\n",
        "    facebook_traindata.append(data_item)\n",
        "\n",
        "facebook_test = facebook_traindata\n",
        "#print(len(facebook_test))\n"
      ],
      "metadata": {
        "id": "_naJMvrLp0Mq"
      },
      "execution_count": 97,
      "outputs": []
    },
    {
      "cell_type": "code",
      "metadata": {
        "id": "uC-Kx4ij3T6a",
        "colab": {
          "base_uri": "https://localhost:8080/"
        },
        "outputId": "8f021511-9368-4d47-e598-48ba73baf736"
      },
      "source": [
        "# mailong_data\n",
        "# Đọc dữ liệu từ tệp tin JSON\n",
        "# train\n",
        "with open('train-v2.0.json', 'rb') as f:\n",
        "    data = json.load(f)\n",
        "\n",
        "mailong_data = data[\"data\"]\n",
        "mailong_traindata = []\n",
        "\n",
        "for para in mailong_data:\n",
        "  for item in para['paragraphs']:\n",
        "\n",
        "    answer = item['qas'][0]['answers']\n",
        "    if answer != []: # check answer\n",
        "      data_item = {}\n",
        "      answer = {}\n",
        "      data_item['context'] = item['context']\n",
        "      data_item['question'] = item['qas'][0]['question']\n",
        "      answer['text'] = item['qas'][0]['answers'][0]['text']\n",
        "      answer['answer_start'] = item['qas'][0]['answers'][0]['answer_start']\n",
        "      data_item['answer'] = answer\n",
        "      mailong_traindata.append(data_item)\n",
        "\n",
        "#print(mailong_traindata[2]['paragraphs'][0]['qas'])\n",
        "mailong_train = mailong_traindata\n",
        "print(len(mailong_train))\n",
        "\n",
        "# test\n",
        "with open('dev-v2.0.json', 'rb') as f:\n",
        "    data = json.load(f)\n",
        "\n",
        "mailong_data = data[\"data\"]\n",
        "mailong_traindata = []\n",
        "for para in mailong_data:\n",
        "  for item in para['paragraphs']:\n",
        "\n",
        "    answer = item['qas'][0]['answers']\n",
        "    if answer != []: # check answer\n",
        "      data_item = {}\n",
        "      answer = {}\n",
        "      data_item['context'] = item['context']\n",
        "      data_item['question'] = item['qas'][0]['question']\n",
        "      answer['text'] = item['qas'][0]['answers'][0]['text']\n",
        "      answer['answer_start'] = item['qas'][0]['answers'][0]['answer_start']\n",
        "      data_item['answer'] = answer\n",
        "      mailong_traindata.append(data_item)\n",
        "\n",
        "mailong_test = mailong_traindata\n",
        "print(len(mailong_test))"
      ],
      "execution_count": 98,
      "outputs": [
        {
          "output_type": "stream",
          "name": "stdout",
          "text": [
            "985\n",
            "141\n"
          ]
        }
      ]
    },
    {
      "cell_type": "code",
      "source": [],
      "metadata": {
        "id": "aqGLrV47AoBn"
      },
      "execution_count": 98,
      "outputs": []
    },
    {
      "cell_type": "markdown",
      "metadata": {
        "id": "9G6iYKZ7gRWr"
      },
      "source": [
        "## ***Step 2:*** Merge the data"
      ]
    },
    {
      "cell_type": "markdown",
      "metadata": {
        "id": "XjZ1sdQVhCVf"
      },
      "source": [
        "Here I take and store the texts, queries and answers from the train and validation .json files. If we look carefully we will see that in these files there are a number of queries and answers for each passage. I save these informations into lists."
      ]
    },
    {
      "cell_type": "code",
      "metadata": {
        "id": "6b2EMVb-fhwA"
      },
      "source": [
        "texts = []\n",
        "queries = []\n",
        "answers = []\n",
        "\n",
        "# Search for each passage, its question and its answer\n",
        "for item in zalo_train:\n",
        "    # Store every passage, query and its answer to the lists\n",
        "    texts.append(item['context'])\n",
        "    queries.append(item['question'])\n",
        "    answers.append(item['answer'])\n",
        "\n",
        "# Search for each passage, its question and its answer\n",
        "for item in facebook_train:\n",
        "    # Store every passage, query and its answer to the lists\n",
        "    texts.append(item['context'])\n",
        "    queries.append(item['question'])\n",
        "    answers.append(item['answer'])\n",
        "\n",
        "# Search for each passage, its question and its answer\n",
        "for item in mailong_train:\n",
        "    # Store every passage, query and its answer to the lists\n",
        "    texts.append(item['context'])\n",
        "    queries.append(item['question'])\n",
        "    answers.append(item['answer'])\n",
        "\n",
        "train_texts, train_queries, train_answers = texts, queries, answers"
      ],
      "execution_count": 103,
      "outputs": []
    },
    {
      "cell_type": "code",
      "metadata": {
        "id": "_JPP5Daci2V8"
      },
      "source": [
        "texts = []\n",
        "queries = []\n",
        "answers = []\n",
        "\n",
        "# Search for each passage, its question and its answer\n",
        "for item in zalo_test:\n",
        "    # Store every passage, query and its answer to the lists\n",
        "    texts.append(item['context'])\n",
        "    queries.append(item['question'])\n",
        "    answers.append(item['answer'])\n",
        "\n",
        "# Search for each passage, its question and its answer\n",
        "for item in facebook_test:\n",
        "    # Store every passage, query and its answer to the lists\n",
        "    texts.append(item['context'])\n",
        "    queries.append(item['question'])\n",
        "    answers.append(item['answer'])\n",
        "\n",
        "# Search for each passage, its question and its answer\n",
        "for item in mailong_test:\n",
        "    # Store every passage, query and its answer to the lists\n",
        "    texts.append(item['context'])\n",
        "    queries.append(item['question'])\n",
        "    answers.append(item['answer'])\n",
        "\n",
        "val_texts, val_queries, val_answers = texts, queries, answers"
      ],
      "execution_count": 102,
      "outputs": []
    },
    {
      "cell_type": "markdown",
      "metadata": {
        "id": "PEN89d8Mjlw3"
      },
      "source": [
        "## ***Step 3:*** Check the data"
      ]
    },
    {
      "cell_type": "code",
      "metadata": {
        "colab": {
          "base_uri": "https://localhost:8080/"
        },
        "id": "w3f9hbvMjJ1b",
        "outputId": "0c0fc915-cea7-4999-a8e2-65614661b681"
      },
      "source": [
        "print(len(train_texts))\n",
        "print(len(train_queries))\n",
        "print(len(train_answers))"
      ],
      "execution_count": 104,
      "outputs": [
        {
          "output_type": "stream",
          "name": "stdout",
          "text": [
            "9780\n",
            "9780\n",
            "9780\n"
          ]
        }
      ]
    },
    {
      "cell_type": "code",
      "metadata": {
        "colab": {
          "base_uri": "https://localhost:8080/"
        },
        "id": "xPrlBV3hkJSe",
        "outputId": "7feac298-408f-4fca-e64a-570e5ee33d15"
      },
      "source": [
        "print(\"Passage: \",train_texts[0])\n",
        "print(\"Query: \",train_queries[0])\n",
        "print(\"Answer: \",train_answers[0])"
      ],
      "execution_count": 105,
      "outputs": [
        {
          "output_type": "stream",
          "name": "stdout",
          "text": [
            "Passage:  có 23 quốc gia không có lực lượng quân đội, bao gồm: Costa Rica, Iceland, Panama, Micronesia, Quần đảo Marshall, và Vatican...\n",
            "Query:  Đất nước nào không có quân đội\n",
            "Answer:  {'text': 'Costa Rica, Iceland, Panama, Micronesia, Quần đảo Marshall, và Vatican...', 'answer_start': 53}\n"
          ]
        }
      ]
    },
    {
      "cell_type": "markdown",
      "metadata": {
        "id": "6JCAvOgalXbh"
      },
      "source": [
        "As you can see we have 20302 passages, queries and answers from the validation data"
      ]
    },
    {
      "cell_type": "code",
      "metadata": {
        "colab": {
          "base_uri": "https://localhost:8080/"
        },
        "id": "bMs6opQPlLBE",
        "outputId": "ad970527-996c-41f7-f0b3-464fc8253c88"
      },
      "source": [
        "print(len(val_texts))\n",
        "print(len(val_queries))\n",
        "print(len(val_answers))"
      ],
      "execution_count": 83,
      "outputs": [
        {
          "output_type": "stream",
          "name": "stdout",
          "text": [
            "1581\n",
            "1581\n",
            "1581\n"
          ]
        }
      ]
    },
    {
      "cell_type": "code",
      "metadata": {
        "colab": {
          "base_uri": "https://localhost:8080/"
        },
        "id": "FBf0eNdblL_P",
        "outputId": "6f7080a0-3dae-424b-de10-c50a6a88a9a0"
      },
      "source": [
        "print(\"Passage: \",val_texts[0])\n",
        "print(\"Query: \",val_queries[0])\n",
        "print(\"Answer: \",val_answers[0])"
      ],
      "execution_count": 106,
      "outputs": [
        {
          "output_type": "stream",
          "name": "stdout",
          "text": [
            "Passage:  Tháp Eiffel ( tiếng Pháp : Tour Eiffel ) là một công trình kiến trúc bằng thép nằm trên công viên Champ-de-Mars , cạnh sông Seine , thành phố Paris .\n",
            "Query:  tháp eiffel toạ lạc ở công viên nào tại thành phố Paris\n",
            "Answer:  {'text': 'công viên Champ-de-Mars', 'answer_start': 88}\n"
          ]
        }
      ]
    },
    {
      "cell_type": "markdown",
      "metadata": {
        "id": "_QFwoBu7gOac"
      },
      "source": [
        "This was helped me to split my dataset in order to run my notebook in my first attemps."
      ]
    },
    {
      "cell_type": "code",
      "metadata": {
        "id": "QsxbrdQBIN4l"
      },
      "source": [
        "# train_texts = train_texts[:10]\n",
        "# train_queries = train_queries[:10]\n",
        "# train_answers = train_answers[:10]\n",
        "\n",
        "# val_texts = val_texts[:10]\n",
        "# val_queries = val_queries[:10]\n",
        "# val_answers = val_answers[:10]"
      ],
      "execution_count": null,
      "outputs": []
    },
    {
      "cell_type": "code",
      "metadata": {
        "id": "lq4GEXQ7IpwS"
      },
      "source": [
        "# print(len(train_texts))\n",
        "# print(len(train_queries))\n",
        "# print(len(train_answers))"
      ],
      "execution_count": null,
      "outputs": []
    },
    {
      "cell_type": "code",
      "metadata": {
        "id": "MQ3KHKIkIy0G"
      },
      "source": [
        "# print(len(val_texts))\n",
        "# print(len(val_queries))\n",
        "# print(len(val_answers))"
      ],
      "execution_count": null,
      "outputs": []
    },
    {
      "cell_type": "markdown",
      "metadata": {
        "id": "79TEci2gnAP4"
      },
      "source": [
        "## ***Step 4:*** Find the end position character"
      ]
    },
    {
      "cell_type": "markdown",
      "metadata": {
        "id": "dU73Dn5TnJvP"
      },
      "source": [
        "Because Bert model needs both start and end position characters of the answer, I have to find it and store it for later. Sometimes, I notice that SQuAD anwers \"eat\" one or two characters from the real answer in the passage. For example, (as a colleague said in Piazza) for the word \"sixth\" in passage, SQuAD give the answer of \"six\". So in these cases I select to handle this problem by \"cutting\" the passage by 1 or 2 characters to be the same as the given answer. This strategy is because BERT works with ***tokens*** of a specific format so I needed to process the squad dataset to keep up with the input that BERT is waiting for."
      ]
    },
    {
      "cell_type": "markdown",
      "metadata": {
        "id": "kNAThgIvq_4S"
      },
      "source": [
        "Find end position character in train data"
      ]
    },
    {
      "cell_type": "code",
      "metadata": {
        "id": "qlexBsEcnI77"
      },
      "source": [
        "for answer, text in zip(train_answers, train_texts):\n",
        "    real_answer = answer['text']\n",
        "    start_idx = answer['answer_start']\n",
        "    # Get the real end index\n",
        "    end_idx = start_idx + len(real_answer)\n",
        "\n",
        "    # Deal with the problem of 1 or 2 more characters\n",
        "    if text[start_idx:end_idx] == real_answer:\n",
        "        answer['answer_end'] = end_idx\n",
        "    # When the real answer is more by one character\n",
        "    elif text[start_idx-1:end_idx-1] == real_answer:\n",
        "        answer['answer_start'] = start_idx - 1\n",
        "        answer['answer_end'] = end_idx - 1\n",
        "    # When the real answer is more by two characters\n",
        "    elif text[start_idx-2:end_idx-2] == real_answer:\n",
        "        answer['answer_start'] = start_idx - 2\n",
        "        answer['answer_end'] = end_idx - 2"
      ],
      "execution_count": 107,
      "outputs": []
    },
    {
      "cell_type": "markdown",
      "metadata": {
        "id": "aEzbDWC1sPEn"
      },
      "source": [
        "Find end position character in validation data"
      ]
    },
    {
      "cell_type": "code",
      "metadata": {
        "id": "Xe2_AZszsRqr"
      },
      "source": [
        "for answer, text in zip(val_answers, val_texts):\n",
        "    real_answer = answer['text']\n",
        "    start_idx = answer['answer_start']\n",
        "    # Get the real end index\n",
        "    end_idx = start_idx + len(real_answer)\n",
        "\n",
        "    # Deal with the problem of 1 or 2 more characters\n",
        "    if text[start_idx:end_idx] == real_answer:\n",
        "        answer['answer_end'] = end_idx\n",
        "    # When the real answer is more by one character\n",
        "    elif text[start_idx-1:end_idx-1] == real_answer:\n",
        "        answer['answer_start'] = start_idx - 1\n",
        "        answer['answer_end'] = end_idx - 1\n",
        "    # When the real answer is more by two characters\n",
        "    elif text[start_idx-2:end_idx-2] == real_answer:\n",
        "        answer['answer_start'] = start_idx - 2\n",
        "        answer['answer_end'] = end_idx - 2"
      ],
      "execution_count": 108,
      "outputs": []
    },
    {
      "cell_type": "markdown",
      "metadata": {
        "id": "83nKp3c5tU7A"
      },
      "source": [
        "## ***Step 5:*** Tokenize passages and queries"
      ]
    },
    {
      "cell_type": "markdown",
      "metadata": {
        "id": "boxZGej3t17f"
      },
      "source": [
        "In this task is asked to select the BERT-base pretrained model “bert-base-uncased” for the tokenization"
      ]
    },
    {
      "cell_type": "code",
      "metadata": {
        "id": "-dncUoMhtpWj",
        "colab": {
          "base_uri": "https://localhost:8080/",
          "height": 145,
          "referenced_widgets": [
            "7c21ebdde2a848ffb7e1f3e89ec51e0f",
            "b1ce4f8cb6054f36a4b900a53ed28eaf",
            "b82ec00394e04cad9e6d708e4feaeea1",
            "96fc663388dd46199c43ac6722b57fa1",
            "1a86e2001ee34f268aca743ad0dd3fa8",
            "dfddadcf8ff048aba46936968a85f68e",
            "2c72ca43179a418493ea3fd0b03e946e",
            "07fcc97c329f43a3869a5986e4e5a9a1",
            "41a99a9688d94fb08f8f2cf9575cf901",
            "802e04b3d3d044f7bdf49f9961faf3b1",
            "837b168666c845b4903e52257e20ba8d",
            "ae1d6fbf2df840e6ba470f89dd66021f",
            "04d272876a23417ab2613b062aba84a7",
            "c88572fc69cd47caaa6dc0b722812af6",
            "b73c9408fdac48f3b19baa5c01c8d42d",
            "96a8504f3ba748178f5b4d36b1d86eb4",
            "b4635d9855074b8694b2325a6dacec19",
            "40ecded09a31442d86c594513607ed9a",
            "d01b75a27501491eabf791c6ce8dacb2",
            "84e10c4536f842538e2dd84665c47356",
            "048270591de14a7491348f48feabbabe",
            "3b2e26fe8f0243ecb42a6ee31fc4e48e",
            "bc084505447a4b89a1a805a0eba759e1",
            "278bb2987a194759bc9b4c357d94bf7b",
            "409360c890c9440c853159cd197549a2",
            "e8e5ec38a87f44d1a80f3b4f8892a58e",
            "1fae4bd749fc4345b13de4de8f8a1503",
            "49dd60e341774a1497b821017033fdb2",
            "643e237a75b341639d7254c276cfabe1",
            "7211ade4ae3940dc967124ab7b5c993f",
            "55a3d1eb2cc44d5ba9dfd65ffb923fc3",
            "38f7db5903584587a62c4a558d7a92c3",
            "2afc49e3b6e74293b5e71627cc50cd08",
            "383587a769fc4ff29b507d3095fb514f",
            "b79017dd06324c56aa8d7607a1ab1ec0",
            "00602ad6e4794f08ad65ae79dd307814",
            "cc5be99c46a44096906d497ffe5d7a63",
            "c363221669ae4599bd42b7b38b8ab330",
            "74b30fd45ed742ce9d228034ffbdede3",
            "cbb182d1b8e148baa0ce5a0f83279763",
            "7bc798bba1964a1fbb2e6c8693cced69",
            "c37cd980d6ea40208ec2ca1b31fa1b5c",
            "42afdc73af174a3cb2897cd532e599fb",
            "8d6fc42a32af4e2ba7674f815f03e02b"
          ]
        },
        "outputId": "202b93da-4de1-4e1b-88e8-afc472b3392f"
      },
      "source": [
        "from transformers import AutoTokenizer,AdamW,BertForQuestionAnswering\n",
        "tokenizer = AutoTokenizer.from_pretrained(\"bert-base-multilingual-uncased\")\n",
        "\n",
        "train_encodings = tokenizer(train_texts, train_queries, truncation=True, padding=True)\n",
        "val_encodings = tokenizer(val_texts, val_queries, truncation=True, padding=True)"
      ],
      "execution_count": 109,
      "outputs": [
        {
          "output_type": "display_data",
          "data": {
            "text/plain": [
              "tokenizer_config.json:   0%|          | 0.00/28.0 [00:00<?, ?B/s]"
            ],
            "application/vnd.jupyter.widget-view+json": {
              "version_major": 2,
              "version_minor": 0,
              "model_id": "7c21ebdde2a848ffb7e1f3e89ec51e0f"
            }
          },
          "metadata": {}
        },
        {
          "output_type": "display_data",
          "data": {
            "text/plain": [
              "config.json:   0%|          | 0.00/625 [00:00<?, ?B/s]"
            ],
            "application/vnd.jupyter.widget-view+json": {
              "version_major": 2,
              "version_minor": 0,
              "model_id": "ae1d6fbf2df840e6ba470f89dd66021f"
            }
          },
          "metadata": {}
        },
        {
          "output_type": "display_data",
          "data": {
            "text/plain": [
              "vocab.txt:   0%|          | 0.00/872k [00:00<?, ?B/s]"
            ],
            "application/vnd.jupyter.widget-view+json": {
              "version_major": 2,
              "version_minor": 0,
              "model_id": "bc084505447a4b89a1a805a0eba759e1"
            }
          },
          "metadata": {}
        },
        {
          "output_type": "display_data",
          "data": {
            "text/plain": [
              "tokenizer.json:   0%|          | 0.00/1.72M [00:00<?, ?B/s]"
            ],
            "application/vnd.jupyter.widget-view+json": {
              "version_major": 2,
              "version_minor": 0,
              "model_id": "383587a769fc4ff29b507d3095fb514f"
            }
          },
          "metadata": {}
        }
      ]
    },
    {
      "cell_type": "markdown",
      "metadata": {
        "id": "WHaETr5izn0t"
      },
      "source": [
        "## ***Step 6:*** Convert the start-end positions to tokens start-end positions"
      ]
    },
    {
      "cell_type": "code",
      "metadata": {
        "id": "VHDTX4HZzN3e"
      },
      "source": [
        "def add_token_positions(encodings, answers):\n",
        "  start_positions = []\n",
        "  end_positions = []\n",
        "\n",
        "  count = 0\n",
        "\n",
        "  for i in range(len(answers)):\n",
        "    start_positions.append(encodings.char_to_token(i, answers[i]['answer_start']))\n",
        "    end_positions.append(encodings.char_to_token(i, answers[i]['answer_end']))\n",
        "\n",
        "    # if start position is None, the answer passage has been truncated\n",
        "    if start_positions[-1] is None:\n",
        "      start_positions[-1] = tokenizer.model_max_length\n",
        "\n",
        "    # if end position is None, the 'char_to_token' function points to the space after the correct token, so add - 1\n",
        "    if end_positions[-1] is None:\n",
        "      end_positions[-1] = encodings.char_to_token(i, answers[i]['answer_end'] - 1)\n",
        "      # if end position is still None the answer passage has been truncated\n",
        "      if end_positions[-1] is None:\n",
        "        count += 1\n",
        "        end_positions[-1] = tokenizer.model_max_length\n",
        "\n",
        "  print(count)\n",
        "\n",
        "  # Update the data in dictionary\n",
        "  encodings.update({'start_positions': start_positions, 'end_positions': end_positions})\n",
        "\n",
        "add_token_positions(train_encodings, train_answers)\n",
        "add_token_positions(val_encodings, val_answers)"
      ],
      "execution_count": null,
      "outputs": []
    },
    {
      "cell_type": "markdown",
      "metadata": {
        "id": "G0UnrxsD4rpZ"
      },
      "source": [
        "I observed that after tokenize the end position character, sometimes was still None. This happended only for 10 answers in train data (of total 86821) and 16 answers in validation data (of total 20302). So I decided to move the answer 1 position left. If it was still None then I give them the model_max_length as before. I have to refer that I was trying to see if the answers in this case was 1 postition after (so I added +1 to the end position) or 2 positions left or right (+/- 2 positions), but the answers that there are still None was more (ie 526, while with this code there only 10). So I kept this strategy in the end, in order to have as less as possible \"burned\" answers."
      ]
    },
    {
      "cell_type": "markdown",
      "metadata": {
        "id": "6JNdLyE97io2"
      },
      "source": [
        "## ***Step 7:*** Create a Dataset class"
      ]
    },
    {
      "cell_type": "markdown",
      "metadata": {
        "id": "iU4mORGW7ttP"
      },
      "source": [
        "Create a Squatdataset class (inherits from torch.utils.data.Dataset), that helped me to train and validate my previous data more easily and convert encodings to datasets."
      ]
    },
    {
      "cell_type": "code",
      "metadata": {
        "id": "FjYzrXas3yhy"
      },
      "source": [
        "class SquadDataset(torch.utils.data.Dataset):\n",
        "    def __init__(self, encodings):\n",
        "        self.encodings = encodings\n",
        "\n",
        "    def __getitem__(self, idx):\n",
        "        return {key: torch.tensor(val[idx]) for key, val in self.encodings.items()}\n",
        "\n",
        "    def __len__(self):\n",
        "        return len(self.encodings.input_ids)"
      ],
      "execution_count": null,
      "outputs": []
    },
    {
      "cell_type": "code",
      "metadata": {
        "id": "fHGYpU8x8GCT"
      },
      "source": [
        "train_dataset = SquadDataset(train_encodings)\n",
        "val_dataset = SquadDataset(val_encodings)"
      ],
      "execution_count": null,
      "outputs": []
    },
    {
      "cell_type": "markdown",
      "metadata": {
        "id": "RAISuNeC8r7q"
      },
      "source": [
        "## ***Step 8:*** Use of DataLoader"
      ]
    },
    {
      "cell_type": "markdown",
      "metadata": {
        "id": "QegfQoBz832o"
      },
      "source": [
        "I put my previous data to DataLoader, so as to split them in \"pieces\" of 8 batch size. I will explain the selection of this value of batch size later."
      ]
    },
    {
      "cell_type": "code",
      "metadata": {
        "id": "XCohXB_R8HkC"
      },
      "source": [
        "train_loader = DataLoader(train_dataset, batch_size=8, shuffle=True)\n",
        "val_loader = DataLoader(val_dataset, batch_size=8, shuffle=True)"
      ],
      "execution_count": null,
      "outputs": []
    },
    {
      "cell_type": "markdown",
      "metadata": {
        "id": "M58QEXOB9nfF"
      },
      "source": [
        "## ***Step 9:*** Use GPU"
      ]
    },
    {
      "cell_type": "code",
      "metadata": {
        "id": "N12rPAE39QS0"
      },
      "source": [
        "device = torch.device('cuda:0' if torch.cuda.is_available()\n",
        "                      else 'cpu')"
      ],
      "execution_count": null,
      "outputs": []
    },
    {
      "cell_type": "markdown",
      "metadata": {
        "id": "ctnv1lVt-Na_"
      },
      "source": [
        "## ***Step 10:*** Build the Bert model"
      ]
    },
    {
      "cell_type": "markdown",
      "metadata": {
        "id": "SS8klUwRBNbT"
      },
      "source": [
        "I select BertForQuestionAnswering from transformers library, as it was the most relative with this task. When we instantiate a model with from_pretrained(), the model configuration and pre-trained weights of the specified model are used to initialize the model. Moreover, I used the PyTorch optimizer of AdamW which implements gradient bias correction as well as weight decay.\n",
        "\n"
      ]
    },
    {
      "cell_type": "code",
      "metadata": {
        "id": "unmSIjkW-ZEH"
      },
      "source": [
        "model = BertForQuestionAnswering.from_pretrained('bert-base-multilingual-uncased').to(device)\n",
        "\n",
        "optim = AdamW(model.parameters(), lr=5e-5)\n",
        "# optim = AdamW(model.parameters(), lr=3e-5)\n",
        "# optim = AdamW(model.parameters(), lr=2e-5)\n",
        "\n",
        "# epochs = 2\n",
        "epochs = 3\n",
        "# epochs = 4"
      ],
      "execution_count": null,
      "outputs": []
    },
    {
      "cell_type": "markdown",
      "metadata": {
        "id": "nhO97SXJe0L9"
      },
      "source": [
        "This message is a warning that I should fine tune my model before I test it, in order to have a good performance."
      ]
    },
    {
      "cell_type": "markdown",
      "metadata": {
        "id": "Qe29xEPB_DvT"
      },
      "source": [
        "## ***Step 11:*** Train and Evaluate Model"
      ]
    },
    {
      "cell_type": "markdown",
      "metadata": {
        "id": "DiDsJMN___OQ"
      },
      "source": [
        "Training of model was done exactly as in the previous projects."
      ]
    },
    {
      "cell_type": "code",
      "metadata": {
        "id": "3qkwmHdB_DKI"
      },
      "source": [
        "whole_train_eval_time = time.time()\n",
        "\n",
        "train_losses = []\n",
        "val_losses = []\n",
        "\n",
        "print_every = 1000\n",
        "\n",
        "for epoch in range(epochs):\n",
        "  epoch_time = time.time()\n",
        "\n",
        "  # Set model in train mode\n",
        "  model.train()\n",
        "\n",
        "  loss_of_epoch = 0\n",
        "\n",
        "  print(\"############Train############\")\n",
        "\n",
        "  for batch_idx,batch in enumerate(train_loader):\n",
        "\n",
        "    optim.zero_grad()\n",
        "\n",
        "    input_ids = batch['input_ids'].to(device)\n",
        "    attention_mask = batch['attention_mask'].to(device)\n",
        "    start_positions = batch['start_positions'].to(device)\n",
        "    end_positions = batch['end_positions'].to(device)\n",
        "\n",
        "    outputs = model(input_ids, attention_mask=attention_mask, start_positions=start_positions, end_positions=end_positions)\n",
        "    loss = outputs[0]\n",
        "    # do a backwards pass\n",
        "    loss.backward()\n",
        "    # update the weights\n",
        "    optim.step()\n",
        "    # Find the total loss\n",
        "    loss_of_epoch += loss.item()\n",
        "\n",
        "    if (batch_idx+1) % print_every == 0:\n",
        "      print(\"Batch {:} / {:}\".format(batch_idx+1,len(train_loader)),\"\\nLoss:\", round(loss.item(),1),\"\\n\")\n",
        "\n",
        "  loss_of_epoch /= len(train_loader)\n",
        "  train_losses.append(loss_of_epoch)\n",
        "\n",
        "  ##########Evaluation##################\n",
        "\n",
        "  # Set model in evaluation mode\n",
        "  model.eval()\n",
        "\n",
        "  print(\"############Evaluate############\")\n",
        "\n",
        "  loss_of_epoch = 0\n",
        "\n",
        "  for batch_idx,batch in enumerate(val_loader):\n",
        "\n",
        "    with torch.no_grad():\n",
        "\n",
        "      input_ids = batch['input_ids'].to(device)\n",
        "      attention_mask = batch['attention_mask'].to(device)\n",
        "      start_positions = batch['start_positions'].to(device)\n",
        "      end_positions = batch['end_positions'].to(device)\n",
        "\n",
        "      outputs = model(input_ids, attention_mask=attention_mask, start_positions=start_positions, end_positions=end_positions)\n",
        "      loss = outputs[0]\n",
        "      # Find the total loss\n",
        "      loss_of_epoch += loss.item()\n",
        "\n",
        "    if (batch_idx+1) % print_every == 0:\n",
        "       print(\"Batch {:} / {:}\".format(batch_idx+1,len(val_loader)),\"\\nLoss:\", round(loss.item(),1),\"\\n\")\n",
        "\n",
        "  loss_of_epoch /= len(val_loader)\n",
        "  val_losses.append(loss_of_epoch)\n",
        "\n",
        "  # Print each epoch's time and train/val loss\n",
        "  print(\"\\n-------Epoch \", epoch+1,\n",
        "        \"-------\"\n",
        "        \"\\nTraining Loss:\", train_losses[-1],\n",
        "        \"\\nValidation Loss:\", val_losses[-1],\n",
        "        \"\\nTime: \",(time.time() - epoch_time),\n",
        "        \"\\n-----------------------\",\n",
        "        \"\\n\\n\")\n",
        "\n",
        "print(\"Total training and evaluation time: \", (time.time() - whole_train_eval_time))"
      ],
      "execution_count": null,
      "outputs": []
    },
    {
      "cell_type": "code",
      "metadata": {
        "id": "-p_ZgHMgR9Vq"
      },
      "source": [
        "# Save model\n",
        "torch.save(model,\"/content/drive/MyDrive/finetunedmodel\")"
      ],
      "execution_count": null,
      "outputs": []
    },
    {
      "cell_type": "markdown",
      "metadata": {
        "id": "41ZatksYHP_p"
      },
      "source": [
        "## ***Step 12:*** Plot train and validation losses"
      ]
    },
    {
      "cell_type": "code",
      "metadata": {
        "id": "Daxw8aQMHPTV"
      },
      "source": [
        "import matplotlib.pyplot as plt\n",
        "\n",
        "fig,ax = plt.subplots(1,1,figsize=(15,10))\n",
        "\n",
        "ax.set_title(\"Train and Validation Losses\",size=20)\n",
        "ax.set_ylabel('Loss', fontsize = 20)\n",
        "ax.set_xlabel('Epochs', fontsize = 25)\n",
        "_=ax.plot(train_losses)\n",
        "_=ax.plot(val_losses)\n",
        "_=ax.legend(('Train','Val'),loc='upper right')"
      ],
      "execution_count": null,
      "outputs": []
    },
    {
      "cell_type": "markdown",
      "metadata": {
        "id": "9hlIsecifzBf"
      },
      "source": [
        "Evaluate"
      ]
    },
    {
      "cell_type": "code",
      "source": [
        "tokenizer = AutoTokenizer.from_pretrained('bert-base-multilingual-uncased')\n",
        "\n",
        "# Load the fine-tuned modeol\n",
        "model = torch.load(\"/content/drive/MyDrive/finetunedmodel\",map_location=torch.device('cpu'))\n",
        "model.eval()"
      ],
      "metadata": {
        "id": "JPcSRbTtt1B_"
      },
      "execution_count": null,
      "outputs": []
    },
    {
      "cell_type": "code",
      "source": [
        "def predict(context,query):\n",
        "\n",
        "  inputs = tokenizer.encode_plus(query, context, return_tensors='pt')\n",
        "\n",
        "  outputs = model(**inputs)\n",
        "  answer_start = torch.argmax(outputs[0])  # get the most likely beginning of answer with the argmax of the score\n",
        "  answer_end = torch.argmax(outputs[1]) + 1\n",
        "\n",
        "  answer = tokenizer.convert_tokens_to_string(tokenizer.convert_ids_to_tokens(inputs['input_ids'][0][answer_start:answer_end]))\n",
        "\n",
        "  return answer\n",
        "\n",
        "def normalize_text(s):\n",
        "  \"\"\"Removing articles and punctuation, and standardizing whitespace are all typical text processing steps.\"\"\"\n",
        "  import string, re\n",
        "\n",
        "  def remove_articles(text):\n",
        "    regex = re.compile(r\"\\b(a|an|the)\\b\", re.UNICODE)\n",
        "    return re.sub(regex, \" \", text)\n",
        "\n",
        "  def white_space_fix(text):\n",
        "    return \" \".join(text.split())\n",
        "\n",
        "  def remove_punc(text):\n",
        "    exclude = set(string.punctuation)\n",
        "    return \"\".join(ch for ch in text if ch not in exclude)\n",
        "\n",
        "  def lower(text):\n",
        "    return text.lower()\n",
        "\n",
        "  return white_space_fix(remove_articles(remove_punc(lower(s))))\n",
        "\n",
        "def compute_exact_match(prediction, truth):\n",
        "    return int(normalize_text(prediction) == normalize_text(truth))\n",
        "\n",
        "def compute_f1(prediction, truth):\n",
        "  pred_tokens = normalize_text(prediction).split()\n",
        "  truth_tokens = normalize_text(truth).split()\n",
        "\n",
        "  # if either the prediction or the truth is no-answer then f1 = 1 if they agree, 0 otherwise\n",
        "  if len(pred_tokens) == 0 or len(truth_tokens) == 0:\n",
        "    return int(pred_tokens == truth_tokens)\n",
        "\n",
        "  common_tokens = set(pred_tokens) & set(truth_tokens)\n",
        "\n",
        "  # if there are no common tokens then f1 = 0\n",
        "  if len(common_tokens) == 0:\n",
        "    return 0\n",
        "\n",
        "  prec = len(common_tokens) / len(pred_tokens)\n",
        "  rec = len(common_tokens) / len(truth_tokens)\n",
        "\n",
        "  return 2 * (prec * rec) / (prec + rec)\n"
      ],
      "metadata": {
        "id": "X1z25TsDuKl7"
      },
      "execution_count": null,
      "outputs": []
    },
    {
      "cell_type": "code",
      "source": [
        "def give_an_answer(context,query,answer):\n",
        "\n",
        "  prediction = predict(context,query)\n",
        "  em_score = compute_exact_match(prediction, answer)\n",
        "  f1_score = compute_f1(prediction, answer)\n",
        "\n",
        "  print(f\"Question: {query}\")\n",
        "  print(f\"Prediction: {prediction}\")\n",
        "  print(f\"True Answer: {answer}\")\n",
        "  print(f\"EM: {em_score}\")\n",
        "  print(f\"F1: {f1_score}\")\n",
        "  print(\"\\n\")\n"
      ],
      "metadata": {
        "id": "Y7pr9nLoueM5"
      },
      "execution_count": null,
      "outputs": []
    },
    {
      "cell_type": "code",
      "source": [
        "context = [\"có 23 quốc gia không có lực lượng quân đội, bao gồm: Costa Rica, Iceland, Panama, Micronesia, Quần đảo Marshall, và Vatican...\",\n",
        "           \"Lịch sử . Ai Cập bị La Mã chiếm năm 30 TCN , và Alexandria trở thành thủ phủ của tỉnh Ai Cập trong đế quốc La Mã .\",\n",
        "           \"Đoạn trường tân thanh , thường được biết đến đơn giản là Truyện Kiều , là một truyện thơ của thi sĩ Nguyễn Du . Đây được xem là truyện thơ nổi tiếng nhất và xét vào hàng kinh điển trong văn học Việt Nam , tác phẩm được viết bằng chữ Nôm theo thể lục bát , gồm 3254 câu .\",\n",
        "           \"Ngày 3 tháng 10 năm 2018, Nguyễn Phú Trọng được Ban Chấp hành Trung ương Đảng Cộng sản Việt Nam thống nhất giới thiệu Quốc hội bầu làm Chủ tịch nước. Sau khi được Quốc hội Việt Nam khóa 14 bầu làm Chủ tịch nước vào ngày 23 tháng 10 năm 2018, ông là chính khách thứ ba trong lịch sử Đảng Cộng sản Việt Nam nắm giữ cả hai chức vụ đứng đầu Đảng Cộng sản cầm quyền và Nhà nước, sau Hồ Chí Minh và Trường Chinh.\",\n",
        "           \"Đỉnh núi nằm ở phần trung tâm của dãy núi Đại Kavkaz , phía đông nam của núi Elbrus , ngọn núi cao nhất của châu Âu .\"\n",
        "          ]\n",
        "\n",
        "queries = [\"Đất nước nào không có quân đội\",\n",
        "           \"Thành phố nào là thủ phủ của Ai Cập trong đế quốc La Mã\",\n",
        "           \"Truyện Kiều được viết theo thể nào\",\n",
        "           \"chủ tịch nước việt nam là ai\",\n",
        "           \"Núi nào cao nhất châu âu\"\n",
        "          ]\n",
        "answers = [\"Costa Rica, Iceland, Panama, Micronesia, Quần đảo Marshall, và Vatican...\",\n",
        "           \"Alexandria\",\n",
        "           \"theo thể lục bát\",\n",
        "           \"Nguyễn Phú Trọng\",\n",
        "           \"núi Elbrus\"\n",
        "          ]\n",
        "\n",
        "for c,q,a in zip(context,queries,answers):\n",
        "  give_an_answer(c,q,a)"
      ],
      "metadata": {
        "id": "L3CwCIX-ulrm"
      },
      "execution_count": null,
      "outputs": []
    }
  ]
}