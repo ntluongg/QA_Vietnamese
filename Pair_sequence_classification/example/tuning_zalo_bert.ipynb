{
 "cells": [
  {
   "cell_type": "code",
   "execution_count": 1,
   "id": "d9855fd5-73c4-4ccf-b39f-29290e36abaf",
   "metadata": {},
   "outputs": [],
   "source": [
    "from transformers import BertTokenizer\n",
    "from transformers import BertConfig\n",
    "from train_bert import *\n",
    "from BERT_model import *"
   ]
  },
  {
   "cell_type": "code",
   "execution_count": 2,
   "id": "f236f4b3-5360-40d4-9818-3f65f6a19603",
   "metadata": {},
   "outputs": [
    {
     "name": "stderr",
     "output_type": "stream",
     "text": [
      "\u001b[34m\u001b[1mwandb\u001b[0m: Currently logged in as: \u001b[33mntluong\u001b[0m. Use \u001b[1m`wandb login --relogin`\u001b[0m to force relogin\n",
      "\u001b[34m\u001b[1mwandb\u001b[0m: \u001b[33mWARNING\u001b[0m If you're specifying your api key in code, ensure this code is not shared publicly.\n",
      "\u001b[34m\u001b[1mwandb\u001b[0m: \u001b[33mWARNING\u001b[0m Consider setting the WANDB_API_KEY environment variable, or running `wandb login` from the command line.\n",
      "\u001b[34m\u001b[1mwandb\u001b[0m: Appending key for api.wandb.ai to your netrc file: C:\\Users\\ADMIN/.netrc\n"
     ]
    },
    {
     "data": {
      "text/plain": [
       "True"
      ]
     },
     "execution_count": 2,
     "metadata": {},
     "output_type": "execute_result"
    }
   ],
   "source": [
    "import wandb\n",
    "wandb.login(key = \"e4b97c6dcdac05b469bd619b1094adee24c24700\")"
   ]
  },
  {
   "cell_type": "code",
   "execution_count": 3,
   "id": "5de97a54-47ff-43f2-9363-9dd775d1c6b8",
   "metadata": {},
   "outputs": [
    {
     "data": {
      "text/html": [
       "Tracking run with wandb version 0.16.1"
      ],
      "text/plain": [
       "<IPython.core.display.HTML object>"
      ]
     },
     "metadata": {},
     "output_type": "display_data"
    },
    {
     "data": {
      "text/html": [
       "Run data is saved locally in <code>C:\\Users\\ADMIN\\Documents\\QA_Vietnamese\\train\\model\\wandb\\run-20231222_091326-its4bmba</code>"
      ],
      "text/plain": [
       "<IPython.core.display.HTML object>"
      ]
     },
     "metadata": {},
     "output_type": "display_data"
    },
    {
     "data": {
      "text/html": [
       "Syncing run <strong><a href='https://wandb.ai/ntluong/Bert_zalo/runs/its4bmba' target=\"_blank\">copper-frog-6</a></strong> to <a href='https://wandb.ai/ntluong/Bert_zalo' target=\"_blank\">Weights & Biases</a> (<a href='https://wandb.me/run' target=\"_blank\">docs</a>)<br/>"
      ],
      "text/plain": [
       "<IPython.core.display.HTML object>"
      ]
     },
     "metadata": {},
     "output_type": "display_data"
    },
    {
     "data": {
      "text/html": [
       " View project at <a href='https://wandb.ai/ntluong/Bert_zalo' target=\"_blank\">https://wandb.ai/ntluong/Bert_zalo</a>"
      ],
      "text/plain": [
       "<IPython.core.display.HTML object>"
      ]
     },
     "metadata": {},
     "output_type": "display_data"
    },
    {
     "data": {
      "text/html": [
       " View run at <a href='https://wandb.ai/ntluong/Bert_zalo/runs/its4bmba' target=\"_blank\">https://wandb.ai/ntluong/Bert_zalo/runs/its4bmba</a>"
      ],
      "text/plain": [
       "<IPython.core.display.HTML object>"
      ]
     },
     "metadata": {},
     "output_type": "display_data"
    },
    {
     "data": {
      "text/html": [
       "<button onClick=\"this.nextSibling.style.display='block';this.style.display='none';\">Display W&B run</button><iframe src='https://wandb.ai/ntluong/Bert_zalo/runs/its4bmba?jupyter=true' style='border:none;width:100%;height:420px;display:none;'></iframe>"
      ],
      "text/plain": [
       "<wandb.sdk.wandb_run.Run at 0x1cb3046abd0>"
      ]
     },
     "execution_count": 3,
     "metadata": {},
     "output_type": "execute_result"
    }
   ],
   "source": [
    "wandb.init(\n",
    "    project = 'Bert_zalo',\n",
    "    config = {\n",
    "        'learning_rate': 0.00001,\n",
    "        'architecture': 'bert',\n",
    "        'dataset': 'Squadv2 zalo',\n",
    "        'epoch': 50\n",
    "    }\n",
    ")"
   ]
  },
  {
   "cell_type": "code",
   "execution_count": 4,
   "id": "5e5a394c-fa0c-4daf-a4c8-743199608cfb",
   "metadata": {},
   "outputs": [],
   "source": [
    "class Args:\n",
    "    do_lower_case = True\n",
    "    folder_model = 'tune-vn/'\n",
    "\n",
    "    path_input_train_data = \"../dataset/data/train_test_origin_1k_dev.csv\"\n",
    "    path_input_test_data = None\n",
    "    path_input_validation_data = \"../dataset/data/val_origin_1k.csv\"\n",
    "\n",
    "    load_data_from_pt = False\n",
    "    path_pt_train_dataset = \"../dataset/torch_dataset/train_test_origin_1k_dev.pt\"\n",
    "    path_pt_test_dataset = None\n",
    "    path_pt_validation_dataset = \"../dataset/torch_dataset/val_origin_1k.pt\"\n",
    "\n",
    "    path_log_file = \"save_model_zalo/log_file.txt\"\n",
    "    output_dir = \"save_model_zalo/\"\n",
    "\n",
    "    max_seq_length = 400\n",
    "    max_query_length = 64\n",
    "\n",
    "    batch_size = 16\n",
    "\n",
    "    num_labels = 2\n",
    "    weight_class = [1, 1]\n",
    "\n",
    "    learning_rate = 1e-5\n",
    "    gradient_accumulation_steps = 5\n",
    "    weight_decay = 0.0\n",
    "    adam_epsilon = 1e-8\n",
    "    max_grad_norm = 1.0\n",
    "    warmup_steps = 0\n",
    "    use_pooler = True\n",
    "    output_hidden_states = True\n",
    "    # if use_pooler= False (mean concat 4 CLS in 4 last hidden_state BERT)\n",
    "    # you need to set output_hidden_states=True.\n",
    "\n",
    "    num_train_epochs = 20\n",
    "    save_steps = int(2000 / gradient_accumulation_steps)\n",
    "\n",
    "    no_cuda = False\n",
    "    n_gpu = 1\n",
    "    device = \"cuda:0\"\n",
    "    seed = 42"
   ]
  },
  {
   "cell_type": "code",
   "execution_count": 5,
   "id": "27ddfedc-c9ac-48d4-b16e-6bcc1656eba8",
   "metadata": {},
   "outputs": [],
   "source": [
    "def train_model_bert(args):\n",
    "    # need remake config with device option for train with another cuda device\n",
    "    config = BertConfig.from_pretrained(args.folder_model)\n",
    "\n",
    "    config = config.to_dict()\n",
    "    config.update({\"device\": args.device})\n",
    "    config.update({\"use_pooler\": args.use_pooler})\n",
    "    config.update({\"weight_class\": args.weight_class})\n",
    "    config.update({\"output_hidden_states\": args.output_hidden_states})\n",
    "    config = BertConfig.from_dict(config)\n",
    "\n",
    "    tokenizer = BertTokenizer.from_pretrained(args.folder_model)\n",
    "    model = QaBERT.from_pretrained(args.folder_model, config=config)\n",
    "    model = model.to(args.device)\n",
    "    train_squad(args, tokenizer, model)"
   ]
  },
  {
   "cell_type": "code",
   "execution_count": 6,
   "id": "165033ea-763d-4623-84df-f790c5b80ab4",
   "metadata": {},
   "outputs": [
    {
     "name": "stderr",
     "output_type": "stream",
     "text": [
      "Some weights of QaBERT were not initialized from the model checkpoint at tune-vn/ and are newly initialized: ['output_layer.weight', 'bert.pooler.dense.bias', 'output_layer.bias', 'bert.pooler.dense.weight']\n",
      "You should probably TRAIN this model on a down-stream task to be able to use it for predictions and inference.\n"
     ]
    },
    {
     "name": "stdout",
     "output_type": "stream",
     "text": [
      "Load dataset done !!!\n"
     ]
    },
    {
     "name": "stderr",
     "output_type": "stream",
     "text": [
      "C:\\Users\\ADMIN\\AppData\\Roaming\\Python\\Python311\\site-packages\\transformers\\optimization.py:429: FutureWarning: This implementation of AdamW is deprecated and will be removed in a future version. Use the PyTorch implementation torch.optim.AdamW instead, or set `no_deprecation_warning=True` to disable this warning\n",
      "  warnings.warn(\n"
     ]
    },
    {
     "data": {
      "application/vnd.jupyter.widget-view+json": {
       "model_id": "",
       "version_major": 2,
       "version_minor": 0
      },
      "text/plain": [
       "training ...:   0%|          | 0/1063 [00:00<?, ?it/s]"
      ]
     },
     "metadata": {},
     "output_type": "display_data"
    },
    {
     "name": "stderr",
     "output_type": "stream",
     "text": [
      "C:\\Users\\ADMIN\\anaconda3\\envs\\bert_env\\Lib\\site-packages\\torch\\optim\\lr_scheduler.py:261: UserWarning: To get the last learning rate computed by the scheduler, please use `get_last_lr()`.\n",
      "  warnings.warn(\"To get the last learning rate computed by the scheduler, \"\n"
     ]
    },
    {
     "name": "stdout",
     "output_type": "stream",
     "text": [
      "Log write at epoch: 0, step: 213 and lr: 9e-06\n",
      "\n",
      "train result - loss: 0.005, acc: 0.817, f1: 0.681\n",
      "\n",
      "***** Running evaluation\n",
      "  Num examples = %d 1114\n"
     ]
    },
    {
     "data": {
      "application/vnd.jupyter.widget-view+json": {
       "model_id": "",
       "version_major": 2,
       "version_minor": 0
      },
      "text/plain": [
       "Evaluating:   0%|          | 0/70 [00:00<?, ?it/s]"
      ]
     },
     "metadata": {},
     "output_type": "display_data"
    },
    {
     "name": "stdout",
     "output_type": "stream",
     "text": [
      "val result - loss: 0.02, acc: 0.85, f1: 0.776\n",
      "\n",
      "end for logging current step 213 !!!\n"
     ]
    },
    {
     "data": {
      "application/vnd.jupyter.widget-view+json": {
       "model_id": "",
       "version_major": 2,
       "version_minor": 0
      },
      "text/plain": [
       "training ...:   0%|          | 0/1063 [00:00<?, ?it/s]"
      ]
     },
     "metadata": {},
     "output_type": "display_data"
    },
    {
     "name": "stderr",
     "output_type": "stream",
     "text": [
      "C:\\Users\\ADMIN\\anaconda3\\envs\\bert_env\\Lib\\site-packages\\torch\\optim\\lr_scheduler.py:261: UserWarning: To get the last learning rate computed by the scheduler, please use `get_last_lr()`.\n",
      "  warnings.warn(\"To get the last learning rate computed by the scheduler, \"\n"
     ]
    },
    {
     "name": "stdout",
     "output_type": "stream",
     "text": [
      "Log write at epoch: 1, step: 400 and lr: 9e-06\n",
      "\n",
      "train result - loss: 0.003, acc: 0.89, f1: 0.824\n",
      "\n",
      "***** Running evaluation\n",
      "  Num examples = %d 1114\n"
     ]
    },
    {
     "data": {
      "application/vnd.jupyter.widget-view+json": {
       "model_id": "",
       "version_major": 2,
       "version_minor": 0
      },
      "text/plain": [
       "Evaluating:   0%|          | 0/70 [00:00<?, ?it/s]"
      ]
     },
     "metadata": {},
     "output_type": "display_data"
    },
    {
     "name": "stdout",
     "output_type": "stream",
     "text": [
      "val result - loss: 0.018, acc: 0.883, f1: 0.818\n",
      "\n",
      "end for logging current step 400 !!!\n"
     ]
    },
    {
     "name": "stderr",
     "output_type": "stream",
     "text": [
      "C:\\Users\\ADMIN\\anaconda3\\envs\\bert_env\\Lib\\site-packages\\torch\\optim\\lr_scheduler.py:261: UserWarning: To get the last learning rate computed by the scheduler, please use `get_last_lr()`.\n",
      "  warnings.warn(\"To get the last learning rate computed by the scheduler, \"\n"
     ]
    },
    {
     "name": "stdout",
     "output_type": "stream",
     "text": [
      "Log write at epoch: 1, step: 426 and lr: 9e-06\n",
      "\n",
      "train result - loss: 0.003, acc: 0.89, f1: 0.825\n",
      "\n",
      "***** Running evaluation\n",
      "  Num examples = %d 1114\n"
     ]
    },
    {
     "data": {
      "application/vnd.jupyter.widget-view+json": {
       "model_id": "",
       "version_major": 2,
       "version_minor": 0
      },
      "text/plain": [
       "Evaluating:   0%|          | 0/70 [00:00<?, ?it/s]"
      ]
     },
     "metadata": {},
     "output_type": "display_data"
    },
    {
     "name": "stdout",
     "output_type": "stream",
     "text": [
      "val result - loss: 0.018, acc: 0.886, f1: 0.819\n",
      "\n",
      "end for logging current step 426 !!!\n"
     ]
    },
    {
     "data": {
      "application/vnd.jupyter.widget-view+json": {
       "model_id": "",
       "version_major": 2,
       "version_minor": 0
      },
      "text/plain": [
       "training ...:   0%|          | 0/1063 [00:00<?, ?it/s]"
      ]
     },
     "metadata": {},
     "output_type": "display_data"
    },
    {
     "name": "stderr",
     "output_type": "stream",
     "text": [
      "C:\\Users\\ADMIN\\anaconda3\\envs\\bert_env\\Lib\\site-packages\\torch\\optim\\lr_scheduler.py:261: UserWarning: To get the last learning rate computed by the scheduler, please use `get_last_lr()`.\n",
      "  warnings.warn(\"To get the last learning rate computed by the scheduler, \"\n"
     ]
    },
    {
     "name": "stdout",
     "output_type": "stream",
     "text": [
      "Log write at epoch: 2, step: 639 and lr: 8e-06\n",
      "\n",
      "train result - loss: 0.003, acc: 0.923, f1: 0.877\n",
      "\n",
      "***** Running evaluation\n",
      "  Num examples = %d 1114\n"
     ]
    },
    {
     "data": {
      "application/vnd.jupyter.widget-view+json": {
       "model_id": "",
       "version_major": 2,
       "version_minor": 0
      },
      "text/plain": [
       "Evaluating:   0%|          | 0/70 [00:00<?, ?it/s]"
      ]
     },
     "metadata": {},
     "output_type": "display_data"
    },
    {
     "name": "stdout",
     "output_type": "stream",
     "text": [
      "val result - loss: 0.019, acc: 0.888, f1: 0.822\n",
      "\n",
      "end for logging current step 639 !!!\n"
     ]
    },
    {
     "data": {
      "application/vnd.jupyter.widget-view+json": {
       "model_id": "",
       "version_major": 2,
       "version_minor": 0
      },
      "text/plain": [
       "training ...:   0%|          | 0/1063 [00:00<?, ?it/s]"
      ]
     },
     "metadata": {},
     "output_type": "display_data"
    },
    {
     "name": "stderr",
     "output_type": "stream",
     "text": [
      "C:\\Users\\ADMIN\\anaconda3\\envs\\bert_env\\Lib\\site-packages\\torch\\optim\\lr_scheduler.py:261: UserWarning: To get the last learning rate computed by the scheduler, please use `get_last_lr()`.\n",
      "  warnings.warn(\"To get the last learning rate computed by the scheduler, \"\n"
     ]
    },
    {
     "name": "stdout",
     "output_type": "stream",
     "text": [
      "Log write at epoch: 3, step: 800 and lr: 8e-06\n",
      "\n",
      "train result - loss: 0.001, acc: 0.946, f1: 0.916\n",
      "\n",
      "***** Running evaluation\n",
      "  Num examples = %d 1114\n"
     ]
    },
    {
     "data": {
      "application/vnd.jupyter.widget-view+json": {
       "model_id": "",
       "version_major": 2,
       "version_minor": 0
      },
      "text/plain": [
       "Evaluating:   0%|          | 0/70 [00:00<?, ?it/s]"
      ]
     },
     "metadata": {},
     "output_type": "display_data"
    },
    {
     "name": "stdout",
     "output_type": "stream",
     "text": [
      "val result - loss: 0.021, acc: 0.887, f1: 0.825\n",
      "\n",
      "end for logging current step 800 !!!\n"
     ]
    },
    {
     "name": "stderr",
     "output_type": "stream",
     "text": [
      "C:\\Users\\ADMIN\\anaconda3\\envs\\bert_env\\Lib\\site-packages\\torch\\optim\\lr_scheduler.py:261: UserWarning: To get the last learning rate computed by the scheduler, please use `get_last_lr()`.\n",
      "  warnings.warn(\"To get the last learning rate computed by the scheduler, \"\n"
     ]
    },
    {
     "name": "stdout",
     "output_type": "stream",
     "text": [
      "Log write at epoch: 3, step: 852 and lr: 8e-06\n",
      "\n",
      "train result - loss: 0.002, acc: 0.945, f1: 0.913\n",
      "\n",
      "***** Running evaluation\n",
      "  Num examples = %d 1114\n"
     ]
    },
    {
     "data": {
      "application/vnd.jupyter.widget-view+json": {
       "model_id": "",
       "version_major": 2,
       "version_minor": 0
      },
      "text/plain": [
       "Evaluating:   0%|          | 0/70 [00:00<?, ?it/s]"
      ]
     },
     "metadata": {},
     "output_type": "display_data"
    },
    {
     "name": "stdout",
     "output_type": "stream",
     "text": [
      "val result - loss: 0.02, acc: 0.89, f1: 0.826\n",
      "\n",
      "end for logging current step 852 !!!\n"
     ]
    },
    {
     "data": {
      "application/vnd.jupyter.widget-view+json": {
       "model_id": "",
       "version_major": 2,
       "version_minor": 0
      },
      "text/plain": [
       "training ...:   0%|          | 0/1063 [00:00<?, ?it/s]"
      ]
     },
     "metadata": {},
     "output_type": "display_data"
    },
    {
     "name": "stderr",
     "output_type": "stream",
     "text": [
      "C:\\Users\\ADMIN\\anaconda3\\envs\\bert_env\\Lib\\site-packages\\torch\\optim\\lr_scheduler.py:261: UserWarning: To get the last learning rate computed by the scheduler, please use `get_last_lr()`.\n",
      "  warnings.warn(\"To get the last learning rate computed by the scheduler, \"\n"
     ]
    },
    {
     "name": "stdout",
     "output_type": "stream",
     "text": [
      "Log write at epoch: 4, step: 1065 and lr: 7e-06\n",
      "\n",
      "train result - loss: 0.001, acc: 0.959, f1: 0.936\n",
      "\n",
      "***** Running evaluation\n",
      "  Num examples = %d 1114\n"
     ]
    },
    {
     "data": {
      "application/vnd.jupyter.widget-view+json": {
       "model_id": "",
       "version_major": 2,
       "version_minor": 0
      },
      "text/plain": [
       "Evaluating:   0%|          | 0/70 [00:00<?, ?it/s]"
      ]
     },
     "metadata": {},
     "output_type": "display_data"
    },
    {
     "name": "stdout",
     "output_type": "stream",
     "text": [
      "val result - loss: 0.023, acc: 0.886, f1: 0.819\n",
      "\n",
      "end for logging current step 1065 !!!\n"
     ]
    },
    {
     "data": {
      "application/vnd.jupyter.widget-view+json": {
       "model_id": "",
       "version_major": 2,
       "version_minor": 0
      },
      "text/plain": [
       "training ...:   0%|          | 0/1063 [00:00<?, ?it/s]"
      ]
     },
     "metadata": {},
     "output_type": "display_data"
    },
    {
     "name": "stderr",
     "output_type": "stream",
     "text": [
      "C:\\Users\\ADMIN\\anaconda3\\envs\\bert_env\\Lib\\site-packages\\torch\\optim\\lr_scheduler.py:261: UserWarning: To get the last learning rate computed by the scheduler, please use `get_last_lr()`.\n",
      "  warnings.warn(\"To get the last learning rate computed by the scheduler, \"\n"
     ]
    },
    {
     "name": "stdout",
     "output_type": "stream",
     "text": [
      "Log write at epoch: 5, step: 1200 and lr: 7e-06\n",
      "\n",
      "train result - loss: 0.001, acc: 0.971, f1: 0.953\n",
      "\n",
      "***** Running evaluation\n",
      "  Num examples = %d 1114\n"
     ]
    },
    {
     "data": {
      "application/vnd.jupyter.widget-view+json": {
       "model_id": "",
       "version_major": 2,
       "version_minor": 0
      },
      "text/plain": [
       "Evaluating:   0%|          | 0/70 [00:00<?, ?it/s]"
      ]
     },
     "metadata": {},
     "output_type": "display_data"
    },
    {
     "name": "stdout",
     "output_type": "stream",
     "text": [
      "val result - loss: 0.026, acc: 0.896, f1: 0.833\n",
      "\n",
      "end for logging current step 1200 !!!\n"
     ]
    },
    {
     "name": "stderr",
     "output_type": "stream",
     "text": [
      "C:\\Users\\ADMIN\\anaconda3\\envs\\bert_env\\Lib\\site-packages\\torch\\optim\\lr_scheduler.py:261: UserWarning: To get the last learning rate computed by the scheduler, please use `get_last_lr()`.\n",
      "  warnings.warn(\"To get the last learning rate computed by the scheduler, \"\n"
     ]
    },
    {
     "name": "stdout",
     "output_type": "stream",
     "text": [
      "Log write at epoch: 5, step: 1278 and lr: 7e-06\n",
      "\n",
      "train result - loss: 0.001, acc: 0.97, f1: 0.953\n",
      "\n",
      "***** Running evaluation\n",
      "  Num examples = %d 1114\n"
     ]
    },
    {
     "data": {
      "application/vnd.jupyter.widget-view+json": {
       "model_id": "",
       "version_major": 2,
       "version_minor": 0
      },
      "text/plain": [
       "Evaluating:   0%|          | 0/70 [00:00<?, ?it/s]"
      ]
     },
     "metadata": {},
     "output_type": "display_data"
    },
    {
     "name": "stdout",
     "output_type": "stream",
     "text": [
      "val result - loss: 0.025, acc: 0.892, f1: 0.831\n",
      "\n",
      "end for logging current step 1278 !!!\n"
     ]
    },
    {
     "data": {
      "application/vnd.jupyter.widget-view+json": {
       "model_id": "",
       "version_major": 2,
       "version_minor": 0
      },
      "text/plain": [
       "training ...:   0%|          | 0/1063 [00:00<?, ?it/s]"
      ]
     },
     "metadata": {},
     "output_type": "display_data"
    },
    {
     "name": "stderr",
     "output_type": "stream",
     "text": [
      "C:\\Users\\ADMIN\\anaconda3\\envs\\bert_env\\Lib\\site-packages\\torch\\optim\\lr_scheduler.py:261: UserWarning: To get the last learning rate computed by the scheduler, please use `get_last_lr()`.\n",
      "  warnings.warn(\"To get the last learning rate computed by the scheduler, \"\n"
     ]
    },
    {
     "name": "stdout",
     "output_type": "stream",
     "text": [
      "Log write at epoch: 6, step: 1491 and lr: 6e-06\n",
      "\n",
      "train result - loss: 0.001, acc: 0.978, f1: 0.966\n",
      "\n",
      "***** Running evaluation\n",
      "  Num examples = %d 1114\n"
     ]
    },
    {
     "data": {
      "application/vnd.jupyter.widget-view+json": {
       "model_id": "",
       "version_major": 2,
       "version_minor": 0
      },
      "text/plain": [
       "Evaluating:   0%|          | 0/70 [00:00<?, ?it/s]"
      ]
     },
     "metadata": {},
     "output_type": "display_data"
    },
    {
     "name": "stdout",
     "output_type": "stream",
     "text": [
      "val result - loss: 0.027, acc: 0.891, f1: 0.823\n",
      "\n",
      "end for logging current step 1491 !!!\n"
     ]
    },
    {
     "data": {
      "application/vnd.jupyter.widget-view+json": {
       "model_id": "92c93c683fe344408c6ced7db905dc36",
       "version_major": 2,
       "version_minor": 0
      },
      "text/plain": [
       "training ...:   0%|          | 0/1063 [00:00<?, ?it/s]"
      ]
     },
     "metadata": {},
     "output_type": "display_data"
    },
    {
     "name": "stderr",
     "output_type": "stream",
     "text": [
      "C:\\Users\\ADMIN\\anaconda3\\envs\\bert_env\\Lib\\site-packages\\torch\\optim\\lr_scheduler.py:261: UserWarning: To get the last learning rate computed by the scheduler, please use `get_last_lr()`.\n",
      "  warnings.warn(\"To get the last learning rate computed by the scheduler, \"\n"
     ]
    },
    {
     "name": "stdout",
     "output_type": "stream",
     "text": [
      "Log write at epoch: 7, step: 1600 and lr: 6e-06\n",
      "\n",
      "train result - loss: 0.0, acc: 0.984, f1: 0.974\n",
      "\n",
      "***** Running evaluation\n",
      "  Num examples = %d 1114\n"
     ]
    },
    {
     "data": {
      "application/vnd.jupyter.widget-view+json": {
       "model_id": "f374f1f1693840ef92fe09932bfc520b",
       "version_major": 2,
       "version_minor": 0
      },
      "text/plain": [
       "Evaluating:   0%|          | 0/70 [00:00<?, ?it/s]"
      ]
     },
     "metadata": {},
     "output_type": "display_data"
    },
    {
     "name": "stdout",
     "output_type": "stream",
     "text": [
      "val result - loss: 0.03, acc: 0.891, f1: 0.827\n",
      "\n",
      "end for logging current step 1600 !!!\n"
     ]
    },
    {
     "name": "stderr",
     "output_type": "stream",
     "text": [
      "C:\\Users\\ADMIN\\anaconda3\\envs\\bert_env\\Lib\\site-packages\\torch\\optim\\lr_scheduler.py:261: UserWarning: To get the last learning rate computed by the scheduler, please use `get_last_lr()`.\n",
      "  warnings.warn(\"To get the last learning rate computed by the scheduler, \"\n"
     ]
    },
    {
     "name": "stdout",
     "output_type": "stream",
     "text": [
      "Log write at epoch: 7, step: 1704 and lr: 6e-06\n",
      "\n",
      "train result - loss: 0.001, acc: 0.981, f1: 0.97\n",
      "\n",
      "***** Running evaluation\n",
      "  Num examples = %d 1114\n"
     ]
    },
    {
     "data": {
      "application/vnd.jupyter.widget-view+json": {
       "model_id": "9caa063485604950b7bd5bcbd73342c9",
       "version_major": 2,
       "version_minor": 0
      },
      "text/plain": [
       "Evaluating:   0%|          | 0/70 [00:00<?, ?it/s]"
      ]
     },
     "metadata": {},
     "output_type": "display_data"
    },
    {
     "name": "stdout",
     "output_type": "stream",
     "text": [
      "val result - loss: 0.028, acc: 0.898, f1: 0.839\n",
      "\n",
      "end for logging current step 1704 !!!\n"
     ]
    },
    {
     "data": {
      "application/vnd.jupyter.widget-view+json": {
       "model_id": "b7a7d1863a544ce0b33dd1cef7009f7b",
       "version_major": 2,
       "version_minor": 0
      },
      "text/plain": [
       "training ...:   0%|          | 0/1063 [00:00<?, ?it/s]"
      ]
     },
     "metadata": {},
     "output_type": "display_data"
    },
    {
     "name": "stderr",
     "output_type": "stream",
     "text": [
      "C:\\Users\\ADMIN\\anaconda3\\envs\\bert_env\\Lib\\site-packages\\torch\\optim\\lr_scheduler.py:261: UserWarning: To get the last learning rate computed by the scheduler, please use `get_last_lr()`.\n",
      "  warnings.warn(\"To get the last learning rate computed by the scheduler, \"\n"
     ]
    },
    {
     "name": "stdout",
     "output_type": "stream",
     "text": [
      "Log write at epoch: 8, step: 1917 and lr: 5e-06\n",
      "\n",
      "train result - loss: 0.001, acc: 0.985, f1: 0.976\n",
      "\n",
      "***** Running evaluation\n",
      "  Num examples = %d 1114\n"
     ]
    },
    {
     "data": {
      "application/vnd.jupyter.widget-view+json": {
       "model_id": "2ac39e0362da499f88b1f949ce5ae966",
       "version_major": 2,
       "version_minor": 0
      },
      "text/plain": [
       "Evaluating:   0%|          | 0/70 [00:00<?, ?it/s]"
      ]
     },
     "metadata": {},
     "output_type": "display_data"
    },
    {
     "name": "stdout",
     "output_type": "stream",
     "text": [
      "val result - loss: 0.03, acc: 0.896, f1: 0.835\n",
      "\n",
      "end for logging current step 1917 !!!\n"
     ]
    },
    {
     "data": {
      "application/vnd.jupyter.widget-view+json": {
       "model_id": "18810c3ae25f44dfb2631b5516d20db4",
       "version_major": 2,
       "version_minor": 0
      },
      "text/plain": [
       "training ...:   0%|          | 0/1063 [00:00<?, ?it/s]"
      ]
     },
     "metadata": {},
     "output_type": "display_data"
    },
    {
     "name": "stderr",
     "output_type": "stream",
     "text": [
      "C:\\Users\\ADMIN\\anaconda3\\envs\\bert_env\\Lib\\site-packages\\torch\\optim\\lr_scheduler.py:261: UserWarning: To get the last learning rate computed by the scheduler, please use `get_last_lr()`.\n",
      "  warnings.warn(\"To get the last learning rate computed by the scheduler, \"\n"
     ]
    },
    {
     "name": "stdout",
     "output_type": "stream",
     "text": [
      "Log write at epoch: 9, step: 2000 and lr: 5e-06\n",
      "\n",
      "train result - loss: 0.0, acc: 0.989, f1: 0.983\n",
      "\n",
      "***** Running evaluation\n",
      "  Num examples = %d 1114\n"
     ]
    },
    {
     "data": {
      "application/vnd.jupyter.widget-view+json": {
       "model_id": "b7bd09ad123b4dd5afcd97b80ca6327a",
       "version_major": 2,
       "version_minor": 0
      },
      "text/plain": [
       "Evaluating:   0%|          | 0/70 [00:00<?, ?it/s]"
      ]
     },
     "metadata": {},
     "output_type": "display_data"
    },
    {
     "name": "stdout",
     "output_type": "stream",
     "text": [
      "val result - loss: 0.032, acc: 0.897, f1: 0.835\n",
      "\n",
      "end for logging current step 2000 !!!\n"
     ]
    },
    {
     "name": "stderr",
     "output_type": "stream",
     "text": [
      "C:\\Users\\ADMIN\\anaconda3\\envs\\bert_env\\Lib\\site-packages\\torch\\optim\\lr_scheduler.py:261: UserWarning: To get the last learning rate computed by the scheduler, please use `get_last_lr()`.\n",
      "  warnings.warn(\"To get the last learning rate computed by the scheduler, \"\n"
     ]
    },
    {
     "name": "stdout",
     "output_type": "stream",
     "text": [
      "Log write at epoch: 9, step: 2130 and lr: 5e-06\n",
      "\n",
      "train result - loss: 0.0, acc: 0.988, f1: 0.981\n",
      "\n",
      "***** Running evaluation\n",
      "  Num examples = %d 1114\n"
     ]
    },
    {
     "data": {
      "application/vnd.jupyter.widget-view+json": {
       "model_id": "2f534ec2afd5416790ea26fd957169ed",
       "version_major": 2,
       "version_minor": 0
      },
      "text/plain": [
       "Evaluating:   0%|          | 0/70 [00:00<?, ?it/s]"
      ]
     },
     "metadata": {},
     "output_type": "display_data"
    },
    {
     "name": "stdout",
     "output_type": "stream",
     "text": [
      "val result - loss: 0.034, acc: 0.899, f1: 0.837\n",
      "\n",
      "end for logging current step 2130 !!!\n"
     ]
    },
    {
     "data": {
      "application/vnd.jupyter.widget-view+json": {
       "model_id": "c530e74ab11241ba83ee5d0a8a7259e6",
       "version_major": 2,
       "version_minor": 0
      },
      "text/plain": [
       "training ...:   0%|          | 0/1063 [00:00<?, ?it/s]"
      ]
     },
     "metadata": {},
     "output_type": "display_data"
    },
    {
     "name": "stderr",
     "output_type": "stream",
     "text": [
      "C:\\Users\\ADMIN\\anaconda3\\envs\\bert_env\\Lib\\site-packages\\torch\\optim\\lr_scheduler.py:261: UserWarning: To get the last learning rate computed by the scheduler, please use `get_last_lr()`.\n",
      "  warnings.warn(\"To get the last learning rate computed by the scheduler, \"\n"
     ]
    },
    {
     "name": "stdout",
     "output_type": "stream",
     "text": [
      "Log write at epoch: 10, step: 2343 and lr: 4e-06\n",
      "\n",
      "train result - loss: 0.0, acc: 0.988, f1: 0.982\n",
      "\n",
      "***** Running evaluation\n",
      "  Num examples = %d 1114\n"
     ]
    },
    {
     "data": {
      "application/vnd.jupyter.widget-view+json": {
       "model_id": "74067125297a4f2ebfdb55ba33144a97",
       "version_major": 2,
       "version_minor": 0
      },
      "text/plain": [
       "Evaluating:   0%|          | 0/70 [00:00<?, ?it/s]"
      ]
     },
     "metadata": {},
     "output_type": "display_data"
    },
    {
     "name": "stdout",
     "output_type": "stream",
     "text": [
      "val result - loss: 0.034, acc: 0.903, f1: 0.846\n",
      "\n",
      "end for logging current step 2343 !!!\n"
     ]
    },
    {
     "data": {
      "application/vnd.jupyter.widget-view+json": {
       "model_id": "9ea0ec7293f143a3a9792ee77bf6f9a0",
       "version_major": 2,
       "version_minor": 0
      },
      "text/plain": [
       "training ...:   0%|          | 0/1063 [00:00<?, ?it/s]"
      ]
     },
     "metadata": {},
     "output_type": "display_data"
    },
    {
     "name": "stderr",
     "output_type": "stream",
     "text": [
      "C:\\Users\\ADMIN\\anaconda3\\envs\\bert_env\\Lib\\site-packages\\torch\\optim\\lr_scheduler.py:261: UserWarning: To get the last learning rate computed by the scheduler, please use `get_last_lr()`.\n",
      "  warnings.warn(\"To get the last learning rate computed by the scheduler, \"\n"
     ]
    },
    {
     "name": "stdout",
     "output_type": "stream",
     "text": [
      "Log write at epoch: 11, step: 2400 and lr: 4e-06\n",
      "\n",
      "train result - loss: 0.0, acc: 0.992, f1: 0.988\n",
      "\n",
      "***** Running evaluation\n",
      "  Num examples = %d 1114\n"
     ]
    },
    {
     "data": {
      "application/vnd.jupyter.widget-view+json": {
       "model_id": "bbde36838b8e4a78be669a5197c2b859",
       "version_major": 2,
       "version_minor": 0
      },
      "text/plain": [
       "Evaluating:   0%|          | 0/70 [00:00<?, ?it/s]"
      ]
     },
     "metadata": {},
     "output_type": "display_data"
    },
    {
     "name": "stdout",
     "output_type": "stream",
     "text": [
      "val result - loss: 0.033, acc: 0.901, f1: 0.841\n",
      "\n",
      "end for logging current step 2400 !!!\n"
     ]
    },
    {
     "name": "stderr",
     "output_type": "stream",
     "text": [
      "C:\\Users\\ADMIN\\anaconda3\\envs\\bert_env\\Lib\\site-packages\\torch\\optim\\lr_scheduler.py:261: UserWarning: To get the last learning rate computed by the scheduler, please use `get_last_lr()`.\n",
      "  warnings.warn(\"To get the last learning rate computed by the scheduler, \"\n"
     ]
    },
    {
     "name": "stdout",
     "output_type": "stream",
     "text": [
      "Log write at epoch: 11, step: 2556 and lr: 4e-06\n",
      "\n",
      "train result - loss: 0.0, acc: 0.991, f1: 0.986\n",
      "\n",
      "***** Running evaluation\n",
      "  Num examples = %d 1114\n"
     ]
    },
    {
     "data": {
      "application/vnd.jupyter.widget-view+json": {
       "model_id": "b5b3128d52264c62addebb7f4793fd92",
       "version_major": 2,
       "version_minor": 0
      },
      "text/plain": [
       "Evaluating:   0%|          | 0/70 [00:00<?, ?it/s]"
      ]
     },
     "metadata": {},
     "output_type": "display_data"
    },
    {
     "name": "stdout",
     "output_type": "stream",
     "text": [
      "val result - loss: 0.034, acc: 0.9, f1: 0.844\n",
      "\n",
      "end for logging current step 2556 !!!\n"
     ]
    },
    {
     "data": {
      "application/vnd.jupyter.widget-view+json": {
       "model_id": "5fb04f9e1fd9495897605c0d7865cd02",
       "version_major": 2,
       "version_minor": 0
      },
      "text/plain": [
       "training ...:   0%|          | 0/1063 [00:00<?, ?it/s]"
      ]
     },
     "metadata": {},
     "output_type": "display_data"
    },
    {
     "name": "stderr",
     "output_type": "stream",
     "text": [
      "C:\\Users\\ADMIN\\anaconda3\\envs\\bert_env\\Lib\\site-packages\\torch\\optim\\lr_scheduler.py:261: UserWarning: To get the last learning rate computed by the scheduler, please use `get_last_lr()`.\n",
      "  warnings.warn(\"To get the last learning rate computed by the scheduler, \"\n"
     ]
    },
    {
     "name": "stdout",
     "output_type": "stream",
     "text": [
      "Log write at epoch: 12, step: 2769 and lr: 3e-06\n",
      "\n",
      "train result - loss: 0.0, acc: 0.992, f1: 0.987\n",
      "\n",
      "***** Running evaluation\n",
      "  Num examples = %d 1114\n"
     ]
    },
    {
     "data": {
      "application/vnd.jupyter.widget-view+json": {
       "model_id": "4104199bb17e442997d71c47c22e9f24",
       "version_major": 2,
       "version_minor": 0
      },
      "text/plain": [
       "Evaluating:   0%|          | 0/70 [00:00<?, ?it/s]"
      ]
     },
     "metadata": {},
     "output_type": "display_data"
    },
    {
     "name": "stdout",
     "output_type": "stream",
     "text": [
      "val result - loss: 0.036, acc: 0.899, f1: 0.835\n",
      "\n",
      "end for logging current step 2769 !!!\n"
     ]
    },
    {
     "data": {
      "application/vnd.jupyter.widget-view+json": {
       "model_id": "738f92ffdf7b4dcfa9a384025c992d5b",
       "version_major": 2,
       "version_minor": 0
      },
      "text/plain": [
       "training ...:   0%|          | 0/1063 [00:00<?, ?it/s]"
      ]
     },
     "metadata": {},
     "output_type": "display_data"
    },
    {
     "name": "stderr",
     "output_type": "stream",
     "text": [
      "C:\\Users\\ADMIN\\anaconda3\\envs\\bert_env\\Lib\\site-packages\\torch\\optim\\lr_scheduler.py:261: UserWarning: To get the last learning rate computed by the scheduler, please use `get_last_lr()`.\n",
      "  warnings.warn(\"To get the last learning rate computed by the scheduler, \"\n"
     ]
    },
    {
     "name": "stdout",
     "output_type": "stream",
     "text": [
      "Log write at epoch: 13, step: 2800 and lr: 3e-06\n",
      "\n",
      "train result - loss: 0.0, acc: 0.99, f1: 0.984\n",
      "\n",
      "***** Running evaluation\n",
      "  Num examples = %d 1114\n"
     ]
    },
    {
     "data": {
      "application/vnd.jupyter.widget-view+json": {
       "model_id": "d8bfc4d7e75641028edf2b261b10fd88",
       "version_major": 2,
       "version_minor": 0
      },
      "text/plain": [
       "Evaluating:   0%|          | 0/70 [00:00<?, ?it/s]"
      ]
     },
     "metadata": {},
     "output_type": "display_data"
    },
    {
     "name": "stdout",
     "output_type": "stream",
     "text": [
      "val result - loss: 0.036, acc: 0.904, f1: 0.843\n",
      "\n",
      "end for logging current step 2800 !!!\n"
     ]
    },
    {
     "name": "stderr",
     "output_type": "stream",
     "text": [
      "C:\\Users\\ADMIN\\anaconda3\\envs\\bert_env\\Lib\\site-packages\\torch\\optim\\lr_scheduler.py:261: UserWarning: To get the last learning rate computed by the scheduler, please use `get_last_lr()`.\n",
      "  warnings.warn(\"To get the last learning rate computed by the scheduler, \"\n"
     ]
    },
    {
     "name": "stdout",
     "output_type": "stream",
     "text": [
      "Log write at epoch: 13, step: 2982 and lr: 3e-06\n",
      "\n",
      "train result - loss: 0.0, acc: 0.993, f1: 0.99\n",
      "\n",
      "***** Running evaluation\n",
      "  Num examples = %d 1114\n"
     ]
    },
    {
     "data": {
      "application/vnd.jupyter.widget-view+json": {
       "model_id": "c70c33a7cadf4f518a7cf7209397fa7d",
       "version_major": 2,
       "version_minor": 0
      },
      "text/plain": [
       "Evaluating:   0%|          | 0/70 [00:00<?, ?it/s]"
      ]
     },
     "metadata": {},
     "output_type": "display_data"
    },
    {
     "name": "stdout",
     "output_type": "stream",
     "text": [
      "val result - loss: 0.038, acc: 0.901, f1: 0.841\n",
      "\n",
      "end for logging current step 2982 !!!\n"
     ]
    },
    {
     "data": {
      "application/vnd.jupyter.widget-view+json": {
       "model_id": "9e955ac90db04b71858c1905b1bbbf2a",
       "version_major": 2,
       "version_minor": 0
      },
      "text/plain": [
       "training ...:   0%|          | 0/1063 [00:00<?, ?it/s]"
      ]
     },
     "metadata": {},
     "output_type": "display_data"
    },
    {
     "name": "stderr",
     "output_type": "stream",
     "text": [
      "C:\\Users\\ADMIN\\anaconda3\\envs\\bert_env\\Lib\\site-packages\\torch\\optim\\lr_scheduler.py:261: UserWarning: To get the last learning rate computed by the scheduler, please use `get_last_lr()`.\n",
      "  warnings.warn(\"To get the last learning rate computed by the scheduler, \"\n"
     ]
    },
    {
     "name": "stdout",
     "output_type": "stream",
     "text": [
      "Log write at epoch: 14, step: 3195 and lr: 2e-06\n",
      "\n",
      "train result - loss: 0.0, acc: 0.994, f1: 0.99\n",
      "\n",
      "***** Running evaluation\n",
      "  Num examples = %d 1114\n"
     ]
    },
    {
     "data": {
      "application/vnd.jupyter.widget-view+json": {
       "model_id": "54b77f6c41dc4bb388214c392914b439",
       "version_major": 2,
       "version_minor": 0
      },
      "text/plain": [
       "Evaluating:   0%|          | 0/70 [00:00<?, ?it/s]"
      ]
     },
     "metadata": {},
     "output_type": "display_data"
    },
    {
     "name": "stdout",
     "output_type": "stream",
     "text": [
      "val result - loss: 0.039, acc: 0.902, f1: 0.843\n",
      "\n",
      "end for logging current step 3195 !!!\n"
     ]
    },
    {
     "data": {
      "application/vnd.jupyter.widget-view+json": {
       "model_id": "607b2ca618664a2b90f5729ef9813425",
       "version_major": 2,
       "version_minor": 0
      },
      "text/plain": [
       "training ...:   0%|          | 0/1063 [00:00<?, ?it/s]"
      ]
     },
     "metadata": {},
     "output_type": "display_data"
    },
    {
     "name": "stderr",
     "output_type": "stream",
     "text": [
      "C:\\Users\\ADMIN\\anaconda3\\envs\\bert_env\\Lib\\site-packages\\torch\\optim\\lr_scheduler.py:261: UserWarning: To get the last learning rate computed by the scheduler, please use `get_last_lr()`.\n",
      "  warnings.warn(\"To get the last learning rate computed by the scheduler, \"\n"
     ]
    },
    {
     "name": "stdout",
     "output_type": "stream",
     "text": [
      "Log write at epoch: 15, step: 3200 and lr: 2e-06\n",
      "\n",
      "train result - loss: 0.0, acc: 0.99, f1: 0.982\n",
      "\n",
      "***** Running evaluation\n",
      "  Num examples = %d 1114\n"
     ]
    },
    {
     "data": {
      "application/vnd.jupyter.widget-view+json": {
       "model_id": "28c41af4da87481aa984be82c48fadf1",
       "version_major": 2,
       "version_minor": 0
      },
      "text/plain": [
       "Evaluating:   0%|          | 0/70 [00:00<?, ?it/s]"
      ]
     },
     "metadata": {},
     "output_type": "display_data"
    },
    {
     "name": "stdout",
     "output_type": "stream",
     "text": [
      "val result - loss: 0.04, acc: 0.902, f1: 0.843\n",
      "\n",
      "end for logging current step 3200 !!!\n"
     ]
    },
    {
     "name": "stderr",
     "output_type": "stream",
     "text": [
      "C:\\Users\\ADMIN\\anaconda3\\envs\\bert_env\\Lib\\site-packages\\torch\\optim\\lr_scheduler.py:261: UserWarning: To get the last learning rate computed by the scheduler, please use `get_last_lr()`.\n",
      "  warnings.warn(\"To get the last learning rate computed by the scheduler, \"\n"
     ]
    },
    {
     "name": "stdout",
     "output_type": "stream",
     "text": [
      "Log write at epoch: 15, step: 3408 and lr: 2e-06\n",
      "\n",
      "train result - loss: 0.0, acc: 0.993, f1: 0.99\n",
      "\n",
      "***** Running evaluation\n",
      "  Num examples = %d 1114\n"
     ]
    },
    {
     "data": {
      "application/vnd.jupyter.widget-view+json": {
       "model_id": "94c678d4d7a7421a9d1e1439a6d461c2",
       "version_major": 2,
       "version_minor": 0
      },
      "text/plain": [
       "Evaluating:   0%|          | 0/70 [00:00<?, ?it/s]"
      ]
     },
     "metadata": {},
     "output_type": "display_data"
    },
    {
     "name": "stdout",
     "output_type": "stream",
     "text": [
      "val result - loss: 0.041, acc: 0.898, f1: 0.838\n",
      "\n",
      "end for logging current step 3408 !!!\n"
     ]
    },
    {
     "data": {
      "application/vnd.jupyter.widget-view+json": {
       "model_id": "6ac843d326a3453e9da40a2956aeeee0",
       "version_major": 2,
       "version_minor": 0
      },
      "text/plain": [
       "training ...:   0%|          | 0/1063 [00:00<?, ?it/s]"
      ]
     },
     "metadata": {},
     "output_type": "display_data"
    },
    {
     "name": "stderr",
     "output_type": "stream",
     "text": [
      "C:\\Users\\ADMIN\\anaconda3\\envs\\bert_env\\Lib\\site-packages\\torch\\optim\\lr_scheduler.py:261: UserWarning: To get the last learning rate computed by the scheduler, please use `get_last_lr()`.\n",
      "  warnings.warn(\"To get the last learning rate computed by the scheduler, \"\n"
     ]
    },
    {
     "name": "stdout",
     "output_type": "stream",
     "text": [
      "Log write at epoch: 16, step: 3600 and lr: 2e-06\n",
      "\n",
      "train result - loss: 0.0, acc: 0.994, f1: 0.991\n",
      "\n",
      "***** Running evaluation\n",
      "  Num examples = %d 1114\n"
     ]
    },
    {
     "data": {
      "application/vnd.jupyter.widget-view+json": {
       "model_id": "666bddec37ca419bbd8c99aa953d2a26",
       "version_major": 2,
       "version_minor": 0
      },
      "text/plain": [
       "Evaluating:   0%|          | 0/70 [00:00<?, ?it/s]"
      ]
     },
     "metadata": {},
     "output_type": "display_data"
    },
    {
     "name": "stdout",
     "output_type": "stream",
     "text": [
      "val result - loss: 0.041, acc: 0.903, f1: 0.844\n",
      "\n",
      "end for logging current step 3600 !!!\n"
     ]
    },
    {
     "name": "stderr",
     "output_type": "stream",
     "text": [
      "C:\\Users\\ADMIN\\anaconda3\\envs\\bert_env\\Lib\\site-packages\\torch\\optim\\lr_scheduler.py:261: UserWarning: To get the last learning rate computed by the scheduler, please use `get_last_lr()`.\n",
      "  warnings.warn(\"To get the last learning rate computed by the scheduler, \"\n"
     ]
    },
    {
     "name": "stdout",
     "output_type": "stream",
     "text": [
      "Log write at epoch: 16, step: 3621 and lr: 1e-06\n",
      "\n",
      "train result - loss: 0.0, acc: 0.994, f1: 0.991\n",
      "\n",
      "***** Running evaluation\n",
      "  Num examples = %d 1114\n"
     ]
    },
    {
     "data": {
      "application/vnd.jupyter.widget-view+json": {
       "model_id": "ddd4bb6a568140f6bf80b63726943119",
       "version_major": 2,
       "version_minor": 0
      },
      "text/plain": [
       "Evaluating:   0%|          | 0/70 [00:00<?, ?it/s]"
      ]
     },
     "metadata": {},
     "output_type": "display_data"
    },
    {
     "name": "stdout",
     "output_type": "stream",
     "text": [
      "val result - loss: 0.041, acc: 0.901, f1: 0.841\n",
      "\n",
      "end for logging current step 3621 !!!\n"
     ]
    },
    {
     "data": {
      "application/vnd.jupyter.widget-view+json": {
       "model_id": "526a388ed96b428cb87eab1aa2440915",
       "version_major": 2,
       "version_minor": 0
      },
      "text/plain": [
       "training ...:   0%|          | 0/1063 [00:00<?, ?it/s]"
      ]
     },
     "metadata": {},
     "output_type": "display_data"
    },
    {
     "name": "stderr",
     "output_type": "stream",
     "text": [
      "C:\\Users\\ADMIN\\anaconda3\\envs\\bert_env\\Lib\\site-packages\\torch\\optim\\lr_scheduler.py:261: UserWarning: To get the last learning rate computed by the scheduler, please use `get_last_lr()`.\n",
      "  warnings.warn(\"To get the last learning rate computed by the scheduler, \"\n"
     ]
    },
    {
     "name": "stdout",
     "output_type": "stream",
     "text": [
      "Log write at epoch: 17, step: 3834 and lr: 1e-06\n",
      "\n",
      "train result - loss: 0.0, acc: 0.996, f1: 0.993\n",
      "\n",
      "***** Running evaluation\n",
      "  Num examples = %d 1114\n"
     ]
    },
    {
     "data": {
      "application/vnd.jupyter.widget-view+json": {
       "model_id": "ead1f336573d4211a4fc10f64e1d2240",
       "version_major": 2,
       "version_minor": 0
      },
      "text/plain": [
       "Evaluating:   0%|          | 0/70 [00:00<?, ?it/s]"
      ]
     },
     "metadata": {},
     "output_type": "display_data"
    },
    {
     "name": "stdout",
     "output_type": "stream",
     "text": [
      "val result - loss: 0.042, acc: 0.903, f1: 0.845\n",
      "\n",
      "end for logging current step 3834 !!!\n"
     ]
    },
    {
     "data": {
      "application/vnd.jupyter.widget-view+json": {
       "model_id": "d2888dc0272d4c44a3d567b0ba048580",
       "version_major": 2,
       "version_minor": 0
      },
      "text/plain": [
       "training ...:   0%|          | 0/1063 [00:00<?, ?it/s]"
      ]
     },
     "metadata": {},
     "output_type": "display_data"
    },
    {
     "name": "stderr",
     "output_type": "stream",
     "text": [
      "C:\\Users\\ADMIN\\anaconda3\\envs\\bert_env\\Lib\\site-packages\\torch\\optim\\lr_scheduler.py:261: UserWarning: To get the last learning rate computed by the scheduler, please use `get_last_lr()`.\n",
      "  warnings.warn(\"To get the last learning rate computed by the scheduler, \"\n"
     ]
    },
    {
     "name": "stdout",
     "output_type": "stream",
     "text": [
      "Log write at epoch: 18, step: 4000 and lr: 1e-06\n",
      "\n",
      "train result - loss: 0.0, acc: 0.996, f1: 0.993\n",
      "\n",
      "***** Running evaluation\n",
      "  Num examples = %d 1114\n"
     ]
    },
    {
     "data": {
      "application/vnd.jupyter.widget-view+json": {
       "model_id": "d132ddc7d086470f95d84ca28b8b1949",
       "version_major": 2,
       "version_minor": 0
      },
      "text/plain": [
       "Evaluating:   0%|          | 0/70 [00:00<?, ?it/s]"
      ]
     },
     "metadata": {},
     "output_type": "display_data"
    },
    {
     "name": "stdout",
     "output_type": "stream",
     "text": [
      "val result - loss: 0.043, acc: 0.902, f1: 0.843\n",
      "\n",
      "end for logging current step 4000 !!!\n"
     ]
    },
    {
     "name": "stderr",
     "output_type": "stream",
     "text": [
      "C:\\Users\\ADMIN\\anaconda3\\envs\\bert_env\\Lib\\site-packages\\torch\\optim\\lr_scheduler.py:261: UserWarning: To get the last learning rate computed by the scheduler, please use `get_last_lr()`.\n",
      "  warnings.warn(\"To get the last learning rate computed by the scheduler, \"\n"
     ]
    },
    {
     "name": "stdout",
     "output_type": "stream",
     "text": [
      "Log write at epoch: 18, step: 4047 and lr: 0.0\n",
      "\n",
      "train result - loss: 0.0, acc: 0.996, f1: 0.994\n",
      "\n",
      "***** Running evaluation\n",
      "  Num examples = %d 1114\n"
     ]
    },
    {
     "data": {
      "application/vnd.jupyter.widget-view+json": {
       "model_id": "a73ae6901ff24b25a531296718c12d13",
       "version_major": 2,
       "version_minor": 0
      },
      "text/plain": [
       "Evaluating:   0%|          | 0/70 [00:00<?, ?it/s]"
      ]
     },
     "metadata": {},
     "output_type": "display_data"
    },
    {
     "name": "stdout",
     "output_type": "stream",
     "text": [
      "val result - loss: 0.043, acc: 0.903, f1: 0.845\n",
      "\n",
      "end for logging current step 4047 !!!\n"
     ]
    },
    {
     "data": {
      "application/vnd.jupyter.widget-view+json": {
       "model_id": "0556bfa377bc43cabc807614e3e3d503",
       "version_major": 2,
       "version_minor": 0
      },
      "text/plain": [
       "training ...:   0%|          | 0/1063 [00:00<?, ?it/s]"
      ]
     },
     "metadata": {},
     "output_type": "display_data"
    },
    {
     "name": "stderr",
     "output_type": "stream",
     "text": [
      "C:\\Users\\ADMIN\\anaconda3\\envs\\bert_env\\Lib\\site-packages\\torch\\optim\\lr_scheduler.py:261: UserWarning: To get the last learning rate computed by the scheduler, please use `get_last_lr()`.\n",
      "  warnings.warn(\"To get the last learning rate computed by the scheduler, \"\n"
     ]
    },
    {
     "name": "stdout",
     "output_type": "stream",
     "text": [
      "Log write at epoch: 19, step: 4260 and lr: 0.0\n",
      "\n",
      "train result - loss: 0.0, acc: 0.997, f1: 0.995\n",
      "\n",
      "***** Running evaluation\n",
      "  Num examples = %d 1114\n"
     ]
    },
    {
     "data": {
      "application/vnd.jupyter.widget-view+json": {
       "model_id": "ffafc038529d4bc68a3e76927b042da9",
       "version_major": 2,
       "version_minor": 0
      },
      "text/plain": [
       "Evaluating:   0%|          | 0/70 [00:00<?, ?it/s]"
      ]
     },
     "metadata": {},
     "output_type": "display_data"
    },
    {
     "name": "stdout",
     "output_type": "stream",
     "text": [
      "val result - loss: 0.043, acc: 0.902, f1: 0.843\n",
      "\n",
      "end for logging current step 4260 !!!\n"
     ]
    }
   ],
   "source": [
    "args = Args()\n",
    "train_model_bert(args)"
   ]
  },
  {
   "cell_type": "code",
   "execution_count": 7,
   "id": "798e4cff-328b-4aed-b36a-59b56e6637c2",
   "metadata": {},
   "outputs": [
    {
     "data": {
      "application/vnd.jupyter.widget-view+json": {
       "model_id": "",
       "version_major": 2,
       "version_minor": 0
      },
      "text/plain": [
       "VBox(children=(Label(value='0.001 MB of 0.001 MB uploaded\\r'), FloatProgress(value=1.0, max=1.0)))"
      ]
     },
     "metadata": {},
     "output_type": "display_data"
    },
    {
     "data": {
      "text/html": [
       "<style>\n",
       "    table.wandb td:nth-child(1) { padding: 0 10px; text-align: left ; width: auto;} td:nth-child(2) {text-align: left ; width: 100%}\n",
       "    .wandb-row { display: flex; flex-direction: row; flex-wrap: wrap; justify-content: flex-start; width: 100% }\n",
       "    .wandb-col { display: flex; flex-direction: column; flex-basis: 100%; flex: 1; padding: 10px; }\n",
       "    </style>\n",
       "<div class=\"wandb-row\"><div class=\"wandb-col\"><h3>Run history:</h3><br/><table class=\"wandb\"><tr><td>Scheduler</td><td>███▇▇▇▇▆▆▆▆▅▅▅▅▄▄▄▄▄▃▃▃▂▂▂▂▁▁▁</td></tr><tr><td>Train_acc</td><td>▁▄▄▅▆▆▇▇▇▇▇▇██████████████████</td></tr><tr><td>Train_f1</td><td>▁▄▄▅▆▆▇▇▇▇█▇██████████████████</td></tr><tr><td>Train_loss</td><td>█▅▅▅▂▄▂▂▂▂▁▂▂▁▁▁▁▁▁▁▁▁▁▁▁▁▁▁▁▁</td></tr><tr><td>Val_acc</td><td>▁▅▆▆▆▆▆▇▆▆▆▇▇▇▇██▇▇████▇██████</td></tr><tr><td>Val_f1</td><td>▁▅▅▆▆▆▅▇▆▆▆▇▇▇▇███▇████▇██████</td></tr><tr><td>Val_loss</td><td>▂▁▁▁▂▂▂▃▃▄▄▄▄▅▅▅▅▅▆▆▇▇▇▇▇▇████</td></tr></table><br/></div><div class=\"wandb-col\"><h3>Run summary:</h3><br/><table class=\"wandb\"><tr><td>Scheduler</td><td>0.0</td></tr><tr><td>Train_acc</td><td>0.997</td></tr><tr><td>Train_f1</td><td>0.995</td></tr><tr><td>Train_loss</td><td>0.0</td></tr><tr><td>Val_acc</td><td>0.902</td></tr><tr><td>Val_f1</td><td>0.843</td></tr><tr><td>Val_loss</td><td>0.043</td></tr></table><br/></div></div>"
      ],
      "text/plain": [
       "<IPython.core.display.HTML object>"
      ]
     },
     "metadata": {},
     "output_type": "display_data"
    },
    {
     "data": {
      "text/html": [
       " View run <strong style=\"color:#cdcd00\">copper-frog-6</strong> at: <a href='https://wandb.ai/ntluong/Bert_zalo/runs/its4bmba' target=\"_blank\">https://wandb.ai/ntluong/Bert_zalo/runs/its4bmba</a><br/> View job at <a href='https://wandb.ai/ntluong/Bert_zalo/jobs/QXJ0aWZhY3RDb2xsZWN0aW9uOjEyNTE4NDQ4MA==/version_details/v0' target=\"_blank\">https://wandb.ai/ntluong/Bert_zalo/jobs/QXJ0aWZhY3RDb2xsZWN0aW9uOjEyNTE4NDQ4MA==/version_details/v0</a><br/>Synced 6 W&B file(s), 0 media file(s), 2 artifact file(s) and 0 other file(s)"
      ],
      "text/plain": [
       "<IPython.core.display.HTML object>"
      ]
     },
     "metadata": {},
     "output_type": "display_data"
    },
    {
     "data": {
      "text/html": [
       "Find logs at: <code>.\\wandb\\run-20231222_091326-its4bmba\\logs</code>"
      ],
      "text/plain": [
       "<IPython.core.display.HTML object>"
      ]
     },
     "metadata": {},
     "output_type": "display_data"
    }
   ],
   "source": [
    "wandb.finish()"
   ]
  },
  {
   "cell_type": "code",
   "execution_count": null,
   "id": "e211c0a0-afb5-4734-a9c0-5d7d08077ef9",
   "metadata": {},
   "outputs": [],
   "source": []
  }
 ],
 "metadata": {
  "kernelspec": {
   "display_name": "Python 3 (ipykernel)",
   "language": "python",
   "name": "python3"
  },
  "language_info": {
   "codemirror_mode": {
    "name": "ipython",
    "version": 3
   },
   "file_extension": ".py",
   "mimetype": "text/x-python",
   "name": "python",
   "nbconvert_exporter": "python",
   "pygments_lexer": "ipython3",
   "version": "3.11.5"
  }
 },
 "nbformat": 4,
 "nbformat_minor": 5
}
